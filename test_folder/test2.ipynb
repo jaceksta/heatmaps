{
 "cells": [
  {
   "cell_type": "code",
   "execution_count": 45,
   "metadata": {},
   "outputs": [],
   "source": [
    "import numpy as np\n",
    "import pandas as pd\n",
    "import matplotlib.pyplot as plt\n",
    "from mplsoccer import Pitch, Sbopen\n",
    "\n",
    "\n",
    "\n",
    "\n",
    "\n"
   ]
  },
  {
   "cell_type": "code",
   "execution_count": 57,
   "metadata": {},
   "outputs": [],
   "source": [
    "parser = Sbopen()\n",
    "\n",
    "games = parser.match(competition_id=55, season_id=282)\n",
    "\n",
    "games[(games['home_team_name'] == 'Poland') | (games['away_team_name'] == 'Poland')]\n",
    "\n",
    "temp_game = games[games['match_id'] == 3938641]\n",
    "\n",
    "home_team = temp_game['home_team_name'].values[0]\n",
    "away_team = temp_game['away_team_name'].values[0]\n",
    "\n",
    "events, related, freeze, tactics = parser.event(3938641)\n",
    "\n",
    "pitch = Pitch(line_zorder=2)\n",
    "df = events.loc[(events['type_name'] == 'Pass') & (events['play_pattern_name'] == 'Regular Play')].copy()\n",
    "\n",
    "df = df[['team_name', 'x', 'y']]\n",
    "\n",
    "df.rename(columns={'team_name': 'team'}, inplace=True)\n",
    "\n",
    "team_a = df[df['team'] == home_team]\n",
    "team_b = df[df['team'] == away_team]"
   ]
  },
  {
   "cell_type": "code",
   "execution_count": 58,
   "metadata": {},
   "outputs": [
    {
     "name": "stderr",
     "output_type": "stream",
     "text": [
      "/var/folders/mn/686s79xs0mv06qcjlx9yv1440000gn/T/ipykernel_21041/3926305167.py:1: SettingWithCopyWarning: \n",
      "A value is trying to be set on a copy of a slice from a DataFrame.\n",
      "Try using .loc[row_indexer,col_indexer] = value instead\n",
      "\n",
      "See the caveats in the documentation: https://pandas.pydata.org/pandas-docs/stable/user_guide/indexing.html#returning-a-view-versus-a-copy\n",
      "  team_b['x'] = 120-team_b['x']\n",
      "/var/folders/mn/686s79xs0mv06qcjlx9yv1440000gn/T/ipykernel_21041/3926305167.py:2: SettingWithCopyWarning: \n",
      "A value is trying to be set on a copy of a slice from a DataFrame.\n",
      "Try using .loc[row_indexer,col_indexer] = value instead\n",
      "\n",
      "See the caveats in the documentation: https://pandas.pydata.org/pandas-docs/stable/user_guide/indexing.html#returning-a-view-versus-a-copy\n",
      "  team_b['y'] = 80-team_b['y']\n"
     ]
    }
   ],
   "source": [
    "team_b['x'] = 120-team_b['x']\n",
    "team_b['y'] = 80-team_b['y']\n",
    "\n"
   ]
  },
  {
   "cell_type": "code",
   "execution_count": 17,
   "metadata": {},
   "outputs": [
    {
     "data": {
      "text/plain": [
       "team     object\n",
       "x       float64\n",
       "y       float64\n",
       "dtype: object"
      ]
     },
     "execution_count": 17,
     "metadata": {},
     "output_type": "execute_result"
    }
   ],
   "source": [
    "team_a.dtypes"
   ]
  },
  {
   "cell_type": "code",
   "execution_count": 59,
   "metadata": {},
   "outputs": [],
   "source": [
    "df = pd.concat([team_a, team_b])\n",
    "\n",
    "# Define pitch dimensions (length and width)\n",
    "pitch_length = 120\n",
    "pitch_width = 80\n",
    "\n",
    "# Divide pitch into 30 zones (e.g., 5 rows x 6 columns)\n",
    "num_vertical_zones = 5\n",
    "num_horizontal_zones = 6\n",
    "\n",
    "# Calculate zone boundaries\n",
    "x_bins = np.linspace(0, pitch_length, num_horizontal_zones + 1)\n",
    "y_bins = np.linspace(0, pitch_width, num_vertical_zones + 1)\n",
    "\n",
    "# Count passes in each zone for each team\n",
    "df['x_bin'] = pd.cut(df['x'], bins=x_bins, labels=False)\n",
    "df['y_bin'] = pd.cut(df['y'], bins=y_bins, labels=False)\n",
    "\n",
    "pass_counts = df.groupby(['x_bin', 'y_bin', 'team']).size().unstack(fill_value=0)\n",
    "\n"
   ]
  },
  {
   "cell_type": "code",
   "execution_count": 49,
   "metadata": {},
   "outputs": [
    {
     "data": {
      "text/html": [
       "<div>\n",
       "<style scoped>\n",
       "    .dataframe tbody tr th:only-of-type {\n",
       "        vertical-align: middle;\n",
       "    }\n",
       "\n",
       "    .dataframe tbody tr th {\n",
       "        vertical-align: top;\n",
       "    }\n",
       "\n",
       "    .dataframe thead th {\n",
       "        text-align: right;\n",
       "    }\n",
       "</style>\n",
       "<table border=\"1\" class=\"dataframe\">\n",
       "  <thead>\n",
       "    <tr style=\"text-align: right;\">\n",
       "      <th></th>\n",
       "      <th>team</th>\n",
       "      <th>x</th>\n",
       "      <th>y</th>\n",
       "      <th>x_bin</th>\n",
       "      <th>y_bin</th>\n",
       "    </tr>\n",
       "  </thead>\n",
       "  <tbody>\n",
       "  </tbody>\n",
       "</table>\n",
       "</div>"
      ],
      "text/plain": [
       "Empty DataFrame\n",
       "Columns: [team, x, y, x_bin, y_bin]\n",
       "Index: []"
      ]
     },
     "execution_count": 49,
     "metadata": {},
     "output_type": "execute_result"
    }
   ],
   "source": [
    "df[df['x_bin'].isna()]"
   ]
  },
  {
   "cell_type": "code",
   "execution_count": 60,
   "metadata": {},
   "outputs": [
    {
     "data": {
      "text/html": [
       "<div>\n",
       "<style scoped>\n",
       "    .dataframe tbody tr th:only-of-type {\n",
       "        vertical-align: middle;\n",
       "    }\n",
       "\n",
       "    .dataframe tbody tr th {\n",
       "        vertical-align: top;\n",
       "    }\n",
       "\n",
       "    .dataframe thead th {\n",
       "        text-align: right;\n",
       "    }\n",
       "</style>\n",
       "<table border=\"1\" class=\"dataframe\">\n",
       "  <thead>\n",
       "    <tr style=\"text-align: right;\">\n",
       "      <th></th>\n",
       "      <th>team</th>\n",
       "      <th>Austria</th>\n",
       "      <th>Poland</th>\n",
       "    </tr>\n",
       "    <tr>\n",
       "      <th>x_bin</th>\n",
       "      <th>y_bin</th>\n",
       "      <th></th>\n",
       "      <th></th>\n",
       "    </tr>\n",
       "  </thead>\n",
       "  <tbody>\n",
       "    <tr>\n",
       "      <th rowspan=\"5\" valign=\"top\">0</th>\n",
       "      <th>0</th>\n",
       "      <td>3</td>\n",
       "      <td>3</td>\n",
       "    </tr>\n",
       "    <tr>\n",
       "      <th>1</th>\n",
       "      <td>1</td>\n",
       "      <td>3</td>\n",
       "    </tr>\n",
       "    <tr>\n",
       "      <th>2</th>\n",
       "      <td>1</td>\n",
       "      <td>8</td>\n",
       "    </tr>\n",
       "    <tr>\n",
       "      <th>3</th>\n",
       "      <td>6</td>\n",
       "      <td>5</td>\n",
       "    </tr>\n",
       "    <tr>\n",
       "      <th>4</th>\n",
       "      <td>4</td>\n",
       "      <td>2</td>\n",
       "    </tr>\n",
       "    <tr>\n",
       "      <th rowspan=\"5\" valign=\"top\">1</th>\n",
       "      <th>0</th>\n",
       "      <td>7</td>\n",
       "      <td>3</td>\n",
       "    </tr>\n",
       "    <tr>\n",
       "      <th>1</th>\n",
       "      <td>8</td>\n",
       "      <td>5</td>\n",
       "    </tr>\n",
       "    <tr>\n",
       "      <th>2</th>\n",
       "      <td>11</td>\n",
       "      <td>4</td>\n",
       "    </tr>\n",
       "    <tr>\n",
       "      <th>3</th>\n",
       "      <td>11</td>\n",
       "      <td>7</td>\n",
       "    </tr>\n",
       "    <tr>\n",
       "      <th>4</th>\n",
       "      <td>12</td>\n",
       "      <td>3</td>\n",
       "    </tr>\n",
       "    <tr>\n",
       "      <th rowspan=\"5\" valign=\"top\">2</th>\n",
       "      <th>0</th>\n",
       "      <td>3</td>\n",
       "      <td>11</td>\n",
       "    </tr>\n",
       "    <tr>\n",
       "      <th>1</th>\n",
       "      <td>7</td>\n",
       "      <td>3</td>\n",
       "    </tr>\n",
       "    <tr>\n",
       "      <th>2</th>\n",
       "      <td>13</td>\n",
       "      <td>3</td>\n",
       "    </tr>\n",
       "    <tr>\n",
       "      <th>3</th>\n",
       "      <td>11</td>\n",
       "      <td>3</td>\n",
       "    </tr>\n",
       "    <tr>\n",
       "      <th>4</th>\n",
       "      <td>15</td>\n",
       "      <td>8</td>\n",
       "    </tr>\n",
       "    <tr>\n",
       "      <th rowspan=\"5\" valign=\"top\">3</th>\n",
       "      <th>0</th>\n",
       "      <td>10</td>\n",
       "      <td>5</td>\n",
       "    </tr>\n",
       "    <tr>\n",
       "      <th>1</th>\n",
       "      <td>16</td>\n",
       "      <td>5</td>\n",
       "    </tr>\n",
       "    <tr>\n",
       "      <th>2</th>\n",
       "      <td>11</td>\n",
       "      <td>1</td>\n",
       "    </tr>\n",
       "    <tr>\n",
       "      <th>3</th>\n",
       "      <td>7</td>\n",
       "      <td>5</td>\n",
       "    </tr>\n",
       "    <tr>\n",
       "      <th>4</th>\n",
       "      <td>13</td>\n",
       "      <td>2</td>\n",
       "    </tr>\n",
       "    <tr>\n",
       "      <th rowspan=\"5\" valign=\"top\">4</th>\n",
       "      <th>0</th>\n",
       "      <td>7</td>\n",
       "      <td>5</td>\n",
       "    </tr>\n",
       "    <tr>\n",
       "      <th>1</th>\n",
       "      <td>12</td>\n",
       "      <td>2</td>\n",
       "    </tr>\n",
       "    <tr>\n",
       "      <th>2</th>\n",
       "      <td>10</td>\n",
       "      <td>2</td>\n",
       "    </tr>\n",
       "    <tr>\n",
       "      <th>3</th>\n",
       "      <td>6</td>\n",
       "      <td>0</td>\n",
       "    </tr>\n",
       "    <tr>\n",
       "      <th>4</th>\n",
       "      <td>2</td>\n",
       "      <td>4</td>\n",
       "    </tr>\n",
       "    <tr>\n",
       "      <th rowspan=\"4\" valign=\"top\">5</th>\n",
       "      <th>0</th>\n",
       "      <td>4</td>\n",
       "      <td>1</td>\n",
       "    </tr>\n",
       "    <tr>\n",
       "      <th>1</th>\n",
       "      <td>11</td>\n",
       "      <td>0</td>\n",
       "    </tr>\n",
       "    <tr>\n",
       "      <th>2</th>\n",
       "      <td>8</td>\n",
       "      <td>0</td>\n",
       "    </tr>\n",
       "    <tr>\n",
       "      <th>3</th>\n",
       "      <td>1</td>\n",
       "      <td>0</td>\n",
       "    </tr>\n",
       "  </tbody>\n",
       "</table>\n",
       "</div>"
      ],
      "text/plain": [
       "team         Austria  Poland\n",
       "x_bin y_bin                 \n",
       "0     0            3       3\n",
       "      1            1       3\n",
       "      2            1       8\n",
       "      3            6       5\n",
       "      4            4       2\n",
       "1     0            7       3\n",
       "      1            8       5\n",
       "      2           11       4\n",
       "      3           11       7\n",
       "      4           12       3\n",
       "2     0            3      11\n",
       "      1            7       3\n",
       "      2           13       3\n",
       "      3           11       3\n",
       "      4           15       8\n",
       "3     0           10       5\n",
       "      1           16       5\n",
       "      2           11       1\n",
       "      3            7       5\n",
       "      4           13       2\n",
       "4     0            7       5\n",
       "      1           12       2\n",
       "      2           10       2\n",
       "      3            6       0\n",
       "      4            2       4\n",
       "5     0            4       1\n",
       "      1           11       0\n",
       "      2            8       0\n",
       "      3            1       0"
      ]
     },
     "execution_count": 60,
     "metadata": {},
     "output_type": "execute_result"
    }
   ],
   "source": [
    "pass_counts"
   ]
  },
  {
   "cell_type": "code",
   "execution_count": 27,
   "metadata": {},
   "outputs": [
    {
     "ename": "KeyError",
     "evalue": "'x_bin'",
     "output_type": "error",
     "traceback": [
      "\u001b[0;31m---------------------------------------------------------------------------\u001b[0m",
      "\u001b[0;31mKeyError\u001b[0m                                  Traceback (most recent call last)",
      "File \u001b[0;32m/Library/Frameworks/Python.framework/Versions/3.11/lib/python3.11/site-packages/pandas/core/indexes/base.py:3802\u001b[0m, in \u001b[0;36mIndex.get_loc\u001b[0;34m(self, key)\u001b[0m\n\u001b[1;32m   3801\u001b[0m \u001b[38;5;28;01mtry\u001b[39;00m:\n\u001b[0;32m-> 3802\u001b[0m     \u001b[38;5;28;01mreturn\u001b[39;00m \u001b[38;5;28;43mself\u001b[39;49m\u001b[38;5;241;43m.\u001b[39;49m\u001b[43m_engine\u001b[49m\u001b[38;5;241;43m.\u001b[39;49m\u001b[43mget_loc\u001b[49m\u001b[43m(\u001b[49m\u001b[43mcasted_key\u001b[49m\u001b[43m)\u001b[49m\n\u001b[1;32m   3803\u001b[0m \u001b[38;5;28;01mexcept\u001b[39;00m \u001b[38;5;167;01mKeyError\u001b[39;00m \u001b[38;5;28;01mas\u001b[39;00m err:\n",
      "File \u001b[0;32mindex.pyx:153\u001b[0m, in \u001b[0;36mpandas._libs.index.IndexEngine.get_loc\u001b[0;34m()\u001b[0m\n",
      "File \u001b[0;32mindex.pyx:182\u001b[0m, in \u001b[0;36mpandas._libs.index.IndexEngine.get_loc\u001b[0;34m()\u001b[0m\n",
      "File \u001b[0;32mpandas/_libs/hashtable_class_helper.pxi:7081\u001b[0m, in \u001b[0;36mpandas._libs.hashtable.PyObjectHashTable.get_item\u001b[0;34m()\u001b[0m\n",
      "File \u001b[0;32mpandas/_libs/hashtable_class_helper.pxi:7089\u001b[0m, in \u001b[0;36mpandas._libs.hashtable.PyObjectHashTable.get_item\u001b[0;34m()\u001b[0m\n",
      "\u001b[0;31mKeyError\u001b[0m: 'x_bin'",
      "\nThe above exception was the direct cause of the following exception:\n",
      "\u001b[0;31mKeyError\u001b[0m                                  Traceback (most recent call last)",
      "Cell \u001b[0;32mIn[27], line 1\u001b[0m\n\u001b[0;32m----> 1\u001b[0m pass_counts[\u001b[38;5;124m'\u001b[39m\u001b[38;5;124mx_bin\u001b[39m\u001b[38;5;124m'\u001b[39m] \u001b[38;5;241m=\u001b[39m \u001b[43mpass_counts\u001b[49m\u001b[43m[\u001b[49m\u001b[38;5;124;43m'\u001b[39;49m\u001b[38;5;124;43mx_bin\u001b[39;49m\u001b[38;5;124;43m'\u001b[39;49m\u001b[43m]\u001b[49m\u001b[38;5;241m.\u001b[39mastype(\u001b[38;5;124m'\u001b[39m\u001b[38;5;124mint64\u001b[39m\u001b[38;5;124m'\u001b[39m)\n\u001b[1;32m      2\u001b[0m pass_counts[\u001b[38;5;124m'\u001b[39m\u001b[38;5;124my_bin\u001b[39m\u001b[38;5;124m'\u001b[39m] \u001b[38;5;241m=\u001b[39m pass_counts[\u001b[38;5;124m'\u001b[39m\u001b[38;5;124my_bin\u001b[39m\u001b[38;5;124m'\u001b[39m]\u001b[38;5;241m.\u001b[39mastype(\u001b[38;5;124m'\u001b[39m\u001b[38;5;124mint64\u001b[39m\u001b[38;5;124m'\u001b[39m)\n",
      "File \u001b[0;32m/Library/Frameworks/Python.framework/Versions/3.11/lib/python3.11/site-packages/pandas/core/frame.py:4090\u001b[0m, in \u001b[0;36mDataFrame.__getitem__\u001b[0;34m(self, key)\u001b[0m\n\u001b[1;32m   4088\u001b[0m \u001b[38;5;28;01mif\u001b[39;00m \u001b[38;5;28mself\u001b[39m\u001b[38;5;241m.\u001b[39mcolumns\u001b[38;5;241m.\u001b[39mnlevels \u001b[38;5;241m>\u001b[39m \u001b[38;5;241m1\u001b[39m:\n\u001b[1;32m   4089\u001b[0m     \u001b[38;5;28;01mreturn\u001b[39;00m \u001b[38;5;28mself\u001b[39m\u001b[38;5;241m.\u001b[39m_getitem_multilevel(key)\n\u001b[0;32m-> 4090\u001b[0m indexer \u001b[38;5;241m=\u001b[39m \u001b[38;5;28;43mself\u001b[39;49m\u001b[38;5;241;43m.\u001b[39;49m\u001b[43mcolumns\u001b[49m\u001b[38;5;241;43m.\u001b[39;49m\u001b[43mget_loc\u001b[49m\u001b[43m(\u001b[49m\u001b[43mkey\u001b[49m\u001b[43m)\u001b[49m\n\u001b[1;32m   4091\u001b[0m \u001b[38;5;28;01mif\u001b[39;00m is_integer(indexer):\n\u001b[1;32m   4092\u001b[0m     indexer \u001b[38;5;241m=\u001b[39m [indexer]\n",
      "File \u001b[0;32m/Library/Frameworks/Python.framework/Versions/3.11/lib/python3.11/site-packages/pandas/core/indexes/base.py:3809\u001b[0m, in \u001b[0;36mIndex.get_loc\u001b[0;34m(self, key)\u001b[0m\n\u001b[1;32m   3804\u001b[0m     \u001b[38;5;28;01mif\u001b[39;00m \u001b[38;5;28misinstance\u001b[39m(casted_key, \u001b[38;5;28mslice\u001b[39m) \u001b[38;5;129;01mor\u001b[39;00m (\n\u001b[1;32m   3805\u001b[0m         \u001b[38;5;28misinstance\u001b[39m(casted_key, abc\u001b[38;5;241m.\u001b[39mIterable)\n\u001b[1;32m   3806\u001b[0m         \u001b[38;5;129;01mand\u001b[39;00m \u001b[38;5;28many\u001b[39m(\u001b[38;5;28misinstance\u001b[39m(x, \u001b[38;5;28mslice\u001b[39m) \u001b[38;5;28;01mfor\u001b[39;00m x \u001b[38;5;129;01min\u001b[39;00m casted_key)\n\u001b[1;32m   3807\u001b[0m     ):\n\u001b[1;32m   3808\u001b[0m         \u001b[38;5;28;01mraise\u001b[39;00m InvalidIndexError(key)\n\u001b[0;32m-> 3809\u001b[0m     \u001b[38;5;28;01mraise\u001b[39;00m \u001b[38;5;167;01mKeyError\u001b[39;00m(key) \u001b[38;5;28;01mfrom\u001b[39;00m \u001b[38;5;21;01merr\u001b[39;00m\n\u001b[1;32m   3810\u001b[0m \u001b[38;5;28;01mexcept\u001b[39;00m \u001b[38;5;167;01mTypeError\u001b[39;00m:\n\u001b[1;32m   3811\u001b[0m     \u001b[38;5;66;03m# If we have a listlike key, _check_indexing_error will raise\u001b[39;00m\n\u001b[1;32m   3812\u001b[0m     \u001b[38;5;66;03m#  InvalidIndexError. Otherwise we fall through and re-raise\u001b[39;00m\n\u001b[1;32m   3813\u001b[0m     \u001b[38;5;66;03m#  the TypeError.\u001b[39;00m\n\u001b[1;32m   3814\u001b[0m     \u001b[38;5;28mself\u001b[39m\u001b[38;5;241m.\u001b[39m_check_indexing_error(key)\n",
      "\u001b[0;31mKeyError\u001b[0m: 'x_bin'"
     ]
    }
   ],
   "source": [
    "pass_counts['x_bin'] = pass_counts['x_bin'].astype('int64')\n",
    "pass_counts['y_bin'] = pass_counts['y_bin'].astype('int64')"
   ]
  },
  {
   "cell_type": "code",
   "execution_count": 56,
   "metadata": {},
   "outputs": [
    {
     "data": {
      "text/plain": [
       "'Poland'"
      ]
     },
     "execution_count": 56,
     "metadata": {},
     "output_type": "execute_result"
    }
   ],
   "source": [
    "home_team\n"
   ]
  },
  {
   "cell_type": "code",
   "execution_count": 61,
   "metadata": {},
   "outputs": [
    {
     "data": {
      "text/plain": [
       "x_bin  y_bin\n",
       "0      0         0\n",
       "       1         2\n",
       "       2         7\n",
       "       3        -1\n",
       "       4        -2\n",
       "1      0        -4\n",
       "       1        -3\n",
       "       2        -7\n",
       "       3        -4\n",
       "       4        -9\n",
       "2      0         8\n",
       "       1        -4\n",
       "       2       -10\n",
       "       3        -8\n",
       "       4        -7\n",
       "3      0        -5\n",
       "       1       -11\n",
       "       2       -10\n",
       "       3        -2\n",
       "       4       -11\n",
       "4      0        -2\n",
       "       1       -10\n",
       "       2        -8\n",
       "       3        -6\n",
       "       4         2\n",
       "5      0        -3\n",
       "       1       -11\n",
       "       2        -8\n",
       "       3        -1\n",
       "dtype: int64"
      ]
     },
     "execution_count": 61,
     "metadata": {},
     "output_type": "execute_result"
    }
   ],
   "source": [
    "# Calculate the difference between Team A and Team B in each zone\n",
    "pass_diff = pass_counts.get(home_team, 0) - pass_counts.get(away_team, 0)\n",
    "\n",
    "pass_diff"
   ]
  },
  {
   "cell_type": "code",
   "execution_count": 22,
   "metadata": {},
   "outputs": [
    {
     "data": {
      "text/plain": [
       "array([[0., 0., 0., 0., 0., 0.],\n",
       "       [0., 0., 0., 0., 0., 0.],\n",
       "       [0., 0., 0., 0., 0., 0.],\n",
       "       [0., 0., 0., 0., 0., 0.],\n",
       "       [0., 0., 0., 0., 0., 0.]])"
      ]
     },
     "execution_count": 22,
     "metadata": {},
     "output_type": "execute_result"
    }
   ],
   "source": [
    "pass_diff_matrix"
   ]
  },
  {
   "cell_type": "code",
   "execution_count": 80,
   "metadata": {},
   "outputs": [],
   "source": [
    "# Create a 2D array of the differences with proper shape\n",
    "pass_diff_matrix = np.zeros((num_vertical_zones, num_horizontal_zones))\n",
    "\n",
    "for (x_bin, y_bin), value in pass_diff.items():\n",
    "    pass_diff_matrix[y_bin, x_bin] = value\n",
    "    \n",
    "\n"
   ]
  },
  {
   "cell_type": "code",
   "execution_count": 83,
   "metadata": {},
   "outputs": [
    {
     "data": {
      "text/plain": [
       "array([[  0.,  -4.,   8.,  -5.,  -2.,  -3.],\n",
       "       [  2.,  -3.,  -4., -11., -10., -11.],\n",
       "       [  7.,  -7., -10., -10.,  -8.,  -8.],\n",
       "       [ -1.,  -4.,  -8.,  -2.,  -6.,  -1.],\n",
       "       [ -2.,  -9.,  -7., -11.,   2.,   0.]])"
      ]
     },
     "execution_count": 83,
     "metadata": {},
     "output_type": "execute_result"
    }
   ],
   "source": [
    "pass_diff_matrix"
   ]
  },
  {
   "cell_type": "code",
   "execution_count": 94,
   "metadata": {},
   "outputs": [
    {
     "data": {
      "application/vnd.plotly.v1+json": {
       "config": {
        "plotlyServerURL": "https://plot.ly"
       },
       "data": [
        {
         "hoverinfo": "skip",
         "line": {
          "color": "black",
          "width": 4
         },
         "mode": "lines",
         "showlegend": false,
         "type": "scatter",
         "x": [
          0,
          105,
          105,
          0,
          0
         ],
         "y": [
          0,
          0,
          68,
          68,
          0
         ]
        },
        {
         "hoverinfo": "skip",
         "line": {
          "color": "black",
          "width": 4
         },
         "mode": "lines",
         "showlegend": false,
         "type": "scatter",
         "x": [
          52.5,
          52.5
         ],
         "y": [
          0,
          68
         ]
        },
        {
         "hoverinfo": "skip",
         "line": {
          "color": "black",
          "width": 4
         },
         "mode": "lines",
         "showlegend": false,
         "type": "scatter",
         "x": [
          0,
          16.459249641096918,
          16.459249641096918,
          0
         ],
         "y": [
          13.600000000000001,
          13.600000000000001,
          54.4,
          54.4
         ]
        },
        {
         "hoverinfo": "skip",
         "line": {
          "color": "black",
          "width": 4
         },
         "mode": "lines",
         "showlegend": false,
         "type": "scatter",
         "x": [
          105,
          88.54075035890308,
          88.54075035890308,
          105
         ],
         "y": [
          13.600000000000001,
          13.600000000000001,
          54.4,
          54.4
         ]
        },
        {
         "hoverinfo": "skip",
         "line": {
          "color": "black",
          "width": 4
         },
         "mode": "lines",
         "showlegend": false,
         "type": "scatter",
         "x": [
          0,
          5.486416547032306,
          5.486416547032306,
          0
         ],
         "y": [
          23.8,
          23.8,
          44.2,
          44.2
         ]
        },
        {
         "hoverinfo": "skip",
         "line": {
          "color": "black",
          "width": 4
         },
         "mode": "lines",
         "showlegend": false,
         "type": "scatter",
         "x": [
          105,
          99.5135834529677,
          99.5135834529677,
          105
         ],
         "y": [
          23.8,
          23.8,
          44.2,
          44.2
         ]
        },
        {
         "hoverinfo": "skip",
         "line": {
          "color": "black"
         },
         "mode": "markers",
         "showlegend": false,
         "type": "scatter",
         "x": [
          10.972833094064612
         ],
         "y": [
          34
         ]
        },
        {
         "hoverinfo": "skip",
         "line": {
          "color": "black"
         },
         "mode": "markers",
         "showlegend": false,
         "type": "scatter",
         "x": [
          94.02716690593539
         ],
         "y": [
          34
         ]
        },
        {
         "hoverinfo": "skip",
         "line": {
          "color": "black"
         },
         "mode": "markers",
         "showlegend": false,
         "type": "scatter",
         "x": [
          52.5
         ],
         "y": [
          34
         ]
        },
        {
         "colorscale": [
          [
           0,
           "rgb(63, 5, 5)"
          ],
          [
           0.09090909090909091,
           "rgb(101, 6, 13)"
          ],
          [
           0.18181818181818182,
           "rgb(138, 17, 9)"
          ],
          [
           0.2727272727272727,
           "rgb(96, 95, 95)"
          ],
          [
           0.36363636363636365,
           "rgb(119, 118, 118)"
          ],
          [
           0.45454545454545453,
           "rgb(142, 141, 141)"
          ],
          [
           0.5454545454545454,
           "rgb(166, 166, 165)"
          ],
          [
           0.6363636363636364,
           "rgb(193, 192, 191)"
          ],
          [
           0.7272727272727273,
           "rgb(222, 222, 220)"
          ],
          [
           0.8181818181818182,
           "rgb(239, 248, 90)"
          ],
          [
           0.9090909090909091,
           "rgb(230, 210, 41)"
          ],
          [
           1,
           "rgb(220, 174, 25)"
          ]
         ],
         "dx": 17.5,
         "dy": 13.6,
         "hovertemplate": "%{z}<extra></extra>",
         "type": "heatmap",
         "x0": 8.75,
         "y0": 6.8,
         "z": [
          [
           0,
           -4,
           8,
           -5,
           -2,
           -3
          ],
          [
           2,
           -3,
           -4,
           -11,
           -10,
           -11
          ],
          [
           7,
           -7,
           -10,
           -10,
           -8,
           -8
          ],
          [
           -1,
           -4,
           -8,
           -2,
           -6,
           -1
          ],
          [
           -2,
           -9,
           -7,
           -11,
           2,
           0
          ]
         ]
        }
       ],
       "layout": {
        "height": 600,
        "shapes": [
         {
          "line": {
           "color": "black",
           "width": 4
          },
          "type": "circle",
          "x0": 63,
          "x1": 42,
          "xref": "x",
          "y0": 44.5,
          "y1": 23.5,
          "yref": "y"
         },
         {
          "line": {
           "color": "black",
           "width": 4
          },
          "path": "M 16.459249641096918, 24.497247789053446L16.793053188464725, 24.697951614674288L17.1195233082764, 24.91037594172825L17.438248650972287, 25.134253117379465L17.748827625345694, 25.369301058300756L18.050868904544352, 25.615223606096226L18.34399191913892, 25.871710900458282L18.627827336637207, 26.13843976958899L18.90201752683996, 26.41507413739378L19.16621701245184, 26.701265446934435L19.420092904379874, 26.99665309960787L19.66332532117088, 27.300864909497264L19.89560779205933, 27.613517572323175L20.11664764311791, 27.93421714840362L20.326166366024186, 28.262559559014704L20.52389996897867, 28.59813109552639L20.709599309332265, 28.9405089406718L20.88303040750385, 29.289261701293384L21.04397474179256, 29.643949951894584L21.192229523713262, 30.004126788312227L21.32760795350832, 30.36933839081193L21.449939455513668, 30.7391245958971L21.559069893082718, 31.113019476110992L21.654861762797193, 31.490551927101343L21.737194367720278, 31.871246261207798L21.8059639694737, 32.25462280682431L21.861083918947244, 32.640198512781275L21.902484765475837, 33.02748755698585L21.930114344346837, 33.41600195855365L21.94393784252709, 33.8052521926605L21.94393784252709, 34.1947478073395L21.930114344346837, 34.58399804144635L21.902484765475837, 34.97251244301415L21.861083918947244, 35.359801487218725L21.8059639694737, 35.745377193175685L21.737194367720278, 36.1287537387922L21.654861762797196, 36.50944807289866L21.559069893082718, 36.886980523889L21.44993945551367, 37.2608754041029L21.32760795350832, 37.63066160918807L21.192229523713266, 37.99587321168777L21.04397474179256, 38.356050048105416L20.88303040750385, 38.710738298706616L20.70959930933227, 39.059491059328195L20.523899968978675, 39.40186890447361L20.32616636602419, 39.737440440985296L20.116647643117915, 40.06578285159638L19.89560779205933, 40.386482427676825L19.66332532117088, 40.699135090502736L19.420092904379878, 41.00334690039213L19.16621701245184, 41.298734553065565L18.90201752683996, 41.58492586260621L18.62782733663721, 41.86156023041101L18.343991919138922, 42.12828909954172L18.050868904544352, 42.38477639390377L17.748827625345694, 42.630698941699244L17.43824865097229, 42.865746882620535L17.119523308276403, 43.089624058271745L16.79305318846473, 43.30204838532571L16.459249641096918, 43.502752210946554",
          "type": "path"
         },
         {
          "line": {
           "color": "black",
           "width": 4
          },
          "path": "M 88.54075035890308, 43.502752210946554L88.20694681153527, 43.30204838532571L87.8804766917236, 43.08962405827175L87.56175134902772, 42.86574688262054L87.2511723746543, 42.630698941699244L86.94913109545566, 42.38477639390378L86.65600808086108, 42.12828909954172L86.37217266336279, 41.86156023041101L86.09798247316004, 41.58492586260622L85.83378298754816, 41.298734553065565L85.57990709562013, 41.00334690039214L85.33667467882913, 40.69913509050274L85.10439220794068, 40.386482427676825L84.88335235688209, 40.06578285159639L84.67383363397582, 39.737440440985296L84.47610003102133, 39.401868904473616L84.29040069066774, 39.0594910593282L84.11696959249615, 38.710738298706616L83.95602525820745, 38.356050048105416L83.80777047628673, 37.99587321168778L83.67239204649168, 37.630661609188074L83.55006054448633, 37.260875404102904L83.44093010691728, 36.88698052388901L83.3451382372028, 36.50944807289866L83.26280563227972, 36.128753738792206L83.1940360305263, 35.74537719317569L83.13891608105276, 35.35980148721873L83.09751523452417, 34.97251244301415L83.06988565565317, 34.58399804144636L83.05606215747291, 34.19474780733951L83.05606215747291, 33.805252192660504L83.06988565565317, 33.41600195855366L83.09751523452417, 33.027487556985854L83.13891608105276, 32.640198512781275L83.19403603052629, 32.254622806824315L83.26280563227972, 31.8712462612078L83.3451382372028, 31.49055192710135L83.44093010691728, 31.113019476111003L83.55006054448633, 30.739124595897103L83.67239204649168, 30.369338390811933L83.80777047628673, 30.004126788312234L83.95602525820743, 29.64394995189459L84.11696959249615, 29.28926170129339L84.29040069066772, 28.940508940671812L84.47610003102133, 28.598131095526398L84.67383363397582, 28.262559559014708L84.88335235688209, 27.934217148403626L85.10439220794068, 27.613517572323175L85.33667467882911, 27.30086490949727L85.57990709562011, 26.996653099607876L85.83378298754816, 26.70126544693444L86.09798247316004, 26.415074137393788L86.37217266336279, 26.138439769588995L86.65600808086108, 25.871710900458282L86.94913109545564, 25.61522360609623L87.2511723746543, 25.369301058300756L87.5617513490277, 25.134253117379465L87.8804766917236, 24.910375941728255L88.20694681153526, 24.697951614674295L88.54075035890308, 24.497247789053446",
          "type": "path"
         }
        ],
        "template": {
         "data": {
          "bar": [
           {
            "error_x": {
             "color": "#2a3f5f"
            },
            "error_y": {
             "color": "#2a3f5f"
            },
            "marker": {
             "line": {
              "color": "#E5ECF6",
              "width": 0.5
             },
             "pattern": {
              "fillmode": "overlay",
              "size": 10,
              "solidity": 0.2
             }
            },
            "type": "bar"
           }
          ],
          "barpolar": [
           {
            "marker": {
             "line": {
              "color": "#E5ECF6",
              "width": 0.5
             },
             "pattern": {
              "fillmode": "overlay",
              "size": 10,
              "solidity": 0.2
             }
            },
            "type": "barpolar"
           }
          ],
          "carpet": [
           {
            "aaxis": {
             "endlinecolor": "#2a3f5f",
             "gridcolor": "white",
             "linecolor": "white",
             "minorgridcolor": "white",
             "startlinecolor": "#2a3f5f"
            },
            "baxis": {
             "endlinecolor": "#2a3f5f",
             "gridcolor": "white",
             "linecolor": "white",
             "minorgridcolor": "white",
             "startlinecolor": "#2a3f5f"
            },
            "type": "carpet"
           }
          ],
          "choropleth": [
           {
            "colorbar": {
             "outlinewidth": 0,
             "ticks": ""
            },
            "type": "choropleth"
           }
          ],
          "contour": [
           {
            "colorbar": {
             "outlinewidth": 0,
             "ticks": ""
            },
            "colorscale": [
             [
              0,
              "#0d0887"
             ],
             [
              0.1111111111111111,
              "#46039f"
             ],
             [
              0.2222222222222222,
              "#7201a8"
             ],
             [
              0.3333333333333333,
              "#9c179e"
             ],
             [
              0.4444444444444444,
              "#bd3786"
             ],
             [
              0.5555555555555556,
              "#d8576b"
             ],
             [
              0.6666666666666666,
              "#ed7953"
             ],
             [
              0.7777777777777778,
              "#fb9f3a"
             ],
             [
              0.8888888888888888,
              "#fdca26"
             ],
             [
              1,
              "#f0f921"
             ]
            ],
            "type": "contour"
           }
          ],
          "contourcarpet": [
           {
            "colorbar": {
             "outlinewidth": 0,
             "ticks": ""
            },
            "type": "contourcarpet"
           }
          ],
          "heatmap": [
           {
            "colorbar": {
             "outlinewidth": 0,
             "ticks": ""
            },
            "colorscale": [
             [
              0,
              "#0d0887"
             ],
             [
              0.1111111111111111,
              "#46039f"
             ],
             [
              0.2222222222222222,
              "#7201a8"
             ],
             [
              0.3333333333333333,
              "#9c179e"
             ],
             [
              0.4444444444444444,
              "#bd3786"
             ],
             [
              0.5555555555555556,
              "#d8576b"
             ],
             [
              0.6666666666666666,
              "#ed7953"
             ],
             [
              0.7777777777777778,
              "#fb9f3a"
             ],
             [
              0.8888888888888888,
              "#fdca26"
             ],
             [
              1,
              "#f0f921"
             ]
            ],
            "type": "heatmap"
           }
          ],
          "heatmapgl": [
           {
            "colorbar": {
             "outlinewidth": 0,
             "ticks": ""
            },
            "colorscale": [
             [
              0,
              "#0d0887"
             ],
             [
              0.1111111111111111,
              "#46039f"
             ],
             [
              0.2222222222222222,
              "#7201a8"
             ],
             [
              0.3333333333333333,
              "#9c179e"
             ],
             [
              0.4444444444444444,
              "#bd3786"
             ],
             [
              0.5555555555555556,
              "#d8576b"
             ],
             [
              0.6666666666666666,
              "#ed7953"
             ],
             [
              0.7777777777777778,
              "#fb9f3a"
             ],
             [
              0.8888888888888888,
              "#fdca26"
             ],
             [
              1,
              "#f0f921"
             ]
            ],
            "type": "heatmapgl"
           }
          ],
          "histogram": [
           {
            "marker": {
             "pattern": {
              "fillmode": "overlay",
              "size": 10,
              "solidity": 0.2
             }
            },
            "type": "histogram"
           }
          ],
          "histogram2d": [
           {
            "colorbar": {
             "outlinewidth": 0,
             "ticks": ""
            },
            "colorscale": [
             [
              0,
              "#0d0887"
             ],
             [
              0.1111111111111111,
              "#46039f"
             ],
             [
              0.2222222222222222,
              "#7201a8"
             ],
             [
              0.3333333333333333,
              "#9c179e"
             ],
             [
              0.4444444444444444,
              "#bd3786"
             ],
             [
              0.5555555555555556,
              "#d8576b"
             ],
             [
              0.6666666666666666,
              "#ed7953"
             ],
             [
              0.7777777777777778,
              "#fb9f3a"
             ],
             [
              0.8888888888888888,
              "#fdca26"
             ],
             [
              1,
              "#f0f921"
             ]
            ],
            "type": "histogram2d"
           }
          ],
          "histogram2dcontour": [
           {
            "colorbar": {
             "outlinewidth": 0,
             "ticks": ""
            },
            "colorscale": [
             [
              0,
              "#0d0887"
             ],
             [
              0.1111111111111111,
              "#46039f"
             ],
             [
              0.2222222222222222,
              "#7201a8"
             ],
             [
              0.3333333333333333,
              "#9c179e"
             ],
             [
              0.4444444444444444,
              "#bd3786"
             ],
             [
              0.5555555555555556,
              "#d8576b"
             ],
             [
              0.6666666666666666,
              "#ed7953"
             ],
             [
              0.7777777777777778,
              "#fb9f3a"
             ],
             [
              0.8888888888888888,
              "#fdca26"
             ],
             [
              1,
              "#f0f921"
             ]
            ],
            "type": "histogram2dcontour"
           }
          ],
          "mesh3d": [
           {
            "colorbar": {
             "outlinewidth": 0,
             "ticks": ""
            },
            "type": "mesh3d"
           }
          ],
          "parcoords": [
           {
            "line": {
             "colorbar": {
              "outlinewidth": 0,
              "ticks": ""
             }
            },
            "type": "parcoords"
           }
          ],
          "pie": [
           {
            "automargin": true,
            "type": "pie"
           }
          ],
          "scatter": [
           {
            "fillpattern": {
             "fillmode": "overlay",
             "size": 10,
             "solidity": 0.2
            },
            "type": "scatter"
           }
          ],
          "scatter3d": [
           {
            "line": {
             "colorbar": {
              "outlinewidth": 0,
              "ticks": ""
             }
            },
            "marker": {
             "colorbar": {
              "outlinewidth": 0,
              "ticks": ""
             }
            },
            "type": "scatter3d"
           }
          ],
          "scattercarpet": [
           {
            "marker": {
             "colorbar": {
              "outlinewidth": 0,
              "ticks": ""
             }
            },
            "type": "scattercarpet"
           }
          ],
          "scattergeo": [
           {
            "marker": {
             "colorbar": {
              "outlinewidth": 0,
              "ticks": ""
             }
            },
            "type": "scattergeo"
           }
          ],
          "scattergl": [
           {
            "marker": {
             "colorbar": {
              "outlinewidth": 0,
              "ticks": ""
             }
            },
            "type": "scattergl"
           }
          ],
          "scattermapbox": [
           {
            "marker": {
             "colorbar": {
              "outlinewidth": 0,
              "ticks": ""
             }
            },
            "type": "scattermapbox"
           }
          ],
          "scatterpolar": [
           {
            "marker": {
             "colorbar": {
              "outlinewidth": 0,
              "ticks": ""
             }
            },
            "type": "scatterpolar"
           }
          ],
          "scatterpolargl": [
           {
            "marker": {
             "colorbar": {
              "outlinewidth": 0,
              "ticks": ""
             }
            },
            "type": "scatterpolargl"
           }
          ],
          "scatterternary": [
           {
            "marker": {
             "colorbar": {
              "outlinewidth": 0,
              "ticks": ""
             }
            },
            "type": "scatterternary"
           }
          ],
          "surface": [
           {
            "colorbar": {
             "outlinewidth": 0,
             "ticks": ""
            },
            "colorscale": [
             [
              0,
              "#0d0887"
             ],
             [
              0.1111111111111111,
              "#46039f"
             ],
             [
              0.2222222222222222,
              "#7201a8"
             ],
             [
              0.3333333333333333,
              "#9c179e"
             ],
             [
              0.4444444444444444,
              "#bd3786"
             ],
             [
              0.5555555555555556,
              "#d8576b"
             ],
             [
              0.6666666666666666,
              "#ed7953"
             ],
             [
              0.7777777777777778,
              "#fb9f3a"
             ],
             [
              0.8888888888888888,
              "#fdca26"
             ],
             [
              1,
              "#f0f921"
             ]
            ],
            "type": "surface"
           }
          ],
          "table": [
           {
            "cells": {
             "fill": {
              "color": "#EBF0F8"
             },
             "line": {
              "color": "white"
             }
            },
            "header": {
             "fill": {
              "color": "#C8D4E3"
             },
             "line": {
              "color": "white"
             }
            },
            "type": "table"
           }
          ]
         },
         "layout": {
          "annotationdefaults": {
           "arrowcolor": "#2a3f5f",
           "arrowhead": 0,
           "arrowwidth": 1
          },
          "autotypenumbers": "strict",
          "coloraxis": {
           "colorbar": {
            "outlinewidth": 0,
            "ticks": ""
           }
          },
          "colorscale": {
           "diverging": [
            [
             0,
             "#8e0152"
            ],
            [
             0.1,
             "#c51b7d"
            ],
            [
             0.2,
             "#de77ae"
            ],
            [
             0.3,
             "#f1b6da"
            ],
            [
             0.4,
             "#fde0ef"
            ],
            [
             0.5,
             "#f7f7f7"
            ],
            [
             0.6,
             "#e6f5d0"
            ],
            [
             0.7,
             "#b8e186"
            ],
            [
             0.8,
             "#7fbc41"
            ],
            [
             0.9,
             "#4d9221"
            ],
            [
             1,
             "#276419"
            ]
           ],
           "sequential": [
            [
             0,
             "#0d0887"
            ],
            [
             0.1111111111111111,
             "#46039f"
            ],
            [
             0.2222222222222222,
             "#7201a8"
            ],
            [
             0.3333333333333333,
             "#9c179e"
            ],
            [
             0.4444444444444444,
             "#bd3786"
            ],
            [
             0.5555555555555556,
             "#d8576b"
            ],
            [
             0.6666666666666666,
             "#ed7953"
            ],
            [
             0.7777777777777778,
             "#fb9f3a"
            ],
            [
             0.8888888888888888,
             "#fdca26"
            ],
            [
             1,
             "#f0f921"
            ]
           ],
           "sequentialminus": [
            [
             0,
             "#0d0887"
            ],
            [
             0.1111111111111111,
             "#46039f"
            ],
            [
             0.2222222222222222,
             "#7201a8"
            ],
            [
             0.3333333333333333,
             "#9c179e"
            ],
            [
             0.4444444444444444,
             "#bd3786"
            ],
            [
             0.5555555555555556,
             "#d8576b"
            ],
            [
             0.6666666666666666,
             "#ed7953"
            ],
            [
             0.7777777777777778,
             "#fb9f3a"
            ],
            [
             0.8888888888888888,
             "#fdca26"
            ],
            [
             1,
             "#f0f921"
            ]
           ]
          },
          "colorway": [
           "#636efa",
           "#EF553B",
           "#00cc96",
           "#ab63fa",
           "#FFA15A",
           "#19d3f3",
           "#FF6692",
           "#B6E880",
           "#FF97FF",
           "#FECB52"
          ],
          "font": {
           "color": "#2a3f5f"
          },
          "geo": {
           "bgcolor": "white",
           "lakecolor": "white",
           "landcolor": "#E5ECF6",
           "showlakes": true,
           "showland": true,
           "subunitcolor": "white"
          },
          "hoverlabel": {
           "align": "left"
          },
          "hovermode": "closest",
          "mapbox": {
           "style": "light"
          },
          "paper_bgcolor": "white",
          "plot_bgcolor": "#E5ECF6",
          "polar": {
           "angularaxis": {
            "gridcolor": "white",
            "linecolor": "white",
            "ticks": ""
           },
           "bgcolor": "#E5ECF6",
           "radialaxis": {
            "gridcolor": "white",
            "linecolor": "white",
            "ticks": ""
           }
          },
          "scene": {
           "xaxis": {
            "backgroundcolor": "#E5ECF6",
            "gridcolor": "white",
            "gridwidth": 2,
            "linecolor": "white",
            "showbackground": true,
            "ticks": "",
            "zerolinecolor": "white"
           },
           "yaxis": {
            "backgroundcolor": "#E5ECF6",
            "gridcolor": "white",
            "gridwidth": 2,
            "linecolor": "white",
            "showbackground": true,
            "ticks": "",
            "zerolinecolor": "white"
           },
           "zaxis": {
            "backgroundcolor": "#E5ECF6",
            "gridcolor": "white",
            "gridwidth": 2,
            "linecolor": "white",
            "showbackground": true,
            "ticks": "",
            "zerolinecolor": "white"
           }
          },
          "shapedefaults": {
           "line": {
            "color": "#2a3f5f"
           }
          },
          "ternary": {
           "aaxis": {
            "gridcolor": "white",
            "linecolor": "white",
            "ticks": ""
           },
           "baxis": {
            "gridcolor": "white",
            "linecolor": "white",
            "ticks": ""
           },
           "bgcolor": "#E5ECF6",
           "caxis": {
            "gridcolor": "white",
            "linecolor": "white",
            "ticks": ""
           }
          },
          "title": {
           "x": 0.05
          },
          "xaxis": {
           "automargin": true,
           "gridcolor": "white",
           "linecolor": "white",
           "ticks": "",
           "title": {
            "standoff": 15
           },
           "zerolinecolor": "white",
           "zerolinewidth": 2
          },
          "yaxis": {
           "automargin": true,
           "gridcolor": "white",
           "linecolor": "white",
           "ticks": "",
           "title": {
            "standoff": 15
           },
           "zerolinecolor": "white",
           "zerolinewidth": 2
          }
         }
        },
        "width": 800,
        "xaxis": {
         "anchor": "y",
         "domain": [
          0,
          1
         ],
         "range": [
          0,
          105
         ],
         "visible": false
        },
        "yaxis": {
         "anchor": "x",
         "autorange": "reversed",
         "domain": [
          0,
          1
         ],
         "range": [
          0,
          68
         ],
         "visible": false
        }
       }
      }
     },
     "metadata": {},
     "output_type": "display_data"
    }
   ],
   "source": [
    "from plotly_football_pitch import make_pitch_figure, PitchDimensions, add_heatmap\n",
    "\n",
    "\n",
    "dimensions = PitchDimensions()\n",
    "fig = make_pitch_figure(dimensions)\n",
    "\n",
    "# define number of grid squares for heatmap data\n",
    "width_grid = 12\n",
    "length_grid = 15\n",
    "\n",
    "data = pass_diff_matrix\n",
    "\n",
    "fig = add_heatmap(fig, data, colorscale = 'oxy')\n",
    "fig.update_yaxes(autorange=\"reversed\")\n",
    "\n",
    "fig.show()"
   ]
  },
  {
   "cell_type": "code",
   "execution_count": 74,
   "metadata": {},
   "outputs": [
    {
     "data": {
      "image/png": "[encoded data removed]",
      "text/plain": [
       "<Figure size 1000x700 with 2 Axes>"
      ]
     },
     "metadata": {},
     "output_type": "display_data"
    }
   ],
   "source": [
    "# Plot the difference using mplsoccer\n",
    "pitch = Pitch(pitch_type='statsbomb', line_zorder=2)\n",
    "fig, ax = pitch.draw(figsize=(10, 7))\n",
    "\n",
    "# Prepare data for heatmap plotting\n",
    "x_bin_centers = (x_bins[:-1] + x_bins[1:]) / 2\n",
    "y_bin_centers = (y_bins[:-1] + y_bins[1:]) / 2\n",
    "\n",
    "# Plot the heatmap\n",
    "heatmap = ax.pcolormesh(x_bin_centers, y_bin_centers, pass_diff_matrix, cmap='coolwarm', edgecolors='k', linewidth=0.5)\n",
    "\n",
    "# Add a color bar\n",
    "cbar = fig.colorbar(heatmap, ax=ax)\n",
    "cbar.set_label(f'Pass Difference ({home_team} - {away_team})', rotation=270, labelpad=15)\n",
    "\n",
    "plt.title(f'Pass Difference ({home_team} - {away_team})')\n",
    "plt.show()"
   ]
  },
  {
   "cell_type": "code",
   "execution_count": 68,
   "metadata": {},
   "outputs": [
    {
     "data": {
      "image/png": "[encoded data removed]",
      "text/plain": [
       "<Figure size 412.5x600 with 1 Axes>"
      ]
     },
     "metadata": {},
     "output_type": "display_data"
    }
   ],
   "source": [
    "from mplsoccer import VerticalPitch\n",
    "import matplotlib.patheffects as path_effects\n",
    "\n",
    "\n",
    "path_eff = [path_effects.Stroke(linewidth=1.5, foreground='black'),\n",
    "            path_effects.Normal()]\n",
    "\n",
    "df_pressure = events.loc[(events['type_name'] == 'Pressure')].copy()\n",
    "\n",
    "team_a = df_pressure[df_pressure['team_name'] == 'Austria']\n",
    "\n",
    "pitch = VerticalPitch(pitch_type='statsbomb', line_zorder=2, pitch_color='#f4edf0')\n",
    "fig, ax = pitch.draw(figsize=(4.125, 6))\n",
    "fig.set_facecolor('#f4edf0')\n",
    "bin_x = np.linspace(pitch.dim.left, pitch.dim.right, num=7)\n",
    "bin_y = np.sort(np.array([pitch.dim.bottom, pitch.dim.six_yard_bottom,\n",
    "                          pitch.dim.six_yard_top, pitch.dim.top]))\n",
    "bin_statistic = pitch.bin_statistic(team_a.x, team_a.y, statistic='count',\n",
    "                                    bins=(bin_x, bin_y), normalize=True)\n",
    "pitch.heatmap(bin_statistic, ax=ax, cmap='Reds', edgecolor='#f9f9f9')\n",
    "labels2 = pitch.label_heatmap(bin_statistic, color='#f4edf0', fontsize=18,\n",
    "                              ax=ax, ha='center', va='center',\n",
    "                              str_format='{:.0%}', path_effects=path_eff)"
   ]
  },
  {
   "cell_type": "code",
   "execution_count": 70,
   "metadata": {},
   "outputs": [
    {
     "data": {
      "application/vnd.plotly.v1+json": {
       "config": {
        "plotlyServerURL": "https://plot.ly"
       },
       "data": [
        {
         "colorscale": [
          [
           0,
           "rgb(255,245,240)"
          ],
          [
           0.125,
           "rgb(254,224,210)"
          ],
          [
           0.25,
           "rgb(252,187,161)"
          ],
          [
           0.375,
           "rgb(252,146,114)"
          ],
          [
           0.5,
           "rgb(251,106,74)"
          ],
          [
           0.625,
           "rgb(239,59,44)"
          ],
          [
           0.75,
           "rgb(203,24,29)"
          ],
          [
           0.875,
           "rgb(165,15,21)"
          ],
          [
           1,
           "rgb(103,0,13)"
          ]
         ],
         "hovertemplate": "X: %{x:.1f}<br>Y: %{y:.1f}<br>Pressure: %{z:.1%}<extra></extra>",
         "showscale": false,
         "type": "heatmap",
         "x": [
          [
           10,
           30,
           50,
           70,
           90,
           110
          ],
          [
           10,
           30,
           50,
           70,
           90,
           110
          ],
          [
           10,
           30,
           50,
           70,
           90,
           110
          ]
         ],
         "y": [
          [
           15,
           15,
           15,
           15,
           15,
           15
          ],
          [
           40,
           40,
           40,
           40,
           40,
           40
          ],
          [
           65,
           65,
           65,
           65,
           65,
           65
          ]
         ],
         "z": [
          [
           0.025252525252525252,
           0.050505050505050504,
           0.08585858585858586,
           0.13131313131313133,
           0.025252525252525252,
           0.005050505050505051
          ],
          [
           0.03535353535353535,
           0.04040404040404041,
           0.030303030303030304,
           0.025252525252525252,
           0.030303030303030304,
           0.050505050505050504
          ],
          [
           0.030303030303030304,
           0.09090909090909091,
           0.08585858585858586,
           0.12626262626262627,
           0.10101010101010101,
           0.030303030303030304
          ]
         ]
        }
       ],
       "layout": {
        "autosize": false,
        "height": 600,
        "plot_bgcolor": "#f4edf0",
        "showlegend": false,
        "template": {
         "data": {
          "bar": [
           {
            "error_x": {
             "color": "#2a3f5f"
            },
            "error_y": {
             "color": "#2a3f5f"
            },
            "marker": {
             "line": {
              "color": "#E5ECF6",
              "width": 0.5
             },
             "pattern": {
              "fillmode": "overlay",
              "size": 10,
              "solidity": 0.2
             }
            },
            "type": "bar"
           }
          ],
          "barpolar": [
           {
            "marker": {
             "line": {
              "color": "#E5ECF6",
              "width": 0.5
             },
             "pattern": {
              "fillmode": "overlay",
              "size": 10,
              "solidity": 0.2
             }
            },
            "type": "barpolar"
           }
          ],
          "carpet": [
           {
            "aaxis": {
             "endlinecolor": "#2a3f5f",
             "gridcolor": "white",
             "linecolor": "white",
             "minorgridcolor": "white",
             "startlinecolor": "#2a3f5f"
            },
            "baxis": {
             "endlinecolor": "#2a3f5f",
             "gridcolor": "white",
             "linecolor": "white",
             "minorgridcolor": "white",
             "startlinecolor": "#2a3f5f"
            },
            "type": "carpet"
           }
          ],
          "choropleth": [
           {
            "colorbar": {
             "outlinewidth": 0,
             "ticks": ""
            },
            "type": "choropleth"
           }
          ],
          "contour": [
           {
            "colorbar": {
             "outlinewidth": 0,
             "ticks": ""
            },
            "colorscale": [
             [
              0,
              "#0d0887"
             ],
             [
              0.1111111111111111,
              "#46039f"
             ],
             [
              0.2222222222222222,
              "#7201a8"
             ],
             [
              0.3333333333333333,
              "#9c179e"
             ],
             [
              0.4444444444444444,
              "#bd3786"
             ],
             [
              0.5555555555555556,
              "#d8576b"
             ],
             [
              0.6666666666666666,
              "#ed7953"
             ],
             [
              0.7777777777777778,
              "#fb9f3a"
             ],
             [
              0.8888888888888888,
              "#fdca26"
             ],
             [
              1,
              "#f0f921"
             ]
            ],
            "type": "contour"
           }
          ],
          "contourcarpet": [
           {
            "colorbar": {
             "outlinewidth": 0,
             "ticks": ""
            },
            "type": "contourcarpet"
           }
          ],
          "heatmap": [
           {
            "colorbar": {
             "outlinewidth": 0,
             "ticks": ""
            },
            "colorscale": [
             [
              0,
              "#0d0887"
             ],
             [
              0.1111111111111111,
              "#46039f"
             ],
             [
              0.2222222222222222,
              "#7201a8"
             ],
             [
              0.3333333333333333,
              "#9c179e"
             ],
             [
              0.4444444444444444,
              "#bd3786"
             ],
             [
              0.5555555555555556,
              "#d8576b"
             ],
             [
              0.6666666666666666,
              "#ed7953"
             ],
             [
              0.7777777777777778,
              "#fb9f3a"
             ],
             [
              0.8888888888888888,
              "#fdca26"
             ],
             [
              1,
              "#f0f921"
             ]
            ],
            "type": "heatmap"
           }
          ],
          "heatmapgl": [
           {
            "colorbar": {
             "outlinewidth": 0,
             "ticks": ""
            },
            "colorscale": [
             [
              0,
              "#0d0887"
             ],
             [
              0.1111111111111111,
              "#46039f"
             ],
             [
              0.2222222222222222,
              "#7201a8"
             ],
             [
              0.3333333333333333,
              "#9c179e"
             ],
             [
              0.4444444444444444,
              "#bd3786"
             ],
             [
              0.5555555555555556,
              "#d8576b"
             ],
             [
              0.6666666666666666,
              "#ed7953"
             ],
             [
              0.7777777777777778,
              "#fb9f3a"
             ],
             [
              0.8888888888888888,
              "#fdca26"
             ],
             [
              1,
              "#f0f921"
             ]
            ],
            "type": "heatmapgl"
           }
          ],
          "histogram": [
           {
            "marker": {
             "pattern": {
              "fillmode": "overlay",
              "size": 10,
              "solidity": 0.2
             }
            },
            "type": "histogram"
           }
          ],
          "histogram2d": [
           {
            "colorbar": {
             "outlinewidth": 0,
             "ticks": ""
            },
            "colorscale": [
             [
              0,
              "#0d0887"
             ],
             [
              0.1111111111111111,
              "#46039f"
             ],
             [
              0.2222222222222222,
              "#7201a8"
             ],
             [
              0.3333333333333333,
              "#9c179e"
             ],
             [
              0.4444444444444444,
              "#bd3786"
             ],
             [
              0.5555555555555556,
              "#d8576b"
             ],
             [
              0.6666666666666666,
              "#ed7953"
             ],
             [
              0.7777777777777778,
              "#fb9f3a"
             ],
             [
              0.8888888888888888,
              "#fdca26"
             ],
             [
              1,
              "#f0f921"
             ]
            ],
            "type": "histogram2d"
           }
          ],
          "histogram2dcontour": [
           {
            "colorbar": {
             "outlinewidth": 0,
             "ticks": ""
            },
            "colorscale": [
             [
              0,
              "#0d0887"
             ],
             [
              0.1111111111111111,
              "#46039f"
             ],
             [
              0.2222222222222222,
              "#7201a8"
             ],
             [
              0.3333333333333333,
              "#9c179e"
             ],
             [
              0.4444444444444444,
              "#bd3786"
             ],
             [
              0.5555555555555556,
              "#d8576b"
             ],
             [
              0.6666666666666666,
              "#ed7953"
             ],
             [
              0.7777777777777778,
              "#fb9f3a"
             ],
             [
              0.8888888888888888,
              "#fdca26"
             ],
             [
              1,
              "#f0f921"
             ]
            ],
            "type": "histogram2dcontour"
           }
          ],
          "mesh3d": [
           {
            "colorbar": {
             "outlinewidth": 0,
             "ticks": ""
            },
            "type": "mesh3d"
           }
          ],
          "parcoords": [
           {
            "line": {
             "colorbar": {
              "outlinewidth": 0,
              "ticks": ""
             }
            },
            "type": "parcoords"
           }
          ],
          "pie": [
           {
            "automargin": true,
            "type": "pie"
           }
          ],
          "scatter": [
           {
            "fillpattern": {
             "fillmode": "overlay",
             "size": 10,
             "solidity": 0.2
            },
            "type": "scatter"
           }
          ],
          "scatter3d": [
           {
            "line": {
             "colorbar": {
              "outlinewidth": 0,
              "ticks": ""
             }
            },
            "marker": {
             "colorbar": {
              "outlinewidth": 0,
              "ticks": ""
             }
            },
            "type": "scatter3d"
           }
          ],
          "scattercarpet": [
           {
            "marker": {
             "colorbar": {
              "outlinewidth": 0,
              "ticks": ""
             }
            },
            "type": "scattercarpet"
           }
          ],
          "scattergeo": [
           {
            "marker": {
             "colorbar": {
              "outlinewidth": 0,
              "ticks": ""
             }
            },
            "type": "scattergeo"
           }
          ],
          "scattergl": [
           {
            "marker": {
             "colorbar": {
              "outlinewidth": 0,
              "ticks": ""
             }
            },
            "type": "scattergl"
           }
          ],
          "scattermapbox": [
           {
            "marker": {
             "colorbar": {
              "outlinewidth": 0,
              "ticks": ""
             }
            },
            "type": "scattermapbox"
           }
          ],
          "scatterpolar": [
           {
            "marker": {
             "colorbar": {
              "outlinewidth": 0,
              "ticks": ""
             }
            },
            "type": "scatterpolar"
           }
          ],
          "scatterpolargl": [
           {
            "marker": {
             "colorbar": {
              "outlinewidth": 0,
              "ticks": ""
             }
            },
            "type": "scatterpolargl"
           }
          ],
          "scatterternary": [
           {
            "marker": {
             "colorbar": {
              "outlinewidth": 0,
              "ticks": ""
             }
            },
            "type": "scatterternary"
           }
          ],
          "surface": [
           {
            "colorbar": {
             "outlinewidth": 0,
             "ticks": ""
            },
            "colorscale": [
             [
              0,
              "#0d0887"
             ],
             [
              0.1111111111111111,
              "#46039f"
             ],
             [
              0.2222222222222222,
              "#7201a8"
             ],
             [
              0.3333333333333333,
              "#9c179e"
             ],
             [
              0.4444444444444444,
              "#bd3786"
             ],
             [
              0.5555555555555556,
              "#d8576b"
             ],
             [
              0.6666666666666666,
              "#ed7953"
             ],
             [
              0.7777777777777778,
              "#fb9f3a"
             ],
             [
              0.8888888888888888,
              "#fdca26"
             ],
             [
              1,
              "#f0f921"
             ]
            ],
            "type": "surface"
           }
          ],
          "table": [
           {
            "cells": {
             "fill": {
              "color": "#EBF0F8"
             },
             "line": {
              "color": "white"
             }
            },
            "header": {
             "fill": {
              "color": "#C8D4E3"
             },
             "line": {
              "color": "white"
             }
            },
            "type": "table"
           }
          ]
         },
         "layout": {
          "annotationdefaults": {
           "arrowcolor": "#2a3f5f",
           "arrowhead": 0,
           "arrowwidth": 1
          },
          "autotypenumbers": "strict",
          "coloraxis": {
           "colorbar": {
            "outlinewidth": 0,
            "ticks": ""
           }
          },
          "colorscale": {
           "diverging": [
            [
             0,
             "#8e0152"
            ],
            [
             0.1,
             "#c51b7d"
            ],
            [
             0.2,
             "#de77ae"
            ],
            [
             0.3,
             "#f1b6da"
            ],
            [
             0.4,
             "#fde0ef"
            ],
            [
             0.5,
             "#f7f7f7"
            ],
            [
             0.6,
             "#e6f5d0"
            ],
            [
             0.7,
             "#b8e186"
            ],
            [
             0.8,
             "#7fbc41"
            ],
            [
             0.9,
             "#4d9221"
            ],
            [
             1,
             "#276419"
            ]
           ],
           "sequential": [
            [
             0,
             "#0d0887"
            ],
            [
             0.1111111111111111,
             "#46039f"
            ],
            [
             0.2222222222222222,
             "#7201a8"
            ],
            [
             0.3333333333333333,
             "#9c179e"
            ],
            [
             0.4444444444444444,
             "#bd3786"
            ],
            [
             0.5555555555555556,
             "#d8576b"
            ],
            [
             0.6666666666666666,
             "#ed7953"
            ],
            [
             0.7777777777777778,
             "#fb9f3a"
            ],
            [
             0.8888888888888888,
             "#fdca26"
            ],
            [
             1,
             "#f0f921"
            ]
           ],
           "sequentialminus": [
            [
             0,
             "#0d0887"
            ],
            [
             0.1111111111111111,
             "#46039f"
            ],
            [
             0.2222222222222222,
             "#7201a8"
            ],
            [
             0.3333333333333333,
             "#9c179e"
            ],
            [
             0.4444444444444444,
             "#bd3786"
            ],
            [
             0.5555555555555556,
             "#d8576b"
            ],
            [
             0.6666666666666666,
             "#ed7953"
            ],
            [
             0.7777777777777778,
             "#fb9f3a"
            ],
            [
             0.8888888888888888,
             "#fdca26"
            ],
            [
             1,
             "#f0f921"
            ]
           ]
          },
          "colorway": [
           "#636efa",
           "#EF553B",
           "#00cc96",
           "#ab63fa",
           "#FFA15A",
           "#19d3f3",
           "#FF6692",
           "#B6E880",
           "#FF97FF",
           "#FECB52"
          ],
          "font": {
           "color": "#2a3f5f"
          },
          "geo": {
           "bgcolor": "white",
           "lakecolor": "white",
           "landcolor": "#E5ECF6",
           "showlakes": true,
           "showland": true,
           "subunitcolor": "white"
          },
          "hoverlabel": {
           "align": "left"
          },
          "hovermode": "closest",
          "mapbox": {
           "style": "light"
          },
          "paper_bgcolor": "white",
          "plot_bgcolor": "#E5ECF6",
          "polar": {
           "angularaxis": {
            "gridcolor": "white",
            "linecolor": "white",
            "ticks": ""
           },
           "bgcolor": "#E5ECF6",
           "radialaxis": {
            "gridcolor": "white",
            "linecolor": "white",
            "ticks": ""
           }
          },
          "scene": {
           "xaxis": {
            "backgroundcolor": "#E5ECF6",
            "gridcolor": "white",
            "gridwidth": 2,
            "linecolor": "white",
            "showbackground": true,
            "ticks": "",
            "zerolinecolor": "white"
           },
           "yaxis": {
            "backgroundcolor": "#E5ECF6",
            "gridcolor": "white",
            "gridwidth": 2,
            "linecolor": "white",
            "showbackground": true,
            "ticks": "",
            "zerolinecolor": "white"
           },
           "zaxis": {
            "backgroundcolor": "#E5ECF6",
            "gridcolor": "white",
            "gridwidth": 2,
            "linecolor": "white",
            "showbackground": true,
            "ticks": "",
            "zerolinecolor": "white"
           }
          },
          "shapedefaults": {
           "line": {
            "color": "#2a3f5f"
           }
          },
          "ternary": {
           "aaxis": {
            "gridcolor": "white",
            "linecolor": "white",
            "ticks": ""
           },
           "baxis": {
            "gridcolor": "white",
            "linecolor": "white",
            "ticks": ""
           },
           "bgcolor": "#E5ECF6",
           "caxis": {
            "gridcolor": "white",
            "linecolor": "white",
            "ticks": ""
           }
          },
          "title": {
           "x": 0.05
          },
          "xaxis": {
           "automargin": true,
           "gridcolor": "white",
           "linecolor": "white",
           "ticks": "",
           "title": {
            "standoff": 15
           },
           "zerolinecolor": "white",
           "zerolinewidth": 2
          },
          "yaxis": {
           "automargin": true,
           "gridcolor": "white",
           "linecolor": "white",
           "ticks": "",
           "title": {
            "standoff": 15
           },
           "zerolinecolor": "white",
           "zerolinewidth": 2
          }
         }
        },
        "title": {
         "text": "Pressure Heatmap"
        },
        "width": 400,
        "xaxis": {
         "showgrid": false,
         "showticklabels": false,
         "zeroline": false
        },
        "yaxis": {
         "showgrid": false,
         "showticklabels": false,
         "zeroline": false
        }
       }
      }
     },
     "metadata": {},
     "output_type": "display_data"
    },
    {
     "data": {
      "image/png": "[encoded data removed]",
      "text/plain": [
       "<Figure size 640x480 with 1 Axes>"
      ]
     },
     "metadata": {},
     "output_type": "display_data"
    }
   ],
   "source": [
    "import pandas as pd\n",
    "import numpy as np\n",
    "import plotly.graph_objects as go\n",
    "from mplsoccer import VerticalPitch\n",
    "\n",
    "# Assuming 'events' DataFrame is already loaded\n",
    "df_pressure = events.loc[events['type_name'] == 'Pressure'].copy()\n",
    "team_a = df_pressure[df_pressure['team_name'] == 'Austria']\n",
    "\n",
    "pitch = VerticalPitch(pitch_type='statsbomb', line_zorder=2, pitch_color='#f4edf0')\n",
    "\n",
    "# Create bins\n",
    "bin_x = np.linspace(pitch.dim.left, pitch.dim.right, num=7)\n",
    "bin_y = np.sort(np.array([pitch.dim.bottom, pitch.dim.six_yard_bottom,\n",
    "                          pitch.dim.six_yard_top, pitch.dim.top]))\n",
    "\n",
    "# Calculate bin statistics\n",
    "bin_statistic = pitch.bin_statistic(team_a.x, team_a.y, statistic='count',\n",
    "                                    bins=(bin_x, bin_y), normalize=True)\n",
    "\n",
    "# Create heatmap data\n",
    "heatmap_data = go.Heatmap(\n",
    "    z=bin_statistic['statistic'],\n",
    "    x=bin_statistic['cx'],\n",
    "    y=bin_statistic['cy'],\n",
    "    colorscale='Reds',\n",
    "    showscale=False,\n",
    "    hovertemplate='X: %{x:.1f}<br>Y: %{y:.1f}<br>Pressure: %{z:.1%}<extra></extra>'\n",
    ")\n",
    "\n",
    "# Create the pitch lines\n",
    "pitch_lines = pitch.draw(ax=None)\n",
    "pitch_traces = []\n",
    "for element in pitch_lines:\n",
    "    if element.get_label() == '<PolyCollection>' or element.get_label() == '<LineCollection>':\n",
    "        for path in element.get_paths():\n",
    "            v = path.vertices\n",
    "            pitch_traces.append(go.Scatter(x=v[:, 0], y=v[:, 1], mode='lines', line=dict(color='black', width=1),\n",
    "                                           hoverinfo='skip'))\n",
    "\n",
    "# Create the figure\n",
    "fig = go.Figure(data=[heatmap_data] + pitch_traces)\n",
    "\n",
    "# Update layout\n",
    "fig.update_layout(\n",
    "    title='Pressure Heatmap',\n",
    "    xaxis=dict(showgrid=False, zeroline=False, showticklabels=False),\n",
    "    yaxis=dict(showgrid=False, zeroline=False, showticklabels=False),\n",
    "    plot_bgcolor='#f4edf0',\n",
    "    width=400,\n",
    "    height=600,\n",
    "    autosize=False,\n",
    "    showlegend=False\n",
    ")\n",
    "\n",
    "# Show the plot\n",
    "fig.show()"
   ]
  },
  {
   "cell_type": "code",
   "execution_count": 42,
   "metadata": {},
   "outputs": [
    {
     "data": {
      "text/plain": [
       "Index(['50_50', 'ball_receipt_outcome', 'ball_recovery_recovery_failure',\n",
       "       'block_deflection', 'carry_end_location', 'clearance_aerial_won',\n",
       "       'clearance_body_part', 'clearance_head', 'clearance_left_foot',\n",
       "       'clearance_right_foot', 'counterpress', 'dribble_nutmeg',\n",
       "       'dribble_outcome', 'dribble_overrun', 'duel_outcome', 'duel_type',\n",
       "       'duration', 'foul_committed_card', 'foul_won_defensive',\n",
       "       'goalkeeper_body_part', 'goalkeeper_end_location', 'goalkeeper_outcome',\n",
       "       'goalkeeper_position', 'goalkeeper_technique', 'goalkeeper_type', 'id',\n",
       "       'index', 'interception_outcome', 'location', 'match_id', 'minute',\n",
       "       'off_camera', 'out', 'pass_aerial_won', 'pass_angle',\n",
       "       'pass_assisted_shot_id', 'pass_body_part', 'pass_cross',\n",
       "       'pass_cut_back', 'pass_deflected', 'pass_end_location',\n",
       "       'pass_goal_assist', 'pass_height', 'pass_inswinging', 'pass_length',\n",
       "       'pass_no_touch', 'pass_outcome', 'pass_outswinging', 'pass_recipient',\n",
       "       'pass_recipient_id', 'pass_shot_assist', 'pass_switch',\n",
       "       'pass_technique', 'pass_through_ball', 'pass_type', 'period',\n",
       "       'play_pattern', 'player', 'player_id', 'position', 'possession',\n",
       "       'possession_team', 'possession_team_id', 'related_events', 'second',\n",
       "       'shot_aerial_won', 'shot_body_part', 'shot_deflected',\n",
       "       'shot_end_location', 'shot_first_time', 'shot_freeze_frame',\n",
       "       'shot_key_pass_id', 'shot_one_on_one', 'shot_outcome',\n",
       "       'shot_statsbomb_xg', 'shot_technique', 'shot_type',\n",
       "       'substitution_outcome', 'substitution_replacement', 'tactics', 'team',\n",
       "       'team_id', 'timestamp', 'type', 'under_pressure'],\n",
       "      dtype='object')"
      ]
     },
     "execution_count": 42,
     "metadata": {},
     "output_type": "execute_result"
    }
   ],
   "source": [
    "import duckdb\n",
    "\n",
    "from statsbombpy import sb\n",
    "\n",
    "events = sb.events(match_id = 3938637)\n",
    "\n",
    "games = sb.matches(competition_id=55, season_id=282)\n",
    "\n",
    "events.columns\n"
   ]
  },
  {
   "cell_type": "code",
   "execution_count": 4,
   "metadata": {},
   "outputs": [
    {
     "data": {
      "text/plain": [
       "┌────────────┬─────────────┬───────────────────┬───────────┐\n",
       "│ possession │    team     │ shot_statsbomb_xg │ pass_type │\n",
       "│   int64    │   varchar   │      double       │  varchar  │\n",
       "├────────────┼─────────────┼───────────────────┼───────────┤\n",
       "│          5 │ Netherlands │       0.010196376 │ Open Play │\n",
       "│         11 │ Netherlands │        0.11391678 │ Open Play │\n",
       "│         16 │ Netherlands │       0.114312105 │ Open Play │\n",
       "│         17 │ Poland      │        0.04367851 │ Open Play │\n",
       "│         22 │ Netherlands │       0.015395193 │ Open Play │\n",
       "│         25 │ Poland      │        0.08721661 │ Corner    │\n",
       "│         28 │ Netherlands │       0.033487294 │ Corner    │\n",
       "│         40 │ Netherlands │       0.110036224 │ Open Play │\n",
       "│         41 │ Netherlands │       0.010005396 │ Open Play │\n",
       "│         43 │ Netherlands │       0.048307355 │ Recovery  │\n",
       "│          · │      ·      │             ·     │   ·       │\n",
       "│          · │      ·      │             ·     │   ·       │\n",
       "│          · │      ·      │             ·     │   ·       │\n",
       "│        116 │ Netherlands │        0.06877075 │ Corner    │\n",
       "│        150 │ Poland      │       0.018691555 │ Open Play │\n",
       "│         36 │ Netherlands │        0.08160148 │ Open Play │\n",
       "│         14 │ Poland      │      0.0034011703 │ NULL      │\n",
       "│         40 │ Netherlands │       0.075011835 │ NULL      │\n",
       "│         48 │ Poland      │       0.018577162 │ NULL      │\n",
       "│         71 │ Netherlands │       0.021836616 │ NULL      │\n",
       "│        129 │ Netherlands │        0.09464203 │ NULL      │\n",
       "│        135 │ Poland      │       0.021284437 │ NULL      │\n",
       "│        143 │ Poland      │       0.020169877 │ NULL      │\n",
       "├────────────┴─────────────┴───────────────────┴───────────┤\n",
       "│ 33 rows (20 shown)                             4 columns │\n",
       "└──────────────────────────────────────────────────────────┘"
      ]
     },
     "execution_count": 4,
     "metadata": {},
     "output_type": "execute_result"
    }
   ],
   "source": [
    "shots = duckdb.sql(\"select a.possession, a.team, a.shot_statsbomb_xg, b.pass_type from (select possession, team, shot_statsbomb_xg, shot_outcome, shot_key_pass_id from events where type = 'Shot') a left join (select id, ifnull(pass_type, 'Open Play') as pass_type from events where type = 'Pass') b on a.shot_key_pass_id = b.id\")\n",
    "duckdb.sql(\"select * from shots\")"
   ]
  },
  {
   "cell_type": "code",
   "execution_count": 84,
   "metadata": {},
   "outputs": [
    {
     "data": {
      "text/plain": [
       "┌─────────────┬───────────┐\n",
       "│    team     │ pass_type │\n",
       "│   varchar   │  varchar  │\n",
       "├─────────────┼───────────┤\n",
       "│ Netherlands │ Free Kick │\n",
       "│ Netherlands │ Free Kick │\n",
       "│ Poland      │ Free Kick │\n",
       "│ Poland      │ Free Kick │\n",
       "│ Poland      │ Free Kick │\n",
       "│ Netherlands │ Free Kick │\n",
       "│ Netherlands │ Free Kick │\n",
       "│ Netherlands │ Free Kick │\n",
       "│ Poland      │ Free Kick │\n",
       "│ Netherlands │ Free Kick │\n",
       "│ Poland      │ Free Kick │\n",
       "│ Poland      │ Free Kick │\n",
       "│ Poland      │ Free Kick │\n",
       "│ Netherlands │ Free Kick │\n",
       "│ Netherlands │ Free Kick │\n",
       "│ Poland      │ Free Kick │\n",
       "│ Netherlands │ Free Kick │\n",
       "│ Netherlands │ Free Kick │\n",
       "│ Netherlands │ Free Kick │\n",
       "│ Netherlands │ Free Kick │\n",
       "├─────────────┴───────────┤\n",
       "│ 20 rows       2 columns │\n",
       "└─────────────────────────┘"
      ]
     },
     "execution_count": 84,
     "metadata": {},
     "output_type": "execute_result"
    }
   ],
   "source": [
    "duckdb.default_connection.execute(\"SET GLOBAL pandas_analyze_sample=100000\")\n",
    "\n",
    "\n",
    "duckdb.sql(\"select team, pass_type from events where pass_type = 'Free Kick'\")"
   ]
  },
  {
   "cell_type": "code",
   "execution_count": 6,
   "metadata": {},
   "outputs": [
    {
     "data": {
      "text/plain": [
       "┌────────────┬─────────────┬───────────────────┬──────────────┬──────────────────────────────────────┐\n",
       "│ possession │    team     │ shot_statsbomb_xg │ shot_outcome │           shot_key_pass_id           │\n",
       "│   int64    │   varchar   │      double       │   varchar    │               varchar                │\n",
       "├────────────┼─────────────┼───────────────────┼──────────────┼──────────────────────────────────────┤\n",
       "│         25 │ Poland      │        0.08721661 │ Goal         │ 9a034727-be69-45db-9057-da1767584734 │\n",
       "│         43 │ Netherlands │       0.048307355 │ Goal         │ 71680f21-df9d-4cea-bddb-af137c77979d │\n",
       "│        129 │ Netherlands │        0.09464203 │ Goal         │ NULL                                 │\n",
       "└────────────┴─────────────┴───────────────────┴──────────────┴──────────────────────────────────────┘"
      ]
     },
     "execution_count": 6,
     "metadata": {},
     "output_type": "execute_result"
    }
   ],
   "source": [
    "duckdb.sql(\"select possession, team, shot_statsbomb_xg, shot_outcome, shot_key_pass_id from events where type = 'Shot' and shot_outcome = 'Goal' order by possession\")\n"
   ]
  },
  {
   "cell_type": "code",
   "execution_count": 51,
   "metadata": {},
   "outputs": [],
   "source": [
    "shots = duckdb.sql(\"select a.possession, a.team, a.shot_statsbomb_xg, b.pass_type from (select possession, team, shot_statsbomb_xg, shot_outcome, shot_key_pass_id from events where type = 'Shot') a left join (select id, ifnull(pass_type, 'Open Play') as pass_type from events where type = 'Pass') b on a.shot_key_pass_id = b.id\")\n",
    "\n",
    "\n",
    "xg_table = duckdb.sql(\"select team, sum(sum_xg) as overall_xg, sum(case when pass_type = 'Set Piece' then sum_xg end) as set_piece_xg from (select team, case when pass_type = 'Corner' or pass_type = 'Free Kick' then 'Set Piece' else 'Open Play' end as pass_type, sum(shot_xg) as sum_xg from (select possession, team, max(shot_statsbomb_xg) as shot_xg, pass_type from shots group by possession, team, pass_type) group by 1,2) group by 1\")"
   ]
  },
  {
   "cell_type": "code",
   "execution_count": 57,
   "metadata": {},
   "outputs": [],
   "source": [
    "events[['x', 'y']] = events['location'].apply(pd.Series)\n",
    "events[['end_x', 'end_y']] = events['pass_end_location'].apply(pd.Series)"
   ]
  },
  {
   "cell_type": "code",
   "execution_count": 80,
   "metadata": {},
   "outputs": [
    {
     "data": {
      "text/plain": [
       "┌─────────────────────┬─────────────┬────────┬────────┬────────┬────────┬──────────────┬──────────────┐\n",
       "│       player        │    team     │   x    │   y    │ end_x  │ end_y  │ pass_outcome │  pass_type   │\n",
       "│       varchar       │   varchar   │ double │ double │ double │ double │   varchar    │   varchar    │\n",
       "├─────────────────────┼─────────────┼────────┼────────┼────────┼────────┼──────────────┼──────────────┤\n",
       "│ Piotr Zieliński     │ Poland      │   60.0 │   40.0 │   56.3 │   43.0 │ Complete     │ Kick Off     │\n",
       "│ Sebastian Szymański │ Poland      │   55.7 │   42.8 │   68.6 │    4.4 │ Complete     │ Regular Play │\n",
       "│ Nicola Zalewski     │ Poland      │   68.1 │    4.2 │  107.3 │   22.8 │ Incomplete   │ Regular Play │\n",
       "│ Bart Verbruggen     │ Netherlands │   12.0 │   44.9 │   15.0 │   32.4 │ Complete     │ Regular Play │\n",
       "│ Virgil van Dijk     │ Netherlands │   15.0 │   32.4 │    9.7 │   45.7 │ Complete     │ Regular Play │\n",
       "│ Bart Verbruggen     │ Netherlands │   16.5 │   42.4 │   17.5 │   32.7 │ Complete     │ Regular Play │\n",
       "│ Virgil van Dijk     │ Netherlands │   17.3 │   32.7 │   13.7 │   48.2 │ Complete     │ Regular Play │\n",
       "│ Bart Verbruggen     │ Netherlands │   19.2 │   47.1 │   84.8 │   44.9 │ Incomplete   │ Regular Play │\n",
       "│ Bartosz Salamon     │ Poland      │   35.3 │   35.2 │   52.9 │   39.9 │ Incomplete   │ Recovery     │\n",
       "│ Joey Veerman        │ Netherlands │   67.2 │   40.2 │   69.8 │   55.4 │ Complete     │ Recovery     │\n",
       "│      ·              │   ·         │     ·  │     ·  │     ·  │     ·  │    ·         │    ·         │\n",
       "│      ·              │   ·         │     ·  │     ·  │     ·  │     ·  │    ·         │    ·         │\n",
       "│      ·              │   ·         │     ·  │     ·  │     ·  │     ·  │    ·         │    ·         │\n",
       "│ Jakub Piotr Kiwior  │ Poland      │   35.8 │    7.0 │   47.2 │    5.5 │ Complete     │ Interception │\n",
       "│ Nicola Zalewski     │ Poland      │   52.0 │    4.8 │   66.3 │   11.2 │ Incomplete   │ Regular Play │\n",
       "│ Stefan de Vrij      │ Netherlands │   48.2 │   67.7 │   18.8 │   48.5 │ Complete     │ Regular Play │\n",
       "│ Bart Verbruggen     │ Netherlands │   18.7 │   48.5 │   72.1 │   64.9 │ Complete     │ Regular Play │\n",
       "│ Jakub Moder         │ Poland      │   48.4 │    9.8 │   49.6 │    3.6 │ Complete     │ Recovery     │\n",
       "│ Nicola Zalewski     │ Poland      │   50.5 │    2.9 │   49.6 │    5.9 │ Incomplete   │ Regular Play │\n",
       "│ Jakub Piotr Kiwior  │ Poland      │   42.3 │    0.1 │   34.6 │   16.6 │ Complete     │ Throw-in     │\n",
       "│ Jan Bednarek        │ Poland      │   34.0 │   20.0 │   27.4 │   42.6 │ Complete     │ Regular Play │\n",
       "│ Wojciech Szczęsny   │ Poland      │   34.6 │   48.9 │   84.6 │   26.3 │ Complete     │ Regular Play │\n",
       "│ Adam Buksa          │ Poland      │   84.6 │   26.3 │   91.3 │   22.5 │ Complete     │ Regular Play │\n",
       "├─────────────────────┴─────────────┴────────┴────────┴────────┴────────┴──────────────┴──────────────┤\n",
       "│ 954 rows (20 shown)                                                                       8 columns │\n",
       "└─────────────────────────────────────────────────────────────────────────────────────────────────────┘"
      ]
     },
     "execution_count": 80,
     "metadata": {},
     "output_type": "execute_result"
    }
   ],
   "source": [
    "passes = duckdb.sql(\"select player, team, x,y, end_x, end_y, ifnull(pass_outcome, 'Complete') as pass_outcome, ifnull(pass_type, 'Regular Play') as pass_type from events where type = 'Pass'\")\n",
    "\n",
    "passes"
   ]
  },
  {
   "cell_type": "code",
   "execution_count": 82,
   "metadata": {},
   "outputs": [
    {
     "ename": "ParserException",
     "evalue": "Parser Error: syntax error at or near \"pass_type\"\nLINE 2: ...d_x, end_y from passes\n                    where end_x > 100 and end_y > 20 an...\n                                                  ^",
     "output_type": "error",
     "traceback": [
      "\u001b[0;31m---------------------------------------------------------------------------\u001b[0m",
      "\u001b[0;31mParserException\u001b[0m                           Traceback (most recent call last)",
      "Cell \u001b[0;32mIn[82], line 1\u001b[0m\n\u001b[0;32m----> 1\u001b[0m \u001b[43mduckdb\u001b[49m\u001b[38;5;241;43m.\u001b[39;49m\u001b[43msql\u001b[49m\u001b[43m(\u001b[49m\u001b[38;5;124;43m\"\"\"\u001b[39;49m\u001b[38;5;124;43mselect player, team, x, y, end_x, end_y from passes\u001b[39;49m\n\u001b[1;32m      2\u001b[0m \u001b[38;5;124;43m                    where end_x > 100 and end_y > 20 and end_y < 60 pass_type = \u001b[39;49m\u001b[38;5;124;43m'\u001b[39;49m\u001b[38;5;124;43mRegular Play\u001b[39;49m\u001b[38;5;124;43m'\u001b[39;49m\u001b[38;5;124;43m and pass_outcome = \u001b[39;49m\u001b[38;5;124;43m'\u001b[39;49m\u001b[38;5;124;43mComplete\u001b[39;49m\u001b[38;5;124;43m'\u001b[39;49m\u001b[38;5;124;43m\"\"\"\u001b[39;49m\u001b[43m)\u001b[49m\n",
      "\u001b[0;31mParserException\u001b[0m: Parser Error: syntax error at or near \"pass_type\"\nLINE 2: ...d_x, end_y from passes\n                    where end_x > 100 and end_y > 20 an...\n                                                  ^"
     ]
    }
   ],
   "source": [
    "duckdb.sql(\"\"\"select player, team, x, y, end_x, end_y from passes\n",
    "                    where end_x > 100 and end_y > 20 and end_y < 60 and pass_type = 'Regular Play' and pass_outcome = 'Complete'\"\"\")"
   ]
  },
  {
   "cell_type": "code",
   "execution_count": 65,
   "metadata": {},
   "outputs": [
    {
     "data": {
      "text/plain": [
       "┌─────────────┬───────────────────────┐\n",
       "│    team     │ pressures_in_opp_half │\n",
       "│   varchar   │         int64         │\n",
       "├─────────────┼───────────────────────┤\n",
       "│ Poland      │                    34 │\n",
       "│ Netherlands │                    72 │\n",
       "└─────────────┴───────────────────────┘"
      ]
     },
     "execution_count": 65,
     "metadata": {},
     "output_type": "execute_result"
    }
   ],
   "source": [
    "pressures = duckdb.sql(\"\"\"select team, count(*) as pressures_in_opp_half from (select team, possession, timestamp, x, y from events where type = 'Pressure' and x > 60) group by 1\"\"\")\n",
    "\n",
    "pressures"
   ]
  },
  {
   "cell_type": "code",
   "execution_count": 72,
   "metadata": {},
   "outputs": [
    {
     "data": {
      "text/html": [
       "<div>\n",
       "<style scoped>\n",
       "    .dataframe tbody tr th:only-of-type {\n",
       "        vertical-align: middle;\n",
       "    }\n",
       "\n",
       "    .dataframe tbody tr th {\n",
       "        vertical-align: top;\n",
       "    }\n",
       "\n",
       "    .dataframe thead th {\n",
       "        text-align: right;\n",
       "    }\n",
       "</style>\n",
       "<table border=\"1\" class=\"dataframe\">\n",
       "  <thead>\n",
       "    <tr style=\"text-align: right;\">\n",
       "      <th></th>\n",
       "      <th>0</th>\n",
       "      <th>1</th>\n",
       "    </tr>\n",
       "  </thead>\n",
       "  <tbody>\n",
       "    <tr>\n",
       "      <th>team</th>\n",
       "      <td>Poland</td>\n",
       "      <td>Netherlands</td>\n",
       "    </tr>\n",
       "    <tr>\n",
       "      <th>overall_xg</th>\n",
       "      <td>0.872942</td>\n",
       "      <td>1.302073</td>\n",
       "    </tr>\n",
       "    <tr>\n",
       "      <th>set_piece_xg</th>\n",
       "      <td>0.382089</td>\n",
       "      <td>0.102258</td>\n",
       "    </tr>\n",
       "    <tr>\n",
       "      <th>passes_to_penalty_area</th>\n",
       "      <td>3</td>\n",
       "      <td>10</td>\n",
       "    </tr>\n",
       "    <tr>\n",
       "      <th>pressures_in_opp_half</th>\n",
       "      <td>34</td>\n",
       "      <td>72</td>\n",
       "    </tr>\n",
       "  </tbody>\n",
       "</table>\n",
       "</div>"
      ],
      "text/plain": [
       "                               0            1\n",
       "team                      Poland  Netherlands\n",
       "overall_xg              0.872942     1.302073\n",
       "set_piece_xg            0.382089     0.102258\n",
       "passes_to_penalty_area         3           10\n",
       "pressures_in_opp_half         34           72"
      ]
     },
     "execution_count": 72,
     "metadata": {},
     "output_type": "execute_result"
    }
   ],
   "source": [
    "table = duckdb.sql(\"select xg_table.team, xg_table.overall_xg, xg_table.set_piece_xg, penalty_pass.passes_to_penalty_area, pressures.pressures_in_opp_half from xg_table join penalty_pass on xg_table.team = penalty_pass.team join pressures on xg_table.team = pressures.team\").df()\n",
    "\n",
    "table.transpose()"
   ]
  },
  {
   "cell_type": "code",
   "execution_count": 20,
   "metadata": {},
   "outputs": [
    {
     "data": {
      "text/plain": [
       "┌──────────────┐\n",
       "│ count_star() │\n",
       "│    int64     │\n",
       "├──────────────┤\n",
       "│           33 │\n",
       "└──────────────┘"
      ]
     },
     "execution_count": 20,
     "metadata": {},
     "output_type": "execute_result"
    }
   ],
   "source": [
    "duckdb.sql(\"select count(*) from shots\")"
   ]
  },
  {
   "cell_type": "code",
   "execution_count": 9,
   "metadata": {},
   "outputs": [
    {
     "ename": "BinderException",
     "evalue": "Binder Error: Values list \"shots\" does not have a column named \"shot_outcome\"",
     "output_type": "error",
     "traceback": [
      "\u001b[0;31m---------------------------------------------------------------------------\u001b[0m",
      "\u001b[0;31mBinderException\u001b[0m                           Traceback (most recent call last)",
      "Cell \u001b[0;32mIn[9], line 1\u001b[0m\n\u001b[0;32m----> 1\u001b[0m shots_type \u001b[38;5;241m=\u001b[39m \u001b[43mduckdb\u001b[49m\u001b[38;5;241;43m.\u001b[39;49m\u001b[43msql\u001b[49m\u001b[43m(\u001b[49m\u001b[38;5;124;43m\"\"\"\u001b[39;49m\u001b[38;5;124;43mselect distinct events.possession, first_value(play_pattern) over (partition by events.possession, events.team order by timestamp) as play_pattern, shots.shot_statsbomb_xg, events.team, first_value(type) over (partition by events.possession, events.team order by timestamp) as type, first_value(location) over (partition by events.possession, events.team order by timestamp) as location,\u001b[39;49m\n\u001b[1;32m      2\u001b[0m \u001b[38;5;124;43m                        first_value(events.pass_type) over (partition by events.possession, events.team order by timestamp) as pass_type, shots.shot_outcome\u001b[39;49m\n\u001b[1;32m      3\u001b[0m \u001b[38;5;124;43m                        from events \u001b[39;49m\n\u001b[1;32m      4\u001b[0m \u001b[38;5;124;43m                        join shots on events.possession = shots.possession and events.team = shots.team\u001b[39;49m\n\u001b[1;32m      5\u001b[0m \u001b[38;5;124;43m                        order by 1\u001b[39;49m\u001b[38;5;124;43m\"\"\"\u001b[39;49m\u001b[43m)\u001b[49m\n",
      "\u001b[0;31mBinderException\u001b[0m: Binder Error: Values list \"shots\" does not have a column named \"shot_outcome\""
     ]
    }
   ],
   "source": [
    "shots_type = duckdb.sql(\"\"\"select distinct events.possession, first_value(play_pattern) over (partition by events.possession, events.team order by timestamp) as play_pattern, shots.shot_statsbomb_xg, events.team, first_value(type) over (partition by events.possession, events.team order by timestamp) as type, first_value(location) over (partition by events.possession, events.team order by timestamp) as location,\n",
    "                        first_value(events.pass_type) over (partition by events.possession, events.team order by timestamp) as pass_type, shots.shot_outcome\n",
    "                        from events \n",
    "                        join shots on events.possession = shots.possession and events.team = shots.team\n",
    "                        order by 1\"\"\")"
   ]
  },
  {
   "cell_type": "code",
   "execution_count": 7,
   "metadata": {},
   "outputs": [
    {
     "ename": "NameError",
     "evalue": "name 'shots_type' is not defined",
     "output_type": "error",
     "traceback": [
      "\u001b[0;31m---------------------------------------------------------------------------\u001b[0m",
      "\u001b[0;31mNameError\u001b[0m                                 Traceback (most recent call last)",
      "Cell \u001b[0;32mIn[7], line 1\u001b[0m\n\u001b[0;32m----> 1\u001b[0m \u001b[43mshots_type\u001b[49m\n",
      "\u001b[0;31mNameError\u001b[0m: name 'shots_type' is not defined"
     ]
    }
   ],
   "source": [
    "shots_type"
   ]
  },
  {
   "cell_type": "code",
   "execution_count": 45,
   "metadata": {},
   "outputs": [
    {
     "name": "stderr",
     "output_type": "stream",
     "text": [
      "/var/folders/mn/686s79xs0mv06qcjlx9yv1440000gn/T/ipykernel_43182/171775891.py:10: SettingWithCopyWarning: \n",
      "A value is trying to be set on a copy of a slice from a DataFrame.\n",
      "Try using .loc[row_indexer,col_indexer] = value instead\n",
      "\n",
      "See the caveats in the documentation: https://pandas.pydata.org/pandas-docs/stable/user_guide/indexing.html#returning-a-view-versus-a-copy\n",
      "  passes['pass_type'] = passes['pass_type'].fillna('Regular Play')\n"
     ]
    },
    {
     "data": {
      "text/plain": [
       "array(['Kick Off', 'Regular Play', 'Recovery', 'Throw-in', 'Corner',\n",
       "       'Free Kick', 'Goal Kick', 'Interception'], dtype=object)"
      ]
     },
     "execution_count": 45,
     "metadata": {},
     "output_type": "execute_result"
    }
   ],
   "source": [
    "events = sb.events(match_id = 3938637)\n",
    "\n",
    "\n",
    "events[['x', 'y']] = events['location'].apply(pd.Series)\n",
    "events[['end_x', 'end_y']] = events['pass_end_location'].apply(pd.Series)\n",
    "\n",
    "\n",
    "passes = events[events['type'] == 'Pass']\n",
    "\n",
    "passes['pass_type'] = passes['pass_type'].fillna('Regular Play')\n",
    "\n",
    "passes['pass_type'].unique()\n"
   ]
  },
  {
   "cell_type": "code",
   "execution_count": 46,
   "metadata": {},
   "outputs": [
    {
     "data": {
      "text/plain": [
       "┌─────────────────────┬─────────────┬────────┬────────┬────────┬────────┬──────────────┬──────────────┐\n",
       "│       player        │    team     │   x    │   y    │ end_x  │ end_y  │ pass_outcome │  pass_type   │\n",
       "│       varchar       │   varchar   │ double │ double │ double │ double │   varchar    │   varchar    │\n",
       "├─────────────────────┼─────────────┼────────┼────────┼────────┼────────┼──────────────┼──────────────┤\n",
       "│ Piotr Zieliński     │ Poland      │   60.0 │   40.0 │   56.3 │   43.0 │ Complete     │ Kick Off     │\n",
       "│ Sebastian Szymański │ Poland      │   55.7 │   42.8 │   68.6 │    4.4 │ Complete     │ Regular Play │\n",
       "│ Nicola Zalewski     │ Poland      │   68.1 │    4.2 │  107.3 │   22.8 │ Incomplete   │ Regular Play │\n",
       "│ Bart Verbruggen     │ Netherlands │   12.0 │   44.9 │   15.0 │   32.4 │ Complete     │ Regular Play │\n",
       "│ Virgil van Dijk     │ Netherlands │   15.0 │   32.4 │    9.7 │   45.7 │ Complete     │ Regular Play │\n",
       "│ Bart Verbruggen     │ Netherlands │   16.5 │   42.4 │   17.5 │   32.7 │ Complete     │ Regular Play │\n",
       "│ Virgil van Dijk     │ Netherlands │   17.3 │   32.7 │   13.7 │   48.2 │ Complete     │ Regular Play │\n",
       "│ Bart Verbruggen     │ Netherlands │   19.2 │   47.1 │   84.8 │   44.9 │ Incomplete   │ Regular Play │\n",
       "│ Bartosz Salamon     │ Poland      │   35.3 │   35.2 │   52.9 │   39.9 │ Incomplete   │ Recovery     │\n",
       "│ Joey Veerman        │ Netherlands │   67.2 │   40.2 │   69.8 │   55.4 │ Complete     │ Recovery     │\n",
       "│      ·              │   ·         │     ·  │     ·  │     ·  │     ·  │    ·         │    ·         │\n",
       "│      ·              │   ·         │     ·  │     ·  │     ·  │     ·  │    ·         │    ·         │\n",
       "│      ·              │   ·         │     ·  │     ·  │     ·  │     ·  │    ·         │    ·         │\n",
       "│ Jakub Piotr Kiwior  │ Poland      │   35.8 │    7.0 │   47.2 │    5.5 │ Complete     │ Interception │\n",
       "│ Nicola Zalewski     │ Poland      │   52.0 │    4.8 │   66.3 │   11.2 │ Incomplete   │ Regular Play │\n",
       "│ Stefan de Vrij      │ Netherlands │   48.2 │   67.7 │   18.8 │   48.5 │ Complete     │ Regular Play │\n",
       "│ Bart Verbruggen     │ Netherlands │   18.7 │   48.5 │   72.1 │   64.9 │ Complete     │ Regular Play │\n",
       "│ Jakub Moder         │ Poland      │   48.4 │    9.8 │   49.6 │    3.6 │ Complete     │ Recovery     │\n",
       "│ Nicola Zalewski     │ Poland      │   50.5 │    2.9 │   49.6 │    5.9 │ Incomplete   │ Regular Play │\n",
       "│ Jakub Piotr Kiwior  │ Poland      │   42.3 │    0.1 │   34.6 │   16.6 │ Complete     │ Throw-in     │\n",
       "│ Jan Bednarek        │ Poland      │   34.0 │   20.0 │   27.4 │   42.6 │ Complete     │ Regular Play │\n",
       "│ Wojciech Szczęsny   │ Poland      │   34.6 │   48.9 │   84.6 │   26.3 │ Complete     │ Regular Play │\n",
       "│ Adam Buksa          │ Poland      │   84.6 │   26.3 │   91.3 │   22.5 │ Complete     │ Regular Play │\n",
       "├─────────────────────┴─────────────┴────────┴────────┴────────┴────────┴──────────────┴──────────────┤\n",
       "│ 954 rows (20 shown)                                                                       8 columns │\n",
       "└─────────────────────────────────────────────────────────────────────────────────────────────────────┘"
      ]
     },
     "execution_count": 46,
     "metadata": {},
     "output_type": "execute_result"
    }
   ],
   "source": [
    "duckdb.sql(\"select player, team, x, y, end_x, end_y,  ifnull(pass_outcome, 'Complete') as pass_outcome, pass_type from passes\")"
   ]
  },
  {
   "cell_type": "code",
   "execution_count": 47,
   "metadata": {},
   "outputs": [
    {
     "data": {
      "text/plain": [
       "<matplotlib.legend.Legend at 0x318fbab90>"
      ]
     },
     "execution_count": 47,
     "metadata": {},
     "output_type": "execute_result"
    },
    {
     "data": {
      "image/png": "[encoded data removed]",
      "text/plain": [
       "<Figure size 640x480 with 1 Axes>"
      ]
     },
     "metadata": {},
     "output_type": "display_data"
    }
   ],
   "source": [
    "passes = duckdb.sql(\"\"\"select player, team, x, y, end_x, end_y,  ifnull(pass_outcome, 'Complete') as pass_outcome, ifnull(pass_type, 'Regular Play') as pass_type from passes\n",
    "                    where end_x > 100 and end_y > 30 and end_y < 50 and end_x < 115 and pass_type = 'Regular Play'\"\"\").df()\n",
    "\n",
    "fig, ax = pitch.draw()\n",
    "\n",
    "for x in passes.to_dict(orient = 'records'):\n",
    "    if x['team'] == 'Poland':\n",
    "        if x['pass_outcome'] =='Complete':\n",
    "            pitch.lines(x['x'], x['y'], x['end_x'], x['end_y'], lw = 5,\n",
    "                        transparent = True, comet = True, ax = ax, color = 'g')\n",
    "        else:\n",
    "            pitch.lines(x['x'], x['y'], x['end_x'], x['end_y'], lw=5,\n",
    "                        transparent=True, comet=True, ax=ax, color='r')\n",
    "    else:\n",
    "        x['x'] = 120 - x['x']\n",
    "        x['y'] = 80 - x['y']\n",
    "        x['end_x'] = 120 - x['end_x']\n",
    "        x['end_y'] = 80 - x['end_y']\n",
    "        if x['pass_outcome'] =='Complete':\n",
    "            pitch.lines(x['x'], x['y'], x['end_x'], x['end_y'], lw = 5,\n",
    "                        transparent = True, comet = True, ax = ax, color = 'g')\n",
    "        else:\n",
    "            pitch.lines(x['x'], x['y'], x['end_x'], x['end_y'], lw=5,\n",
    "                        transparent=True, comet=True, ax=ax, color='r')\n",
    "        \n",
    "ax.set_title('Enzo Fernandez Final Third Entries \\n World Cup 2022 Final', fontsize = 12, fontfamily = 'monospace')\n",
    "\n",
    "from matplotlib.lines import Line2D\n",
    "\n",
    "legend_elements = [\n",
    "    Line2D([0], [0], color = 'g', lw = 4, label = 'Complete Pass'),\n",
    "    Line2D([0], [0], color='r', lw=4, label='Incomplete Pass'),\n",
    "\n",
    "]\n",
    "\n",
    "ax.legend(handles = legend_elements, loc = 'lower left')"
   ]
  }
 ],
 "metadata": {
  "kernelspec": {
   "display_name": "Python 3",
   "language": "python",
   "name": "python3"
  },
  "language_info": {
   "codemirror_mode": {
    "name": "ipython",
    "version": 3
   },
   "file_extension": ".py",
   "mimetype": "text/x-python",
   "name": "python",
   "nbconvert_exporter": "python",
   "pygments_lexer": "ipython3",
   "version": "3.11.3"
  }
 },
 "nbformat": 4,
 "nbformat_minor": 2
}
