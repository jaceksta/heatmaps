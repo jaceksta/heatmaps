{
 "cells": [
  {
   "cell_type": "code",
   "execution_count": 2,
   "metadata": {},
   "outputs": [
    {
     "data": {
      "application/vnd.plotly.v1+json": {
       "config": {
        "plotlyServerURL": "https://plot.ly"
       },
       "data": [
        {
         "colorbar": {
          "title": {
           "text": "Pass Difference (Team A - Team B)"
          }
         },
         "colorscale": [
          [
           0,
           "rgb(103,0,31)"
          ],
          [
           0.1,
           "rgb(178,24,43)"
          ],
          [
           0.2,
           "rgb(214,96,77)"
          ],
          [
           0.3,
           "rgb(244,165,130)"
          ],
          [
           0.4,
           "rgb(253,219,199)"
          ],
          [
           0.5,
           "rgb(247,247,247)"
          ],
          [
           0.6,
           "rgb(209,229,240)"
          ],
          [
           0.7,
           "rgb(146,197,222)"
          ],
          [
           0.8,
           "rgb(67,147,195)"
          ],
          [
           0.9,
           "rgb(33,102,172)"
          ],
          [
           1,
           "rgb(5,48,97)"
          ]
         ],
         "showscale": true,
         "type": "heatmap",
         "x": [
          10,
          30,
          50,
          70,
          90,
          110
         ],
         "y": [
          8,
          24,
          40,
          56,
          72
         ],
         "z": [
          [
           5,
           -10,
           -2,
           -1,
           2,
           2
          ],
          [
           3,
           0,
           8,
           -5,
           -4,
           3
          ],
          [
           1,
           2,
           -10,
           3,
           5,
           3
          ],
          [
           3,
           -1,
           -8,
           -2,
           2,
           4
          ],
          [
           -1,
           -5,
           6,
           1,
           5,
           1
          ]
         ],
         "zmid": 0
        }
       ],
       "layout": {
        "height": 600,
        "images": [
         {
          "layer": "below",
          "opacity": 1,
          "sizex": 120,
          "sizey": 80,
          "sizing": "stretch",
          "source": "data:image/png;base64,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",
          "x": 0,
          "xref": "x",
          "y": 80,
          "yref": "y"
         }
        ],
        "template": {
         "data": {
          "bar": [
           {
            "error_x": {
             "color": "#2a3f5f"
            },
            "error_y": {
             "color": "#2a3f5f"
            },
            "marker": {
             "line": {
              "color": "#E5ECF6",
              "width": 0.5
             },
             "pattern": {
              "fillmode": "overlay",
              "size": 10,
              "solidity": 0.2
             }
            },
            "type": "bar"
           }
          ],
          "barpolar": [
           {
            "marker": {
             "line": {
              "color": "#E5ECF6",
              "width": 0.5
             },
             "pattern": {
              "fillmode": "overlay",
              "size": 10,
              "solidity": 0.2
             }
            },
            "type": "barpolar"
           }
          ],
          "carpet": [
           {
            "aaxis": {
             "endlinecolor": "#2a3f5f",
             "gridcolor": "white",
             "linecolor": "white",
             "minorgridcolor": "white",
             "startlinecolor": "#2a3f5f"
            },
            "baxis": {
             "endlinecolor": "#2a3f5f",
             "gridcolor": "white",
             "linecolor": "white",
             "minorgridcolor": "white",
             "startlinecolor": "#2a3f5f"
            },
            "type": "carpet"
           }
          ],
          "choropleth": [
           {
            "colorbar": {
             "outlinewidth": 0,
             "ticks": ""
            },
            "type": "choropleth"
           }
          ],
          "contour": [
           {
            "colorbar": {
             "outlinewidth": 0,
             "ticks": ""
            },
            "colorscale": [
             [
              0,
              "#0d0887"
             ],
             [
              0.1111111111111111,
              "#46039f"
             ],
             [
              0.2222222222222222,
              "#7201a8"
             ],
             [
              0.3333333333333333,
              "#9c179e"
             ],
             [
              0.4444444444444444,
              "#bd3786"
             ],
             [
              0.5555555555555556,
              "#d8576b"
             ],
             [
              0.6666666666666666,
              "#ed7953"
             ],
             [
              0.7777777777777778,
              "#fb9f3a"
             ],
             [
              0.8888888888888888,
              "#fdca26"
             ],
             [
              1,
              "#f0f921"
             ]
            ],
            "type": "contour"
           }
          ],
          "contourcarpet": [
           {
            "colorbar": {
             "outlinewidth": 0,
             "ticks": ""
            },
            "type": "contourcarpet"
           }
          ],
          "heatmap": [
           {
            "colorbar": {
             "outlinewidth": 0,
             "ticks": ""
            },
            "colorscale": [
             [
              0,
              "#0d0887"
             ],
             [
              0.1111111111111111,
              "#46039f"
             ],
             [
              0.2222222222222222,
              "#7201a8"
             ],
             [
              0.3333333333333333,
              "#9c179e"
             ],
             [
              0.4444444444444444,
              "#bd3786"
             ],
             [
              0.5555555555555556,
              "#d8576b"
             ],
             [
              0.6666666666666666,
              "#ed7953"
             ],
             [
              0.7777777777777778,
              "#fb9f3a"
             ],
             [
              0.8888888888888888,
              "#fdca26"
             ],
             [
              1,
              "#f0f921"
             ]
            ],
            "type": "heatmap"
           }
          ],
          "heatmapgl": [
           {
            "colorbar": {
             "outlinewidth": 0,
             "ticks": ""
            },
            "colorscale": [
             [
              0,
              "#0d0887"
             ],
             [
              0.1111111111111111,
              "#46039f"
             ],
             [
              0.2222222222222222,
              "#7201a8"
             ],
             [
              0.3333333333333333,
              "#9c179e"
             ],
             [
              0.4444444444444444,
              "#bd3786"
             ],
             [
              0.5555555555555556,
              "#d8576b"
             ],
             [
              0.6666666666666666,
              "#ed7953"
             ],
             [
              0.7777777777777778,
              "#fb9f3a"
             ],
             [
              0.8888888888888888,
              "#fdca26"
             ],
             [
              1,
              "#f0f921"
             ]
            ],
            "type": "heatmapgl"
           }
          ],
          "histogram": [
           {
            "marker": {
             "pattern": {
              "fillmode": "overlay",
              "size": 10,
              "solidity": 0.2
             }
            },
            "type": "histogram"
           }
          ],
          "histogram2d": [
           {
            "colorbar": {
             "outlinewidth": 0,
             "ticks": ""
            },
            "colorscale": [
             [
              0,
              "#0d0887"
             ],
             [
              0.1111111111111111,
              "#46039f"
             ],
             [
              0.2222222222222222,
              "#7201a8"
             ],
             [
              0.3333333333333333,
              "#9c179e"
             ],
             [
              0.4444444444444444,
              "#bd3786"
             ],
             [
              0.5555555555555556,
              "#d8576b"
             ],
             [
              0.6666666666666666,
              "#ed7953"
             ],
             [
              0.7777777777777778,
              "#fb9f3a"
             ],
             [
              0.8888888888888888,
              "#fdca26"
             ],
             [
              1,
              "#f0f921"
             ]
            ],
            "type": "histogram2d"
           }
          ],
          "histogram2dcontour": [
           {
            "colorbar": {
             "outlinewidth": 0,
             "ticks": ""
            },
            "colorscale": [
             [
              0,
              "#0d0887"
             ],
             [
              0.1111111111111111,
              "#46039f"
             ],
             [
              0.2222222222222222,
              "#7201a8"
             ],
             [
              0.3333333333333333,
              "#9c179e"
             ],
             [
              0.4444444444444444,
              "#bd3786"
             ],
             [
              0.5555555555555556,
              "#d8576b"
             ],
             [
              0.6666666666666666,
              "#ed7953"
             ],
             [
              0.7777777777777778,
              "#fb9f3a"
             ],
             [
              0.8888888888888888,
              "#fdca26"
             ],
             [
              1,
              "#f0f921"
             ]
            ],
            "type": "histogram2dcontour"
           }
          ],
          "mesh3d": [
           {
            "colorbar": {
             "outlinewidth": 0,
             "ticks": ""
            },
            "type": "mesh3d"
           }
          ],
          "parcoords": [
           {
            "line": {
             "colorbar": {
              "outlinewidth": 0,
              "ticks": ""
             }
            },
            "type": "parcoords"
           }
          ],
          "pie": [
           {
            "automargin": true,
            "type": "pie"
           }
          ],
          "scatter": [
           {
            "fillpattern": {
             "fillmode": "overlay",
             "size": 10,
             "solidity": 0.2
            },
            "type": "scatter"
           }
          ],
          "scatter3d": [
           {
            "line": {
             "colorbar": {
              "outlinewidth": 0,
              "ticks": ""
             }
            },
            "marker": {
             "colorbar": {
              "outlinewidth": 0,
              "ticks": ""
             }
            },
            "type": "scatter3d"
           }
          ],
          "scattercarpet": [
           {
            "marker": {
             "colorbar": {
              "outlinewidth": 0,
              "ticks": ""
             }
            },
            "type": "scattercarpet"
           }
          ],
          "scattergeo": [
           {
            "marker": {
             "colorbar": {
              "outlinewidth": 0,
              "ticks": ""
             }
            },
            "type": "scattergeo"
           }
          ],
          "scattergl": [
           {
            "marker": {
             "colorbar": {
              "outlinewidth": 0,
              "ticks": ""
             }
            },
            "type": "scattergl"
           }
          ],
          "scattermapbox": [
           {
            "marker": {
             "colorbar": {
              "outlinewidth": 0,
              "ticks": ""
             }
            },
            "type": "scattermapbox"
           }
          ],
          "scatterpolar": [
           {
            "marker": {
             "colorbar": {
              "outlinewidth": 0,
              "ticks": ""
             }
            },
            "type": "scatterpolar"
           }
          ],
          "scatterpolargl": [
           {
            "marker": {
             "colorbar": {
              "outlinewidth": 0,
              "ticks": ""
             }
            },
            "type": "scatterpolargl"
           }
          ],
          "scatterternary": [
           {
            "marker": {
             "colorbar": {
              "outlinewidth": 0,
              "ticks": ""
             }
            },
            "type": "scatterternary"
           }
          ],
          "surface": [
           {
            "colorbar": {
             "outlinewidth": 0,
             "ticks": ""
            },
            "colorscale": [
             [
              0,
              "#0d0887"
             ],
             [
              0.1111111111111111,
              "#46039f"
             ],
             [
              0.2222222222222222,
              "#7201a8"
             ],
             [
              0.3333333333333333,
              "#9c179e"
             ],
             [
              0.4444444444444444,
              "#bd3786"
             ],
             [
              0.5555555555555556,
              "#d8576b"
             ],
             [
              0.6666666666666666,
              "#ed7953"
             ],
             [
              0.7777777777777778,
              "#fb9f3a"
             ],
             [
              0.8888888888888888,
              "#fdca26"
             ],
             [
              1,
              "#f0f921"
             ]
            ],
            "type": "surface"
           }
          ],
          "table": [
           {
            "cells": {
             "fill": {
              "color": "#EBF0F8"
             },
             "line": {
              "color": "white"
             }
            },
            "header": {
             "fill": {
              "color": "#C8D4E3"
             },
             "line": {
              "color": "white"
             }
            },
            "type": "table"
           }
          ]
         },
         "layout": {
          "annotationdefaults": {
           "arrowcolor": "#2a3f5f",
           "arrowhead": 0,
           "arrowwidth": 1
          },
          "autotypenumbers": "strict",
          "coloraxis": {
           "colorbar": {
            "outlinewidth": 0,
            "ticks": ""
           }
          },
          "colorscale": {
           "diverging": [
            [
             0,
             "#8e0152"
            ],
            [
             0.1,
             "#c51b7d"
            ],
            [
             0.2,
             "#de77ae"
            ],
            [
             0.3,
             "#f1b6da"
            ],
            [
             0.4,
             "#fde0ef"
            ],
            [
             0.5,
             "#f7f7f7"
            ],
            [
             0.6,
             "#e6f5d0"
            ],
            [
             0.7,
             "#b8e186"
            ],
            [
             0.8,
             "#7fbc41"
            ],
            [
             0.9,
             "#4d9221"
            ],
            [
             1,
             "#276419"
            ]
           ],
           "sequential": [
            [
             0,
             "#0d0887"
            ],
            [
             0.1111111111111111,
             "#46039f"
            ],
            [
             0.2222222222222222,
             "#7201a8"
            ],
            [
             0.3333333333333333,
             "#9c179e"
            ],
            [
             0.4444444444444444,
             "#bd3786"
            ],
            [
             0.5555555555555556,
             "#d8576b"
            ],
            [
             0.6666666666666666,
             "#ed7953"
            ],
            [
             0.7777777777777778,
             "#fb9f3a"
            ],
            [
             0.8888888888888888,
             "#fdca26"
            ],
            [
             1,
             "#f0f921"
            ]
           ],
           "sequentialminus": [
            [
             0,
             "#0d0887"
            ],
            [
             0.1111111111111111,
             "#46039f"
            ],
            [
             0.2222222222222222,
             "#7201a8"
            ],
            [
             0.3333333333333333,
             "#9c179e"
            ],
            [
             0.4444444444444444,
             "#bd3786"
            ],
            [
             0.5555555555555556,
             "#d8576b"
            ],
            [
             0.6666666666666666,
             "#ed7953"
            ],
            [
             0.7777777777777778,
             "#fb9f3a"
            ],
            [
             0.8888888888888888,
             "#fdca26"
            ],
            [
             1,
             "#f0f921"
            ]
           ]
          },
          "colorway": [
           "#636efa",
           "#EF553B",
           "#00cc96",
           "#ab63fa",
           "#FFA15A",
           "#19d3f3",
           "#FF6692",
           "#B6E880",
           "#FF97FF",
           "#FECB52"
          ],
          "font": {
           "color": "#2a3f5f"
          },
          "geo": {
           "bgcolor": "white",
           "lakecolor": "white",
           "landcolor": "#E5ECF6",
           "showlakes": true,
           "showland": true,
           "subunitcolor": "white"
          },
          "hoverlabel": {
           "align": "left"
          },
          "hovermode": "closest",
          "mapbox": {
           "style": "light"
          },
          "paper_bgcolor": "white",
          "plot_bgcolor": "#E5ECF6",
          "polar": {
           "angularaxis": {
            "gridcolor": "white",
            "linecolor": "white",
            "ticks": ""
           },
           "bgcolor": "#E5ECF6",
           "radialaxis": {
            "gridcolor": "white",
            "linecolor": "white",
            "ticks": ""
           }
          },
          "scene": {
           "xaxis": {
            "backgroundcolor": "#E5ECF6",
            "gridcolor": "white",
            "gridwidth": 2,
            "linecolor": "white",
            "showbackground": true,
            "ticks": "",
            "zerolinecolor": "white"
           },
           "yaxis": {
            "backgroundcolor": "#E5ECF6",
            "gridcolor": "white",
            "gridwidth": 2,
            "linecolor": "white",
            "showbackground": true,
            "ticks": "",
            "zerolinecolor": "white"
           },
           "zaxis": {
            "backgroundcolor": "#E5ECF6",
            "gridcolor": "white",
            "gridwidth": 2,
            "linecolor": "white",
            "showbackground": true,
            "ticks": "",
            "zerolinecolor": "white"
           }
          },
          "shapedefaults": {
           "line": {
            "color": "#2a3f5f"
           }
          },
          "ternary": {
           "aaxis": {
            "gridcolor": "white",
            "linecolor": "white",
            "ticks": ""
           },
           "baxis": {
            "gridcolor": "white",
            "linecolor": "white",
            "ticks": ""
           },
           "bgcolor": "#E5ECF6",
           "caxis": {
            "gridcolor": "white",
            "linecolor": "white",
            "ticks": ""
           }
          },
          "title": {
           "x": 0.05
          },
          "xaxis": {
           "automargin": true,
           "gridcolor": "white",
           "linecolor": "white",
           "ticks": "",
           "title": {
            "standoff": 15
           },
           "zerolinecolor": "white",
           "zerolinewidth": 2
          },
          "yaxis": {
           "automargin": true,
           "gridcolor": "white",
           "linecolor": "white",
           "ticks": "",
           "title": {
            "standoff": 15
           },
           "zerolinecolor": "white",
           "zerolinewidth": 2
          }
         }
        },
        "title": {
         "text": "Difference in Number of Passes between Team A and Team B"
        },
        "width": 800,
        "xaxis": {
         "range": [
          0,
          120
         ],
         "title": {
          "text": "X-coordinate"
         }
        },
        "yaxis": {
         "autorange": "reversed",
         "range": [
          0,
          80
         ],
         "scaleanchor": "x",
         "scaleratio": 1,
         "title": {
          "text": "Y-coordinate"
         }
        }
       }
      }
     },
     "metadata": {},
     "output_type": "display_data"
    },
    {
     "data": {
      "image/png": "[encoded data removed]",
      "text/plain": [
       "<Figure size 1000x700 with 1 Axes>"
      ]
     },
     "metadata": {},
     "output_type": "display_data"
    }
   ],
   "source": [
    "import numpy as np\n",
    "import pandas as pd\n",
    "import plotly.graph_objects as go\n",
    "from mplsoccer import Pitch\n",
    "import matplotlib.pyplot as plt\n",
    "from io import BytesIO\n",
    "import base64\n",
    "\n",
    "# Create a synthetic dataset of passes for two teams\n",
    "data = {\n",
    "    'x': np.random.uniform(0, 120, 1000),  # x-coordinates of the passes\n",
    "    'y': np.random.uniform(0, 80, 1000),   # y-coordinates of the passes\n",
    "    'team': np.random.choice(['Team A', 'Team B'], 1000)  # team making the pass\n",
    "}\n",
    "\n",
    "df = pd.DataFrame(data)\n",
    "\n",
    "# Define pitch dimensions (length and width)\n",
    "pitch_length = 120\n",
    "pitch_width = 80\n",
    "\n",
    "# Divide pitch into 30 zones (e.g., 5 rows x 6 columns)\n",
    "num_vertical_zones = 5\n",
    "num_horizontal_zones = 6\n",
    "\n",
    "# Calculate zone boundaries\n",
    "x_bins = np.linspace(0, pitch_length, num_horizontal_zones + 1)\n",
    "y_bins = np.linspace(0, pitch_width, num_vertical_zones + 1)\n",
    "\n",
    "# Count passes in each zone for each team\n",
    "df['x_bin'] = pd.cut(df['x'], bins=x_bins, labels=False)\n",
    "df['y_bin'] = pd.cut(df['y'], bins=y_bins, labels=False)\n",
    "\n",
    "pass_counts = df.groupby(['x_bin', 'y_bin', 'team']).size().unstack(fill_value=0)\n",
    "\n",
    "# Calculate the difference between Team A and Team B in each zone\n",
    "pass_diff = pass_counts.get('Team A', 0) - pass_counts.get('Team B', 0)\n",
    "\n",
    "# Create a 2D array of the differences with proper shape\n",
    "pass_diff_matrix = np.zeros((num_vertical_zones, num_horizontal_zones))\n",
    "\n",
    "for (x_bin, y_bin), value in pass_diff.items():\n",
    "    pass_diff_matrix[y_bin, x_bin] = value\n",
    "\n",
    "# Prepare data for heatmap plotting\n",
    "x_bin_centers = (x_bins[:-1] + x_bins[1:]) / 2\n",
    "y_bin_centers = (y_bins[:-1] + y_bins[1:]) / 2\n",
    "\n",
    "# Create the pitch using mplsoccer and convert it to an image\n",
    "pitch = Pitch(pitch_type='statsbomb', line_zorder=2, pitch_color='white', line_color='black')\n",
    "fig, ax = pitch.draw(figsize=(10, 7))\n",
    "\n",
    "# Save the pitch plot to a BytesIO object\n",
    "buf = BytesIO()\n",
    "fig.savefig(buf, format=\"png\", bbox_inches='tight', pad_inches=0)\n",
    "buf.seek(0)\n",
    "\n",
    "# Encode the BytesIO object as a base64 string\n",
    "image_base64 = base64.b64encode(buf.read()).decode('utf-8')\n",
    "\n",
    "# Create the plotly heatmap with the pitch image as the background\n",
    "heatmap = go.Heatmap(\n",
    "    z=pass_diff_matrix,\n",
    "    x=x_bin_centers,\n",
    "    y=y_bin_centers,\n",
    "    colorscale='RdBu',\n",
    "    colorbar=dict(title='Pass Difference (Team A - Team B)'),\n",
    "    showscale=True,\n",
    "    zmid=0\n",
    ")\n",
    "\n",
    "fig = go.Figure(data=[heatmap])\n",
    "\n",
    "# Add the pitch image as a background\n",
    "fig.add_layout_image(\n",
    "    dict(\n",
    "        source=f'data:image/png;base64,{image_base64}',\n",
    "        xref=\"x\",\n",
    "        yref=\"y\",\n",
    "        x=0,\n",
    "        y=pitch_width,\n",
    "        sizex=pitch_length,\n",
    "        sizey=pitch_width,\n",
    "        sizing=\"stretch\",\n",
    "        opacity=1,\n",
    "        layer=\"below\"\n",
    "    )\n",
    ")\n",
    "\n",
    "# Update layout for better appearance\n",
    "fig.update_layout(\n",
    "    title='Difference in Number of Passes between Team A and Team B',\n",
    "    xaxis=dict(title='X-coordinate', range=[0, pitch_length]),\n",
    "    yaxis=dict(title='Y-coordinate', range=[0, pitch_width], scaleanchor=\"x\", scaleratio=1, autorange=\"reversed\"),\n",
    "    width=800,\n",
    "    height=600,\n",
    ")\n",
    "\n",
    "fig.show()\n"
   ]
  },
  {
   "cell_type": "code",
   "execution_count": 6,
   "metadata": {},
   "outputs": [
    {
     "data": {
      "text/plain": [
       "array([[1.57476197e-01, 5.53824544e-01, 6.68709091e-01, 4.23216373e-01,\n",
       "        1.36860045e-01, 5.90295355e-01, 6.58132178e-01, 6.19956298e-01,\n",
       "        5.80878337e-01, 2.63352441e-01, 7.59071264e-01, 1.38389472e-01,\n",
       "        5.10178983e-01, 1.29602658e-01, 5.13755063e-01],\n",
       "       [6.85512753e-01, 5.92667751e-01, 3.86253625e-01, 4.73837710e-01,\n",
       "        6.28958355e-01, 1.94915089e-01, 9.98297544e-01, 9.68839008e-01,\n",
       "        2.70544546e-01, 7.66174508e-02, 9.31951624e-01, 6.17274992e-02,\n",
       "        4.79546566e-01, 6.12186906e-01, 2.53503145e-01],\n",
       "       [1.42565576e-01, 6.77539983e-01, 1.51253520e-01, 4.69842453e-01,\n",
       "        9.37617255e-01, 4.50658749e-03, 6.10013565e-01, 9.68303849e-01,\n",
       "        4.45952090e-01, 7.18496388e-01, 5.72917329e-01, 9.96838883e-01,\n",
       "        5.15583687e-01, 1.83577769e-02, 6.76182606e-01],\n",
       "       [8.76144499e-02, 9.00279226e-01, 1.51340300e-01, 7.26099498e-01,\n",
       "        8.28794210e-01, 7.74900629e-01, 1.22727398e-01, 7.60776027e-01,\n",
       "        8.48336808e-01, 3.57891489e-01, 3.87451538e-01, 2.60387422e-01,\n",
       "        3.61271772e-01, 6.06000907e-01, 3.80434089e-02],\n",
       "       [8.77624522e-01, 7.99762746e-01, 8.52591152e-01, 1.25071186e-01,\n",
       "        8.96661888e-01, 4.73403959e-01, 2.47796868e-01, 7.73359275e-01,\n",
       "        8.88929858e-02, 3.55325164e-01, 3.80605629e-01, 6.59792461e-01,\n",
       "        5.28049724e-01, 2.04109981e-01, 8.26004475e-01],\n",
       "       [1.67462861e-02, 3.46716032e-01, 6.75071236e-01, 4.63878754e-01,\n",
       "        1.93036868e-01, 1.57247578e-01, 9.73954076e-01, 1.91935602e-02,\n",
       "        6.87789133e-01, 5.12657488e-01, 3.63721790e-01, 6.76783447e-01,\n",
       "        7.30903096e-01, 8.95858149e-01, 1.27176058e-01],\n",
       "       [2.35364266e-01, 7.70892446e-01, 3.58468828e-01, 9.88843777e-01,\n",
       "        2.72738457e-01, 8.65222913e-01, 1.30391804e-01, 1.26784573e-01,\n",
       "        9.55083093e-01, 5.83301354e-01, 7.92075430e-01, 8.39858686e-01,\n",
       "        4.45349316e-01, 5.03807994e-01, 7.87371747e-01],\n",
       "       [2.94279297e-01, 6.99760006e-01, 3.00298184e-01, 9.65160555e-01,\n",
       "        4.34521277e-01, 4.38346755e-01, 5.97165334e-01, 3.90365884e-01,\n",
       "        8.77471208e-01, 9.22628329e-01, 7.06533249e-01, 6.76737814e-01,\n",
       "        7.93984071e-01, 8.63714291e-01, 3.33482302e-01],\n",
       "       [5.23749403e-01, 6.33538877e-01, 1.29197141e-01, 8.54619144e-01,\n",
       "        4.52533982e-01, 7.84613854e-01, 3.47895215e-01, 4.42530643e-01,\n",
       "        6.16694239e-02, 6.54934163e-01, 6.85992481e-01, 5.77345293e-01,\n",
       "        9.67380467e-01, 9.00020840e-01, 4.54652532e-01],\n",
       "       [1.23557003e-01, 6.65527329e-01, 6.49638365e-01, 5.83377067e-01,\n",
       "        7.29432460e-01, 4.44257886e-01, 8.14875854e-01, 9.90088359e-01,\n",
       "        4.26433647e-01, 5.04221747e-02, 6.73560582e-01, 3.82088012e-01,\n",
       "        7.61625851e-01, 9.68808127e-01, 8.91629900e-01],\n",
       "       [3.00345729e-01, 8.49376715e-02, 2.28726475e-01, 2.08318155e-01,\n",
       "        7.83718124e-01, 9.28446487e-01, 6.32106894e-01, 9.72516602e-01,\n",
       "        7.43403797e-01, 4.81863709e-02, 6.86542353e-01, 1.45994482e-02,\n",
       "        5.62335820e-04, 1.35952766e-01, 9.58757311e-02],\n",
       "       [1.24829651e-01, 8.12983724e-01, 9.92963560e-01, 4.97850989e-01,\n",
       "        8.09620570e-01, 4.95702641e-01, 2.26611122e-01, 5.82120861e-01,\n",
       "        7.80796972e-02, 5.34543547e-01, 2.78974789e-01, 9.42413480e-01,\n",
       "        1.58917078e-01, 5.18252588e-01, 3.62959324e-01]])"
      ]
     },
     "execution_count": 6,
     "metadata": {},
     "output_type": "execute_result"
    }
   ],
   "source": [
    "import numpy as np\n",
    "import random\n",
    "\n",
    "from plotly_football_pitch import make_pitch_figure, PitchDimensions, add_heatmap\n",
    "\n",
    "\n",
    "dimensions = PitchDimensions()\n",
    "fig = make_pitch_figure(dimensions)\n",
    "\n",
    "# define number of grid squares for heatmap data\n",
    "width_grid = 12\n",
    "length_grid = 15\n",
    "\n",
    "data = np.array([\n",
    "    [random.random() for _ in range(length_grid)]\n",
    "    for _ in range(width_grid)\n",
    "])\n",
    "\n",
    "fig = add_heatmap(fig, data)\n",
    "fig.show()"
   ]
  },
  {
   "cell_type": "code",
   "execution_count": 8,
   "metadata": {},
   "outputs": [
    {
     "data": {
      "application/vnd.plotly.v1+json": {
       "config": {
        "plotlyServerURL": "https://plot.ly"
       },
       "data": [
        {
         "colorscale": [
          [
           0,
           "red"
          ],
          [
           1,
           "green"
          ]
         ],
         "showscale": false,
         "type": "heatmap",
         "x": [
          "Col1",
          "Col2",
          "Col3",
          "Col4",
          "Col5",
          "Col6"
         ],
         "y": [
          "Row1",
          "Row2",
          "Row3",
          "Row4",
          "Row5"
         ],
         "z": [
          [
           0,
           0,
           1,
           0,
           0,
           0
          ],
          [
           1,
           0,
           0,
           0,
           0,
           0
          ],
          [
           1,
           0,
           0,
           0,
           0,
           0
          ],
          [
           0,
           0,
           0,
           0,
           0,
           0
          ],
          [
           0,
           0,
           0,
           0,
           1,
           0
          ]
         ],
         "zmax": 1,
         "zmin": 0
        }
       ],
       "layout": {
        "template": {
         "data": {
          "bar": [
           {
            "error_x": {
             "color": "#2a3f5f"
            },
            "error_y": {
             "color": "#2a3f5f"
            },
            "marker": {
             "line": {
              "color": "#E5ECF6",
              "width": 0.5
             },
             "pattern": {
              "fillmode": "overlay",
              "size": 10,
              "solidity": 0.2
             }
            },
            "type": "bar"
           }
          ],
          "barpolar": [
           {
            "marker": {
             "line": {
              "color": "#E5ECF6",
              "width": 0.5
             },
             "pattern": {
              "fillmode": "overlay",
              "size": 10,
              "solidity": 0.2
             }
            },
            "type": "barpolar"
           }
          ],
          "carpet": [
           {
            "aaxis": {
             "endlinecolor": "#2a3f5f",
             "gridcolor": "white",
             "linecolor": "white",
             "minorgridcolor": "white",
             "startlinecolor": "#2a3f5f"
            },
            "baxis": {
             "endlinecolor": "#2a3f5f",
             "gridcolor": "white",
             "linecolor": "white",
             "minorgridcolor": "white",
             "startlinecolor": "#2a3f5f"
            },
            "type": "carpet"
           }
          ],
          "choropleth": [
           {
            "colorbar": {
             "outlinewidth": 0,
             "ticks": ""
            },
            "type": "choropleth"
           }
          ],
          "contour": [
           {
            "colorbar": {
             "outlinewidth": 0,
             "ticks": ""
            },
            "colorscale": [
             [
              0,
              "#0d0887"
             ],
             [
              0.1111111111111111,
              "#46039f"
             ],
             [
              0.2222222222222222,
              "#7201a8"
             ],
             [
              0.3333333333333333,
              "#9c179e"
             ],
             [
              0.4444444444444444,
              "#bd3786"
             ],
             [
              0.5555555555555556,
              "#d8576b"
             ],
             [
              0.6666666666666666,
              "#ed7953"
             ],
             [
              0.7777777777777778,
              "#fb9f3a"
             ],
             [
              0.8888888888888888,
              "#fdca26"
             ],
             [
              1,
              "#f0f921"
             ]
            ],
            "type": "contour"
           }
          ],
          "contourcarpet": [
           {
            "colorbar": {
             "outlinewidth": 0,
             "ticks": ""
            },
            "type": "contourcarpet"
           }
          ],
          "heatmap": [
           {
            "colorbar": {
             "outlinewidth": 0,
             "ticks": ""
            },
            "colorscale": [
             [
              0,
              "#0d0887"
             ],
             [
              0.1111111111111111,
              "#46039f"
             ],
             [
              0.2222222222222222,
              "#7201a8"
             ],
             [
              0.3333333333333333,
              "#9c179e"
             ],
             [
              0.4444444444444444,
              "#bd3786"
             ],
             [
              0.5555555555555556,
              "#d8576b"
             ],
             [
              0.6666666666666666,
              "#ed7953"
             ],
             [
              0.7777777777777778,
              "#fb9f3a"
             ],
             [
              0.8888888888888888,
              "#fdca26"
             ],
             [
              1,
              "#f0f921"
             ]
            ],
            "type": "heatmap"
           }
          ],
          "heatmapgl": [
           {
            "colorbar": {
             "outlinewidth": 0,
             "ticks": ""
            },
            "colorscale": [
             [
              0,
              "#0d0887"
             ],
             [
              0.1111111111111111,
              "#46039f"
             ],
             [
              0.2222222222222222,
              "#7201a8"
             ],
             [
              0.3333333333333333,
              "#9c179e"
             ],
             [
              0.4444444444444444,
              "#bd3786"
             ],
             [
              0.5555555555555556,
              "#d8576b"
             ],
             [
              0.6666666666666666,
              "#ed7953"
             ],
             [
              0.7777777777777778,
              "#fb9f3a"
             ],
             [
              0.8888888888888888,
              "#fdca26"
             ],
             [
              1,
              "#f0f921"
             ]
            ],
            "type": "heatmapgl"
           }
          ],
          "histogram": [
           {
            "marker": {
             "pattern": {
              "fillmode": "overlay",
              "size": 10,
              "solidity": 0.2
             }
            },
            "type": "histogram"
           }
          ],
          "histogram2d": [
           {
            "colorbar": {
             "outlinewidth": 0,
             "ticks": ""
            },
            "colorscale": [
             [
              0,
              "#0d0887"
             ],
             [
              0.1111111111111111,
              "#46039f"
             ],
             [
              0.2222222222222222,
              "#7201a8"
             ],
             [
              0.3333333333333333,
              "#9c179e"
             ],
             [
              0.4444444444444444,
              "#bd3786"
             ],
             [
              0.5555555555555556,
              "#d8576b"
             ],
             [
              0.6666666666666666,
              "#ed7953"
             ],
             [
              0.7777777777777778,
              "#fb9f3a"
             ],
             [
              0.8888888888888888,
              "#fdca26"
             ],
             [
              1,
              "#f0f921"
             ]
            ],
            "type": "histogram2d"
           }
          ],
          "histogram2dcontour": [
           {
            "colorbar": {
             "outlinewidth": 0,
             "ticks": ""
            },
            "colorscale": [
             [
              0,
              "#0d0887"
             ],
             [
              0.1111111111111111,
              "#46039f"
             ],
             [
              0.2222222222222222,
              "#7201a8"
             ],
             [
              0.3333333333333333,
              "#9c179e"
             ],
             [
              0.4444444444444444,
              "#bd3786"
             ],
             [
              0.5555555555555556,
              "#d8576b"
             ],
             [
              0.6666666666666666,
              "#ed7953"
             ],
             [
              0.7777777777777778,
              "#fb9f3a"
             ],
             [
              0.8888888888888888,
              "#fdca26"
             ],
             [
              1,
              "#f0f921"
             ]
            ],
            "type": "histogram2dcontour"
           }
          ],
          "mesh3d": [
           {
            "colorbar": {
             "outlinewidth": 0,
             "ticks": ""
            },
            "type": "mesh3d"
           }
          ],
          "parcoords": [
           {
            "line": {
             "colorbar": {
              "outlinewidth": 0,
              "ticks": ""
             }
            },
            "type": "parcoords"
           }
          ],
          "pie": [
           {
            "automargin": true,
            "type": "pie"
           }
          ],
          "scatter": [
           {
            "fillpattern": {
             "fillmode": "overlay",
             "size": 10,
             "solidity": 0.2
            },
            "type": "scatter"
           }
          ],
          "scatter3d": [
           {
            "line": {
             "colorbar": {
              "outlinewidth": 0,
              "ticks": ""
             }
            },
            "marker": {
             "colorbar": {
              "outlinewidth": 0,
              "ticks": ""
             }
            },
            "type": "scatter3d"
           }
          ],
          "scattercarpet": [
           {
            "marker": {
             "colorbar": {
              "outlinewidth": 0,
              "ticks": ""
             }
            },
            "type": "scattercarpet"
           }
          ],
          "scattergeo": [
           {
            "marker": {
             "colorbar": {
              "outlinewidth": 0,
              "ticks": ""
             }
            },
            "type": "scattergeo"
           }
          ],
          "scattergl": [
           {
            "marker": {
             "colorbar": {
              "outlinewidth": 0,
              "ticks": ""
             }
            },
            "type": "scattergl"
           }
          ],
          "scattermapbox": [
           {
            "marker": {
             "colorbar": {
              "outlinewidth": 0,
              "ticks": ""
             }
            },
            "type": "scattermapbox"
           }
          ],
          "scatterpolar": [
           {
            "marker": {
             "colorbar": {
              "outlinewidth": 0,
              "ticks": ""
             }
            },
            "type": "scatterpolar"
           }
          ],
          "scatterpolargl": [
           {
            "marker": {
             "colorbar": {
              "outlinewidth": 0,
              "ticks": ""
             }
            },
            "type": "scatterpolargl"
           }
          ],
          "scatterternary": [
           {
            "marker": {
             "colorbar": {
              "outlinewidth": 0,
              "ticks": ""
             }
            },
            "type": "scatterternary"
           }
          ],
          "surface": [
           {
            "colorbar": {
             "outlinewidth": 0,
             "ticks": ""
            },
            "colorscale": [
             [
              0,
              "#0d0887"
             ],
             [
              0.1111111111111111,
              "#46039f"
             ],
             [
              0.2222222222222222,
              "#7201a8"
             ],
             [
              0.3333333333333333,
              "#9c179e"
             ],
             [
              0.4444444444444444,
              "#bd3786"
             ],
             [
              0.5555555555555556,
              "#d8576b"
             ],
             [
              0.6666666666666666,
              "#ed7953"
             ],
             [
              0.7777777777777778,
              "#fb9f3a"
             ],
             [
              0.8888888888888888,
              "#fdca26"
             ],
             [
              1,
              "#f0f921"
             ]
            ],
            "type": "surface"
           }
          ],
          "table": [
           {
            "cells": {
             "fill": {
              "color": "#EBF0F8"
             },
             "line": {
              "color": "white"
             }
            },
            "header": {
             "fill": {
              "color": "#C8D4E3"
             },
             "line": {
              "color": "white"
             }
            },
            "type": "table"
           }
          ]
         },
         "layout": {
          "annotationdefaults": {
           "arrowcolor": "#2a3f5f",
           "arrowhead": 0,
           "arrowwidth": 1
          },
          "autotypenumbers": "strict",
          "coloraxis": {
           "colorbar": {
            "outlinewidth": 0,
            "ticks": ""
           }
          },
          "colorscale": {
           "diverging": [
            [
             0,
             "#8e0152"
            ],
            [
             0.1,
             "#c51b7d"
            ],
            [
             0.2,
             "#de77ae"
            ],
            [
             0.3,
             "#f1b6da"
            ],
            [
             0.4,
             "#fde0ef"
            ],
            [
             0.5,
             "#f7f7f7"
            ],
            [
             0.6,
             "#e6f5d0"
            ],
            [
             0.7,
             "#b8e186"
            ],
            [
             0.8,
             "#7fbc41"
            ],
            [
             0.9,
             "#4d9221"
            ],
            [
             1,
             "#276419"
            ]
           ],
           "sequential": [
            [
             0,
             "#0d0887"
            ],
            [
             0.1111111111111111,
             "#46039f"
            ],
            [
             0.2222222222222222,
             "#7201a8"
            ],
            [
             0.3333333333333333,
             "#9c179e"
            ],
            [
             0.4444444444444444,
             "#bd3786"
            ],
            [
             0.5555555555555556,
             "#d8576b"
            ],
            [
             0.6666666666666666,
             "#ed7953"
            ],
            [
             0.7777777777777778,
             "#fb9f3a"
            ],
            [
             0.8888888888888888,
             "#fdca26"
            ],
            [
             1,
             "#f0f921"
            ]
           ],
           "sequentialminus": [
            [
             0,
             "#0d0887"
            ],
            [
             0.1111111111111111,
             "#46039f"
            ],
            [
             0.2222222222222222,
             "#7201a8"
            ],
            [
             0.3333333333333333,
             "#9c179e"
            ],
            [
             0.4444444444444444,
             "#bd3786"
            ],
            [
             0.5555555555555556,
             "#d8576b"
            ],
            [
             0.6666666666666666,
             "#ed7953"
            ],
            [
             0.7777777777777778,
             "#fb9f3a"
            ],
            [
             0.8888888888888888,
             "#fdca26"
            ],
            [
             1,
             "#f0f921"
            ]
           ]
          },
          "colorway": [
           "#636efa",
           "#EF553B",
           "#00cc96",
           "#ab63fa",
           "#FFA15A",
           "#19d3f3",
           "#FF6692",
           "#B6E880",
           "#FF97FF",
           "#FECB52"
          ],
          "font": {
           "color": "#2a3f5f"
          },
          "geo": {
           "bgcolor": "white",
           "lakecolor": "white",
           "landcolor": "#E5ECF6",
           "showlakes": true,
           "showland": true,
           "subunitcolor": "white"
          },
          "hoverlabel": {
           "align": "left"
          },
          "hovermode": "closest",
          "mapbox": {
           "style": "light"
          },
          "paper_bgcolor": "white",
          "plot_bgcolor": "#E5ECF6",
          "polar": {
           "angularaxis": {
            "gridcolor": "white",
            "linecolor": "white",
            "ticks": ""
           },
           "bgcolor": "#E5ECF6",
           "radialaxis": {
            "gridcolor": "white",
            "linecolor": "white",
            "ticks": ""
           }
          },
          "scene": {
           "xaxis": {
            "backgroundcolor": "#E5ECF6",
            "gridcolor": "white",
            "gridwidth": 2,
            "linecolor": "white",
            "showbackground": true,
            "ticks": "",
            "zerolinecolor": "white"
           },
           "yaxis": {
            "backgroundcolor": "#E5ECF6",
            "gridcolor": "white",
            "gridwidth": 2,
            "linecolor": "white",
            "showbackground": true,
            "ticks": "",
            "zerolinecolor": "white"
           },
           "zaxis": {
            "backgroundcolor": "#E5ECF6",
            "gridcolor": "white",
            "gridwidth": 2,
            "linecolor": "white",
            "showbackground": true,
            "ticks": "",
            "zerolinecolor": "white"
           }
          },
          "shapedefaults": {
           "line": {
            "color": "#2a3f5f"
           }
          },
          "ternary": {
           "aaxis": {
            "gridcolor": "white",
            "linecolor": "white",
            "ticks": ""
           },
           "baxis": {
            "gridcolor": "white",
            "linecolor": "white",
            "ticks": ""
           },
           "bgcolor": "#E5ECF6",
           "caxis": {
            "gridcolor": "white",
            "linecolor": "white",
            "ticks": ""
           }
          },
          "title": {
           "x": 0.05
          },
          "xaxis": {
           "automargin": true,
           "gridcolor": "white",
           "linecolor": "white",
           "ticks": "",
           "title": {
            "standoff": 15
           },
           "zerolinecolor": "white",
           "zerolinewidth": 2
          },
          "yaxis": {
           "automargin": true,
           "gridcolor": "white",
           "linecolor": "white",
           "ticks": "",
           "title": {
            "standoff": 15
           },
           "zerolinecolor": "white",
           "zerolinewidth": 2
          }
         }
        },
        "title": {
         "text": "Categorical Heatmap"
        },
        "xaxis": {
         "tickmode": "array",
         "ticktext": [
          "Col1",
          "Col2",
          "Col3",
          "Col4",
          "Col5",
          "Col6"
         ],
         "tickvals": [
          0,
          1,
          2,
          3,
          4,
          5
         ],
         "title": {
          "text": "Category B"
         }
        },
        "yaxis": {
         "tickmode": "array",
         "ticktext": [
          "Row1",
          "Row2",
          "Row3",
          "Row4",
          "Row5"
         ],
         "tickvals": [
          0,
          1,
          2,
          3,
          4
         ],
         "title": {
          "text": "Category A"
         }
        }
       }
      }
     },
     "metadata": {},
     "output_type": "display_data"
    }
   ],
   "source": [
    "import numpy as np\n",
    "import plotly.graph_objects as go\n",
    "\n",
    "# Original matrix\n",
    "matrix = np.array([[  0.,  -4.,   8.,  -5.,  -2.,  -3.],\n",
    "                   [  2.,  -3.,  -4., -11., -10., -11.],\n",
    "                   [  7.,  -7., -10., -10.,  -8.,  -8.],\n",
    "                   [ -1.,  -4.,  -8.,  -2.,  -6.,  -1.],\n",
    "                   [ -2.,  -9.,  -7., -11.,   2.,   0.]])\n",
    "\n",
    "# Convert to binary categories: 0 for 'Less than 0', 1 for 'Bigger than 0'\n",
    "binary_matrix = np.where(matrix > 0, 1, 0)\n",
    "\n",
    "# Prepare data for Plotly\n",
    "z_values = binary_matrix\n",
    "\n",
    "# Define colors for the binary values\n",
    "colors = ['red', 'green']\n",
    "\n",
    "# Create heatmap\n",
    "heatmap = go.Figure(data=go.Heatmap(\n",
    "    z=z_values,\n",
    "    x=['Col1', 'Col2', 'Col3', 'Col4', 'Col5', 'Col6'],  # Example column labels\n",
    "    y=['Row1', 'Row2', 'Row3', 'Row4', 'Row5'],          # Example row labels\n",
    "    colorscale=[[0, 'red'], [1, 'green']],\n",
    "    showscale=False,\n",
    "    zmin=0,  # Set min value for colorscale\n",
    "    zmax=1   # Set max value for colorscale\n",
    "))\n",
    "\n",
    "# Update layout for better readability\n",
    "heatmap.update_layout(\n",
    "    title='Categorical Heatmap',\n",
    "    xaxis_title='Category B',\n",
    "    yaxis_title='Category A',\n",
    "    xaxis=dict(tickmode='array', tickvals=list(range(6)), ticktext=['Col1', 'Col2', 'Col3', 'Col4', 'Col5', 'Col6']),\n",
    "    yaxis=dict(tickmode='array', tickvals=list(range(5)), ticktext=['Row1', 'Row2', 'Row3', 'Row4', 'Row5'])\n",
    ")\n",
    "\n",
    "heatmap.show()\n"
   ]
  },
  {
   "cell_type": "code",
   "execution_count": 8,
   "metadata": {},
   "outputs": [
    {
     "name": "stdout",
     "output_type": "stream",
     "text": [
      "Probability matrix (Team 1 goals vs Team 2 goals):\n",
      "[[0.403 0.161 0.027 0.003 0.001 0.   ]\n",
      " [0.209 0.077 0.025 0.002 0.001 0.   ]\n",
      " [0.047 0.015 0.004 0.001 0.    0.   ]\n",
      " [0.014 0.006 0.002 0.    0.    0.   ]\n",
      " [0.002 0.    0.    0.    0.    0.   ]\n",
      " [0.    0.    0.    0.    0.    0.   ]]\n"
     ]
    },
    {
     "data": {
      "application/vnd.plotly.v1+json": {
       "config": {
        "plotlyServerURL": "https://plot.ly"
       },
       "data": [
        {
         "colorscale": [
          [
           0,
           "rgb(255,245,240)"
          ],
          [
           0.125,
           "rgb(254,224,210)"
          ],
          [
           0.25,
           "rgb(252,187,161)"
          ],
          [
           0.375,
           "rgb(252,146,114)"
          ],
          [
           0.5,
           "rgb(251,106,74)"
          ],
          [
           0.625,
           "rgb(239,59,44)"
          ],
          [
           0.75,
           "rgb(203,24,29)"
          ],
          [
           0.875,
           "rgb(165,15,21)"
          ],
          [
           1,
           "rgb(103,0,13)"
          ]
         ],
         "hoverinfo": "text",
         "text": [
          [
           "40.30%",
           "16.10%",
           "2.70%",
           "0.30%",
           "0.10%",
           "0.00%"
          ],
          [
           "20.90%",
           "7.70%",
           "2.50%",
           "0.20%",
           "0.10%",
           "0.00%"
          ],
          [
           "4.70%",
           "1.50%",
           "0.40%",
           "0.10%",
           "0.00%",
           "0.00%"
          ],
          [
           "1.40%",
           "0.60%",
           "0.20%",
           "0.00%",
           "0.00%",
           "0.00%"
          ],
          [
           "0.20%",
           "0.00%",
           "0.00%",
           "0.00%",
           "0.00%",
           "0.00%"
          ],
          [
           "0.00%",
           "0.00%",
           "0.00%",
           "0.00%",
           "0.00%",
           "0.00%"
          ]
         ],
         "type": "heatmap",
         "x": [
          0,
          1,
          2,
          3,
          4,
          5
         ],
         "y": [
          0,
          1,
          2,
          3,
          4,
          5
         ],
         "z": [
          [
           0.403,
           0.161,
           0.027,
           0.003,
           0.001,
           0
          ],
          [
           0.209,
           0.077,
           0.025,
           0.002,
           0.001,
           0
          ],
          [
           0.047,
           0.015,
           0.004,
           0.001,
           0,
           0
          ],
          [
           0.014,
           0.006,
           0.002,
           0,
           0,
           0
          ],
          [
           0.002,
           0,
           0,
           0,
           0,
           0
          ],
          [
           0,
           0,
           0,
           0,
           0,
           0
          ]
         ]
        }
       ],
       "layout": {
        "template": {
         "data": {
          "bar": [
           {
            "error_x": {
             "color": "#2a3f5f"
            },
            "error_y": {
             "color": "#2a3f5f"
            },
            "marker": {
             "line": {
              "color": "#E5ECF6",
              "width": 0.5
             },
             "pattern": {
              "fillmode": "overlay",
              "size": 10,
              "solidity": 0.2
             }
            },
            "type": "bar"
           }
          ],
          "barpolar": [
           {
            "marker": {
             "line": {
              "color": "#E5ECF6",
              "width": 0.5
             },
             "pattern": {
              "fillmode": "overlay",
              "size": 10,
              "solidity": 0.2
             }
            },
            "type": "barpolar"
           }
          ],
          "carpet": [
           {
            "aaxis": {
             "endlinecolor": "#2a3f5f",
             "gridcolor": "white",
             "linecolor": "white",
             "minorgridcolor": "white",
             "startlinecolor": "#2a3f5f"
            },
            "baxis": {
             "endlinecolor": "#2a3f5f",
             "gridcolor": "white",
             "linecolor": "white",
             "minorgridcolor": "white",
             "startlinecolor": "#2a3f5f"
            },
            "type": "carpet"
           }
          ],
          "choropleth": [
           {
            "colorbar": {
             "outlinewidth": 0,
             "ticks": ""
            },
            "type": "choropleth"
           }
          ],
          "contour": [
           {
            "colorbar": {
             "outlinewidth": 0,
             "ticks": ""
            },
            "colorscale": [
             [
              0,
              "#0d0887"
             ],
             [
              0.1111111111111111,
              "#46039f"
             ],
             [
              0.2222222222222222,
              "#7201a8"
             ],
             [
              0.3333333333333333,
              "#9c179e"
             ],
             [
              0.4444444444444444,
              "#bd3786"
             ],
             [
              0.5555555555555556,
              "#d8576b"
             ],
             [
              0.6666666666666666,
              "#ed7953"
             ],
             [
              0.7777777777777778,
              "#fb9f3a"
             ],
             [
              0.8888888888888888,
              "#fdca26"
             ],
             [
              1,
              "#f0f921"
             ]
            ],
            "type": "contour"
           }
          ],
          "contourcarpet": [
           {
            "colorbar": {
             "outlinewidth": 0,
             "ticks": ""
            },
            "type": "contourcarpet"
           }
          ],
          "heatmap": [
           {
            "colorbar": {
             "outlinewidth": 0,
             "ticks": ""
            },
            "colorscale": [
             [
              0,
              "#0d0887"
             ],
             [
              0.1111111111111111,
              "#46039f"
             ],
             [
              0.2222222222222222,
              "#7201a8"
             ],
             [
              0.3333333333333333,
              "#9c179e"
             ],
             [
              0.4444444444444444,
              "#bd3786"
             ],
             [
              0.5555555555555556,
              "#d8576b"
             ],
             [
              0.6666666666666666,
              "#ed7953"
             ],
             [
              0.7777777777777778,
              "#fb9f3a"
             ],
             [
              0.8888888888888888,
              "#fdca26"
             ],
             [
              1,
              "#f0f921"
             ]
            ],
            "type": "heatmap"
           }
          ],
          "heatmapgl": [
           {
            "colorbar": {
             "outlinewidth": 0,
             "ticks": ""
            },
            "colorscale": [
             [
              0,
              "#0d0887"
             ],
             [
              0.1111111111111111,
              "#46039f"
             ],
             [
              0.2222222222222222,
              "#7201a8"
             ],
             [
              0.3333333333333333,
              "#9c179e"
             ],
             [
              0.4444444444444444,
              "#bd3786"
             ],
             [
              0.5555555555555556,
              "#d8576b"
             ],
             [
              0.6666666666666666,
              "#ed7953"
             ],
             [
              0.7777777777777778,
              "#fb9f3a"
             ],
             [
              0.8888888888888888,
              "#fdca26"
             ],
             [
              1,
              "#f0f921"
             ]
            ],
            "type": "heatmapgl"
           }
          ],
          "histogram": [
           {
            "marker": {
             "pattern": {
              "fillmode": "overlay",
              "size": 10,
              "solidity": 0.2
             }
            },
            "type": "histogram"
           }
          ],
          "histogram2d": [
           {
            "colorbar": {
             "outlinewidth": 0,
             "ticks": ""
            },
            "colorscale": [
             [
              0,
              "#0d0887"
             ],
             [
              0.1111111111111111,
              "#46039f"
             ],
             [
              0.2222222222222222,
              "#7201a8"
             ],
             [
              0.3333333333333333,
              "#9c179e"
             ],
             [
              0.4444444444444444,
              "#bd3786"
             ],
             [
              0.5555555555555556,
              "#d8576b"
             ],
             [
              0.6666666666666666,
              "#ed7953"
             ],
             [
              0.7777777777777778,
              "#fb9f3a"
             ],
             [
              0.8888888888888888,
              "#fdca26"
             ],
             [
              1,
              "#f0f921"
             ]
            ],
            "type": "histogram2d"
           }
          ],
          "histogram2dcontour": [
           {
            "colorbar": {
             "outlinewidth": 0,
             "ticks": ""
            },
            "colorscale": [
             [
              0,
              "#0d0887"
             ],
             [
              0.1111111111111111,
              "#46039f"
             ],
             [
              0.2222222222222222,
              "#7201a8"
             ],
             [
              0.3333333333333333,
              "#9c179e"
             ],
             [
              0.4444444444444444,
              "#bd3786"
             ],
             [
              0.5555555555555556,
              "#d8576b"
             ],
             [
              0.6666666666666666,
              "#ed7953"
             ],
             [
              0.7777777777777778,
              "#fb9f3a"
             ],
             [
              0.8888888888888888,
              "#fdca26"
             ],
             [
              1,
              "#f0f921"
             ]
            ],
            "type": "histogram2dcontour"
           }
          ],
          "mesh3d": [
           {
            "colorbar": {
             "outlinewidth": 0,
             "ticks": ""
            },
            "type": "mesh3d"
           }
          ],
          "parcoords": [
           {
            "line": {
             "colorbar": {
              "outlinewidth": 0,
              "ticks": ""
             }
            },
            "type": "parcoords"
           }
          ],
          "pie": [
           {
            "automargin": true,
            "type": "pie"
           }
          ],
          "scatter": [
           {
            "fillpattern": {
             "fillmode": "overlay",
             "size": 10,
             "solidity": 0.2
            },
            "type": "scatter"
           }
          ],
          "scatter3d": [
           {
            "line": {
             "colorbar": {
              "outlinewidth": 0,
              "ticks": ""
             }
            },
            "marker": {
             "colorbar": {
              "outlinewidth": 0,
              "ticks": ""
             }
            },
            "type": "scatter3d"
           }
          ],
          "scattercarpet": [
           {
            "marker": {
             "colorbar": {
              "outlinewidth": 0,
              "ticks": ""
             }
            },
            "type": "scattercarpet"
           }
          ],
          "scattergeo": [
           {
            "marker": {
             "colorbar": {
              "outlinewidth": 0,
              "ticks": ""
             }
            },
            "type": "scattergeo"
           }
          ],
          "scattergl": [
           {
            "marker": {
             "colorbar": {
              "outlinewidth": 0,
              "ticks": ""
             }
            },
            "type": "scattergl"
           }
          ],
          "scattermapbox": [
           {
            "marker": {
             "colorbar": {
              "outlinewidth": 0,
              "ticks": ""
             }
            },
            "type": "scattermapbox"
           }
          ],
          "scatterpolar": [
           {
            "marker": {
             "colorbar": {
              "outlinewidth": 0,
              "ticks": ""
             }
            },
            "type": "scatterpolar"
           }
          ],
          "scatterpolargl": [
           {
            "marker": {
             "colorbar": {
              "outlinewidth": 0,
              "ticks": ""
             }
            },
            "type": "scatterpolargl"
           }
          ],
          "scatterternary": [
           {
            "marker": {
             "colorbar": {
              "outlinewidth": 0,
              "ticks": ""
             }
            },
            "type": "scatterternary"
           }
          ],
          "surface": [
           {
            "colorbar": {
             "outlinewidth": 0,
             "ticks": ""
            },
            "colorscale": [
             [
              0,
              "#0d0887"
             ],
             [
              0.1111111111111111,
              "#46039f"
             ],
             [
              0.2222222222222222,
              "#7201a8"
             ],
             [
              0.3333333333333333,
              "#9c179e"
             ],
             [
              0.4444444444444444,
              "#bd3786"
             ],
             [
              0.5555555555555556,
              "#d8576b"
             ],
             [
              0.6666666666666666,
              "#ed7953"
             ],
             [
              0.7777777777777778,
              "#fb9f3a"
             ],
             [
              0.8888888888888888,
              "#fdca26"
             ],
             [
              1,
              "#f0f921"
             ]
            ],
            "type": "surface"
           }
          ],
          "table": [
           {
            "cells": {
             "fill": {
              "color": "#EBF0F8"
             },
             "line": {
              "color": "white"
             }
            },
            "header": {
             "fill": {
              "color": "#C8D4E3"
             },
             "line": {
              "color": "white"
             }
            },
            "type": "table"
           }
          ]
         },
         "layout": {
          "annotationdefaults": {
           "arrowcolor": "#2a3f5f",
           "arrowhead": 0,
           "arrowwidth": 1
          },
          "autotypenumbers": "strict",
          "coloraxis": {
           "colorbar": {
            "outlinewidth": 0,
            "ticks": ""
           }
          },
          "colorscale": {
           "diverging": [
            [
             0,
             "#8e0152"
            ],
            [
             0.1,
             "#c51b7d"
            ],
            [
             0.2,
             "#de77ae"
            ],
            [
             0.3,
             "#f1b6da"
            ],
            [
             0.4,
             "#fde0ef"
            ],
            [
             0.5,
             "#f7f7f7"
            ],
            [
             0.6,
             "#e6f5d0"
            ],
            [
             0.7,
             "#b8e186"
            ],
            [
             0.8,
             "#7fbc41"
            ],
            [
             0.9,
             "#4d9221"
            ],
            [
             1,
             "#276419"
            ]
           ],
           "sequential": [
            [
             0,
             "#0d0887"
            ],
            [
             0.1111111111111111,
             "#46039f"
            ],
            [
             0.2222222222222222,
             "#7201a8"
            ],
            [
             0.3333333333333333,
             "#9c179e"
            ],
            [
             0.4444444444444444,
             "#bd3786"
            ],
            [
             0.5555555555555556,
             "#d8576b"
            ],
            [
             0.6666666666666666,
             "#ed7953"
            ],
            [
             0.7777777777777778,
             "#fb9f3a"
            ],
            [
             0.8888888888888888,
             "#fdca26"
            ],
            [
             1,
             "#f0f921"
            ]
           ],
           "sequentialminus": [
            [
             0,
             "#0d0887"
            ],
            [
             0.1111111111111111,
             "#46039f"
            ],
            [
             0.2222222222222222,
             "#7201a8"
            ],
            [
             0.3333333333333333,
             "#9c179e"
            ],
            [
             0.4444444444444444,
             "#bd3786"
            ],
            [
             0.5555555555555556,
             "#d8576b"
            ],
            [
             0.6666666666666666,
             "#ed7953"
            ],
            [
             0.7777777777777778,
             "#fb9f3a"
            ],
            [
             0.8888888888888888,
             "#fdca26"
            ],
            [
             1,
             "#f0f921"
            ]
           ]
          },
          "colorway": [
           "#636efa",
           "#EF553B",
           "#00cc96",
           "#ab63fa",
           "#FFA15A",
           "#19d3f3",
           "#FF6692",
           "#B6E880",
           "#FF97FF",
           "#FECB52"
          ],
          "font": {
           "color": "#2a3f5f"
          },
          "geo": {
           "bgcolor": "white",
           "lakecolor": "white",
           "landcolor": "#E5ECF6",
           "showlakes": true,
           "showland": true,
           "subunitcolor": "white"
          },
          "hoverlabel": {
           "align": "left"
          },
          "hovermode": "closest",
          "mapbox": {
           "style": "light"
          },
          "paper_bgcolor": "white",
          "plot_bgcolor": "#E5ECF6",
          "polar": {
           "angularaxis": {
            "gridcolor": "white",
            "linecolor": "white",
            "ticks": ""
           },
           "bgcolor": "#E5ECF6",
           "radialaxis": {
            "gridcolor": "white",
            "linecolor": "white",
            "ticks": ""
           }
          },
          "scene": {
           "xaxis": {
            "backgroundcolor": "#E5ECF6",
            "gridcolor": "white",
            "gridwidth": 2,
            "linecolor": "white",
            "showbackground": true,
            "ticks": "",
            "zerolinecolor": "white"
           },
           "yaxis": {
            "backgroundcolor": "#E5ECF6",
            "gridcolor": "white",
            "gridwidth": 2,
            "linecolor": "white",
            "showbackground": true,
            "ticks": "",
            "zerolinecolor": "white"
           },
           "zaxis": {
            "backgroundcolor": "#E5ECF6",
            "gridcolor": "white",
            "gridwidth": 2,
            "linecolor": "white",
            "showbackground": true,
            "ticks": "",
            "zerolinecolor": "white"
           }
          },
          "shapedefaults": {
           "line": {
            "color": "#2a3f5f"
           }
          },
          "ternary": {
           "aaxis": {
            "gridcolor": "white",
            "linecolor": "white",
            "ticks": ""
           },
           "baxis": {
            "gridcolor": "white",
            "linecolor": "white",
            "ticks": ""
           },
           "bgcolor": "#E5ECF6",
           "caxis": {
            "gridcolor": "white",
            "linecolor": "white",
            "ticks": ""
           }
          },
          "title": {
           "x": 0.05
          },
          "xaxis": {
           "automargin": true,
           "gridcolor": "white",
           "linecolor": "white",
           "ticks": "",
           "title": {
            "standoff": 15
           },
           "zerolinecolor": "white",
           "zerolinewidth": 2
          },
          "yaxis": {
           "automargin": true,
           "gridcolor": "white",
           "linecolor": "white",
           "ticks": "",
           "title": {
            "standoff": 15
           },
           "zerolinecolor": "white",
           "zerolinewidth": 2
          }
         }
        },
        "title": {
         "text": "Probability Matrix (Team 1 goals vs Team 2 goals)"
        },
        "xaxis": {
         "title": {
          "text": "Team 2 Goals"
         }
        },
        "yaxis": {
         "title": {
          "text": "Team 1 Goals"
         }
        }
       }
      }
     },
     "metadata": {},
     "output_type": "display_data"
    },
    {
     "data": {
      "application/vnd.plotly.v1+json": {
       "config": {
        "plotlyServerURL": "https://plot.ly"
       },
       "data": [
        {
         "marker": {
          "color": [
           "red",
           "blue",
           "blue",
           "blue",
           "blue",
           "blue"
          ]
         },
         "text": [
          "59.50%",
          "31.40%",
          "6.70%",
          "2.20%",
          "0.20%",
          "0.00%"
         ],
         "textposition": "auto",
         "type": "bar",
         "x": [
          0,
          1,
          2,
          3,
          4,
          5
         ],
         "y": [
          0.5950000000000001,
          0.314,
          0.067,
          0.022,
          0.002,
          0
         ]
        }
       ],
       "layout": {
        "template": {
         "data": {
          "bar": [
           {
            "error_x": {
             "color": "#2a3f5f"
            },
            "error_y": {
             "color": "#2a3f5f"
            },
            "marker": {
             "line": {
              "color": "#E5ECF6",
              "width": 0.5
             },
             "pattern": {
              "fillmode": "overlay",
              "size": 10,
              "solidity": 0.2
             }
            },
            "type": "bar"
           }
          ],
          "barpolar": [
           {
            "marker": {
             "line": {
              "color": "#E5ECF6",
              "width": 0.5
             },
             "pattern": {
              "fillmode": "overlay",
              "size": 10,
              "solidity": 0.2
             }
            },
            "type": "barpolar"
           }
          ],
          "carpet": [
           {
            "aaxis": {
             "endlinecolor": "#2a3f5f",
             "gridcolor": "white",
             "linecolor": "white",
             "minorgridcolor": "white",
             "startlinecolor": "#2a3f5f"
            },
            "baxis": {
             "endlinecolor": "#2a3f5f",
             "gridcolor": "white",
             "linecolor": "white",
             "minorgridcolor": "white",
             "startlinecolor": "#2a3f5f"
            },
            "type": "carpet"
           }
          ],
          "choropleth": [
           {
            "colorbar": {
             "outlinewidth": 0,
             "ticks": ""
            },
            "type": "choropleth"
           }
          ],
          "contour": [
           {
            "colorbar": {
             "outlinewidth": 0,
             "ticks": ""
            },
            "colorscale": [
             [
              0,
              "#0d0887"
             ],
             [
              0.1111111111111111,
              "#46039f"
             ],
             [
              0.2222222222222222,
              "#7201a8"
             ],
             [
              0.3333333333333333,
              "#9c179e"
             ],
             [
              0.4444444444444444,
              "#bd3786"
             ],
             [
              0.5555555555555556,
              "#d8576b"
             ],
             [
              0.6666666666666666,
              "#ed7953"
             ],
             [
              0.7777777777777778,
              "#fb9f3a"
             ],
             [
              0.8888888888888888,
              "#fdca26"
             ],
             [
              1,
              "#f0f921"
             ]
            ],
            "type": "contour"
           }
          ],
          "contourcarpet": [
           {
            "colorbar": {
             "outlinewidth": 0,
             "ticks": ""
            },
            "type": "contourcarpet"
           }
          ],
          "heatmap": [
           {
            "colorbar": {
             "outlinewidth": 0,
             "ticks": ""
            },
            "colorscale": [
             [
              0,
              "#0d0887"
             ],
             [
              0.1111111111111111,
              "#46039f"
             ],
             [
              0.2222222222222222,
              "#7201a8"
             ],
             [
              0.3333333333333333,
              "#9c179e"
             ],
             [
              0.4444444444444444,
              "#bd3786"
             ],
             [
              0.5555555555555556,
              "#d8576b"
             ],
             [
              0.6666666666666666,
              "#ed7953"
             ],
             [
              0.7777777777777778,
              "#fb9f3a"
             ],
             [
              0.8888888888888888,
              "#fdca26"
             ],
             [
              1,
              "#f0f921"
             ]
            ],
            "type": "heatmap"
           }
          ],
          "heatmapgl": [
           {
            "colorbar": {
             "outlinewidth": 0,
             "ticks": ""
            },
            "colorscale": [
             [
              0,
              "#0d0887"
             ],
             [
              0.1111111111111111,
              "#46039f"
             ],
             [
              0.2222222222222222,
              "#7201a8"
             ],
             [
              0.3333333333333333,
              "#9c179e"
             ],
             [
              0.4444444444444444,
              "#bd3786"
             ],
             [
              0.5555555555555556,
              "#d8576b"
             ],
             [
              0.6666666666666666,
              "#ed7953"
             ],
             [
              0.7777777777777778,
              "#fb9f3a"
             ],
             [
              0.8888888888888888,
              "#fdca26"
             ],
             [
              1,
              "#f0f921"
             ]
            ],
            "type": "heatmapgl"
           }
          ],
          "histogram": [
           {
            "marker": {
             "pattern": {
              "fillmode": "overlay",
              "size": 10,
              "solidity": 0.2
             }
            },
            "type": "histogram"
           }
          ],
          "histogram2d": [
           {
            "colorbar": {
             "outlinewidth": 0,
             "ticks": ""
            },
            "colorscale": [
             [
              0,
              "#0d0887"
             ],
             [
              0.1111111111111111,
              "#46039f"
             ],
             [
              0.2222222222222222,
              "#7201a8"
             ],
             [
              0.3333333333333333,
              "#9c179e"
             ],
             [
              0.4444444444444444,
              "#bd3786"
             ],
             [
              0.5555555555555556,
              "#d8576b"
             ],
             [
              0.6666666666666666,
              "#ed7953"
             ],
             [
              0.7777777777777778,
              "#fb9f3a"
             ],
             [
              0.8888888888888888,
              "#fdca26"
             ],
             [
              1,
              "#f0f921"
             ]
            ],
            "type": "histogram2d"
           }
          ],
          "histogram2dcontour": [
           {
            "colorbar": {
             "outlinewidth": 0,
             "ticks": ""
            },
            "colorscale": [
             [
              0,
              "#0d0887"
             ],
             [
              0.1111111111111111,
              "#46039f"
             ],
             [
              0.2222222222222222,
              "#7201a8"
             ],
             [
              0.3333333333333333,
              "#9c179e"
             ],
             [
              0.4444444444444444,
              "#bd3786"
             ],
             [
              0.5555555555555556,
              "#d8576b"
             ],
             [
              0.6666666666666666,
              "#ed7953"
             ],
             [
              0.7777777777777778,
              "#fb9f3a"
             ],
             [
              0.8888888888888888,
              "#fdca26"
             ],
             [
              1,
              "#f0f921"
             ]
            ],
            "type": "histogram2dcontour"
           }
          ],
          "mesh3d": [
           {
            "colorbar": {
             "outlinewidth": 0,
             "ticks": ""
            },
            "type": "mesh3d"
           }
          ],
          "parcoords": [
           {
            "line": {
             "colorbar": {
              "outlinewidth": 0,
              "ticks": ""
             }
            },
            "type": "parcoords"
           }
          ],
          "pie": [
           {
            "automargin": true,
            "type": "pie"
           }
          ],
          "scatter": [
           {
            "fillpattern": {
             "fillmode": "overlay",
             "size": 10,
             "solidity": 0.2
            },
            "type": "scatter"
           }
          ],
          "scatter3d": [
           {
            "line": {
             "colorbar": {
              "outlinewidth": 0,
              "ticks": ""
             }
            },
            "marker": {
             "colorbar": {
              "outlinewidth": 0,
              "ticks": ""
             }
            },
            "type": "scatter3d"
           }
          ],
          "scattercarpet": [
           {
            "marker": {
             "colorbar": {
              "outlinewidth": 0,
              "ticks": ""
             }
            },
            "type": "scattercarpet"
           }
          ],
          "scattergeo": [
           {
            "marker": {
             "colorbar": {
              "outlinewidth": 0,
              "ticks": ""
             }
            },
            "type": "scattergeo"
           }
          ],
          "scattergl": [
           {
            "marker": {
             "colorbar": {
              "outlinewidth": 0,
              "ticks": ""
             }
            },
            "type": "scattergl"
           }
          ],
          "scattermapbox": [
           {
            "marker": {
             "colorbar": {
              "outlinewidth": 0,
              "ticks": ""
             }
            },
            "type": "scattermapbox"
           }
          ],
          "scatterpolar": [
           {
            "marker": {
             "colorbar": {
              "outlinewidth": 0,
              "ticks": ""
             }
            },
            "type": "scatterpolar"
           }
          ],
          "scatterpolargl": [
           {
            "marker": {
             "colorbar": {
              "outlinewidth": 0,
              "ticks": ""
             }
            },
            "type": "scatterpolargl"
           }
          ],
          "scatterternary": [
           {
            "marker": {
             "colorbar": {
              "outlinewidth": 0,
              "ticks": ""
             }
            },
            "type": "scatterternary"
           }
          ],
          "surface": [
           {
            "colorbar": {
             "outlinewidth": 0,
             "ticks": ""
            },
            "colorscale": [
             [
              0,
              "#0d0887"
             ],
             [
              0.1111111111111111,
              "#46039f"
             ],
             [
              0.2222222222222222,
              "#7201a8"
             ],
             [
              0.3333333333333333,
              "#9c179e"
             ],
             [
              0.4444444444444444,
              "#bd3786"
             ],
             [
              0.5555555555555556,
              "#d8576b"
             ],
             [
              0.6666666666666666,
              "#ed7953"
             ],
             [
              0.7777777777777778,
              "#fb9f3a"
             ],
             [
              0.8888888888888888,
              "#fdca26"
             ],
             [
              1,
              "#f0f921"
             ]
            ],
            "type": "surface"
           }
          ],
          "table": [
           {
            "cells": {
             "fill": {
              "color": "#EBF0F8"
             },
             "line": {
              "color": "white"
             }
            },
            "header": {
             "fill": {
              "color": "#C8D4E3"
             },
             "line": {
              "color": "white"
             }
            },
            "type": "table"
           }
          ]
         },
         "layout": {
          "annotationdefaults": {
           "arrowcolor": "#2a3f5f",
           "arrowhead": 0,
           "arrowwidth": 1
          },
          "autotypenumbers": "strict",
          "coloraxis": {
           "colorbar": {
            "outlinewidth": 0,
            "ticks": ""
           }
          },
          "colorscale": {
           "diverging": [
            [
             0,
             "#8e0152"
            ],
            [
             0.1,
             "#c51b7d"
            ],
            [
             0.2,
             "#de77ae"
            ],
            [
             0.3,
             "#f1b6da"
            ],
            [
             0.4,
             "#fde0ef"
            ],
            [
             0.5,
             "#f7f7f7"
            ],
            [
             0.6,
             "#e6f5d0"
            ],
            [
             0.7,
             "#b8e186"
            ],
            [
             0.8,
             "#7fbc41"
            ],
            [
             0.9,
             "#4d9221"
            ],
            [
             1,
             "#276419"
            ]
           ],
           "sequential": [
            [
             0,
             "#0d0887"
            ],
            [
             0.1111111111111111,
             "#46039f"
            ],
            [
             0.2222222222222222,
             "#7201a8"
            ],
            [
             0.3333333333333333,
             "#9c179e"
            ],
            [
             0.4444444444444444,
             "#bd3786"
            ],
            [
             0.5555555555555556,
             "#d8576b"
            ],
            [
             0.6666666666666666,
             "#ed7953"
            ],
            [
             0.7777777777777778,
             "#fb9f3a"
            ],
            [
             0.8888888888888888,
             "#fdca26"
            ],
            [
             1,
             "#f0f921"
            ]
           ],
           "sequentialminus": [
            [
             0,
             "#0d0887"
            ],
            [
             0.1111111111111111,
             "#46039f"
            ],
            [
             0.2222222222222222,
             "#7201a8"
            ],
            [
             0.3333333333333333,
             "#9c179e"
            ],
            [
             0.4444444444444444,
             "#bd3786"
            ],
            [
             0.5555555555555556,
             "#d8576b"
            ],
            [
             0.6666666666666666,
             "#ed7953"
            ],
            [
             0.7777777777777778,
             "#fb9f3a"
            ],
            [
             0.8888888888888888,
             "#fdca26"
            ],
            [
             1,
             "#f0f921"
            ]
           ]
          },
          "colorway": [
           "#636efa",
           "#EF553B",
           "#00cc96",
           "#ab63fa",
           "#FFA15A",
           "#19d3f3",
           "#FF6692",
           "#B6E880",
           "#FF97FF",
           "#FECB52"
          ],
          "font": {
           "color": "#2a3f5f"
          },
          "geo": {
           "bgcolor": "white",
           "lakecolor": "white",
           "landcolor": "#E5ECF6",
           "showlakes": true,
           "showland": true,
           "subunitcolor": "white"
          },
          "hoverlabel": {
           "align": "left"
          },
          "hovermode": "closest",
          "mapbox": {
           "style": "light"
          },
          "paper_bgcolor": "white",
          "plot_bgcolor": "#E5ECF6",
          "polar": {
           "angularaxis": {
            "gridcolor": "white",
            "linecolor": "white",
            "ticks": ""
           },
           "bgcolor": "#E5ECF6",
           "radialaxis": {
            "gridcolor": "white",
            "linecolor": "white",
            "ticks": ""
           }
          },
          "scene": {
           "xaxis": {
            "backgroundcolor": "#E5ECF6",
            "gridcolor": "white",
            "gridwidth": 2,
            "linecolor": "white",
            "showbackground": true,
            "ticks": "",
            "zerolinecolor": "white"
           },
           "yaxis": {
            "backgroundcolor": "#E5ECF6",
            "gridcolor": "white",
            "gridwidth": 2,
            "linecolor": "white",
            "showbackground": true,
            "ticks": "",
            "zerolinecolor": "white"
           },
           "zaxis": {
            "backgroundcolor": "#E5ECF6",
            "gridcolor": "white",
            "gridwidth": 2,
            "linecolor": "white",
            "showbackground": true,
            "ticks": "",
            "zerolinecolor": "white"
           }
          },
          "shapedefaults": {
           "line": {
            "color": "#2a3f5f"
           }
          },
          "ternary": {
           "aaxis": {
            "gridcolor": "white",
            "linecolor": "white",
            "ticks": ""
           },
           "baxis": {
            "gridcolor": "white",
            "linecolor": "white",
            "ticks": ""
           },
           "bgcolor": "#E5ECF6",
           "caxis": {
            "gridcolor": "white",
            "linecolor": "white",
            "ticks": ""
           }
          },
          "title": {
           "x": 0.05
          },
          "xaxis": {
           "automargin": true,
           "gridcolor": "white",
           "linecolor": "white",
           "ticks": "",
           "title": {
            "standoff": 15
           },
           "zerolinecolor": "white",
           "zerolinewidth": 2
          },
          "yaxis": {
           "automargin": true,
           "gridcolor": "white",
           "linecolor": "white",
           "ticks": "",
           "title": {
            "standoff": 15
           },
           "zerolinecolor": "white",
           "zerolinewidth": 2
          }
         }
        },
        "title": {
         "text": "Probability of Goals for Team 1"
        },
        "xaxis": {
         "title": {
          "text": "Number of Goals"
         }
        },
        "yaxis": {
         "title": {
          "text": "Probability"
         }
        }
       }
      }
     },
     "metadata": {},
     "output_type": "display_data"
    },
    {
     "data": {
      "application/vnd.plotly.v1+json": {
       "config": {
        "plotlyServerURL": "https://plot.ly"
       },
       "data": [
        {
         "marker": {
          "color": [
           "red",
           "blue",
           "blue",
           "blue",
           "blue",
           "blue"
          ]
         },
         "text": [
          "67.50%",
          "25.90%",
          "5.80%",
          "0.60%",
          "0.20%",
          "0.00%"
         ],
         "textposition": "auto",
         "type": "bar",
         "x": [
          0,
          1,
          2,
          3,
          4,
          5
         ],
         "y": [
          0.675,
          0.259,
          0.05800000000000001,
          0.006,
          0.002,
          0
         ]
        }
       ],
       "layout": {
        "template": {
         "data": {
          "bar": [
           {
            "error_x": {
             "color": "#2a3f5f"
            },
            "error_y": {
             "color": "#2a3f5f"
            },
            "marker": {
             "line": {
              "color": "#E5ECF6",
              "width": 0.5
             },
             "pattern": {
              "fillmode": "overlay",
              "size": 10,
              "solidity": 0.2
             }
            },
            "type": "bar"
           }
          ],
          "barpolar": [
           {
            "marker": {
             "line": {
              "color": "#E5ECF6",
              "width": 0.5
             },
             "pattern": {
              "fillmode": "overlay",
              "size": 10,
              "solidity": 0.2
             }
            },
            "type": "barpolar"
           }
          ],
          "carpet": [
           {
            "aaxis": {
             "endlinecolor": "#2a3f5f",
             "gridcolor": "white",
             "linecolor": "white",
             "minorgridcolor": "white",
             "startlinecolor": "#2a3f5f"
            },
            "baxis": {
             "endlinecolor": "#2a3f5f",
             "gridcolor": "white",
             "linecolor": "white",
             "minorgridcolor": "white",
             "startlinecolor": "#2a3f5f"
            },
            "type": "carpet"
           }
          ],
          "choropleth": [
           {
            "colorbar": {
             "outlinewidth": 0,
             "ticks": ""
            },
            "type": "choropleth"
           }
          ],
          "contour": [
           {
            "colorbar": {
             "outlinewidth": 0,
             "ticks": ""
            },
            "colorscale": [
             [
              0,
              "#0d0887"
             ],
             [
              0.1111111111111111,
              "#46039f"
             ],
             [
              0.2222222222222222,
              "#7201a8"
             ],
             [
              0.3333333333333333,
              "#9c179e"
             ],
             [
              0.4444444444444444,
              "#bd3786"
             ],
             [
              0.5555555555555556,
              "#d8576b"
             ],
             [
              0.6666666666666666,
              "#ed7953"
             ],
             [
              0.7777777777777778,
              "#fb9f3a"
             ],
             [
              0.8888888888888888,
              "#fdca26"
             ],
             [
              1,
              "#f0f921"
             ]
            ],
            "type": "contour"
           }
          ],
          "contourcarpet": [
           {
            "colorbar": {
             "outlinewidth": 0,
             "ticks": ""
            },
            "type": "contourcarpet"
           }
          ],
          "heatmap": [
           {
            "colorbar": {
             "outlinewidth": 0,
             "ticks": ""
            },
            "colorscale": [
             [
              0,
              "#0d0887"
             ],
             [
              0.1111111111111111,
              "#46039f"
             ],
             [
              0.2222222222222222,
              "#7201a8"
             ],
             [
              0.3333333333333333,
              "#9c179e"
             ],
             [
              0.4444444444444444,
              "#bd3786"
             ],
             [
              0.5555555555555556,
              "#d8576b"
             ],
             [
              0.6666666666666666,
              "#ed7953"
             ],
             [
              0.7777777777777778,
              "#fb9f3a"
             ],
             [
              0.8888888888888888,
              "#fdca26"
             ],
             [
              1,
              "#f0f921"
             ]
            ],
            "type": "heatmap"
           }
          ],
          "heatmapgl": [
           {
            "colorbar": {
             "outlinewidth": 0,
             "ticks": ""
            },
            "colorscale": [
             [
              0,
              "#0d0887"
             ],
             [
              0.1111111111111111,
              "#46039f"
             ],
             [
              0.2222222222222222,
              "#7201a8"
             ],
             [
              0.3333333333333333,
              "#9c179e"
             ],
             [
              0.4444444444444444,
              "#bd3786"
             ],
             [
              0.5555555555555556,
              "#d8576b"
             ],
             [
              0.6666666666666666,
              "#ed7953"
             ],
             [
              0.7777777777777778,
              "#fb9f3a"
             ],
             [
              0.8888888888888888,
              "#fdca26"
             ],
             [
              1,
              "#f0f921"
             ]
            ],
            "type": "heatmapgl"
           }
          ],
          "histogram": [
           {
            "marker": {
             "pattern": {
              "fillmode": "overlay",
              "size": 10,
              "solidity": 0.2
             }
            },
            "type": "histogram"
           }
          ],
          "histogram2d": [
           {
            "colorbar": {
             "outlinewidth": 0,
             "ticks": ""
            },
            "colorscale": [
             [
              0,
              "#0d0887"
             ],
             [
              0.1111111111111111,
              "#46039f"
             ],
             [
              0.2222222222222222,
              "#7201a8"
             ],
             [
              0.3333333333333333,
              "#9c179e"
             ],
             [
              0.4444444444444444,
              "#bd3786"
             ],
             [
              0.5555555555555556,
              "#d8576b"
             ],
             [
              0.6666666666666666,
              "#ed7953"
             ],
             [
              0.7777777777777778,
              "#fb9f3a"
             ],
             [
              0.8888888888888888,
              "#fdca26"
             ],
             [
              1,
              "#f0f921"
             ]
            ],
            "type": "histogram2d"
           }
          ],
          "histogram2dcontour": [
           {
            "colorbar": {
             "outlinewidth": 0,
             "ticks": ""
            },
            "colorscale": [
             [
              0,
              "#0d0887"
             ],
             [
              0.1111111111111111,
              "#46039f"
             ],
             [
              0.2222222222222222,
              "#7201a8"
             ],
             [
              0.3333333333333333,
              "#9c179e"
             ],
             [
              0.4444444444444444,
              "#bd3786"
             ],
             [
              0.5555555555555556,
              "#d8576b"
             ],
             [
              0.6666666666666666,
              "#ed7953"
             ],
             [
              0.7777777777777778,
              "#fb9f3a"
             ],
             [
              0.8888888888888888,
              "#fdca26"
             ],
             [
              1,
              "#f0f921"
             ]
            ],
            "type": "histogram2dcontour"
           }
          ],
          "mesh3d": [
           {
            "colorbar": {
             "outlinewidth": 0,
             "ticks": ""
            },
            "type": "mesh3d"
           }
          ],
          "parcoords": [
           {
            "line": {
             "colorbar": {
              "outlinewidth": 0,
              "ticks": ""
             }
            },
            "type": "parcoords"
           }
          ],
          "pie": [
           {
            "automargin": true,
            "type": "pie"
           }
          ],
          "scatter": [
           {
            "fillpattern": {
             "fillmode": "overlay",
             "size": 10,
             "solidity": 0.2
            },
            "type": "scatter"
           }
          ],
          "scatter3d": [
           {
            "line": {
             "colorbar": {
              "outlinewidth": 0,
              "ticks": ""
             }
            },
            "marker": {
             "colorbar": {
              "outlinewidth": 0,
              "ticks": ""
             }
            },
            "type": "scatter3d"
           }
          ],
          "scattercarpet": [
           {
            "marker": {
             "colorbar": {
              "outlinewidth": 0,
              "ticks": ""
             }
            },
            "type": "scattercarpet"
           }
          ],
          "scattergeo": [
           {
            "marker": {
             "colorbar": {
              "outlinewidth": 0,
              "ticks": ""
             }
            },
            "type": "scattergeo"
           }
          ],
          "scattergl": [
           {
            "marker": {
             "colorbar": {
              "outlinewidth": 0,
              "ticks": ""
             }
            },
            "type": "scattergl"
           }
          ],
          "scattermapbox": [
           {
            "marker": {
             "colorbar": {
              "outlinewidth": 0,
              "ticks": ""
             }
            },
            "type": "scattermapbox"
           }
          ],
          "scatterpolar": [
           {
            "marker": {
             "colorbar": {
              "outlinewidth": 0,
              "ticks": ""
             }
            },
            "type": "scatterpolar"
           }
          ],
          "scatterpolargl": [
           {
            "marker": {
             "colorbar": {
              "outlinewidth": 0,
              "ticks": ""
             }
            },
            "type": "scatterpolargl"
           }
          ],
          "scatterternary": [
           {
            "marker": {
             "colorbar": {
              "outlinewidth": 0,
              "ticks": ""
             }
            },
            "type": "scatterternary"
           }
          ],
          "surface": [
           {
            "colorbar": {
             "outlinewidth": 0,
             "ticks": ""
            },
            "colorscale": [
             [
              0,
              "#0d0887"
             ],
             [
              0.1111111111111111,
              "#46039f"
             ],
             [
              0.2222222222222222,
              "#7201a8"
             ],
             [
              0.3333333333333333,
              "#9c179e"
             ],
             [
              0.4444444444444444,
              "#bd3786"
             ],
             [
              0.5555555555555556,
              "#d8576b"
             ],
             [
              0.6666666666666666,
              "#ed7953"
             ],
             [
              0.7777777777777778,
              "#fb9f3a"
             ],
             [
              0.8888888888888888,
              "#fdca26"
             ],
             [
              1,
              "#f0f921"
             ]
            ],
            "type": "surface"
           }
          ],
          "table": [
           {
            "cells": {
             "fill": {
              "color": "#EBF0F8"
             },
             "line": {
              "color": "white"
             }
            },
            "header": {
             "fill": {
              "color": "#C8D4E3"
             },
             "line": {
              "color": "white"
             }
            },
            "type": "table"
           }
          ]
         },
         "layout": {
          "annotationdefaults": {
           "arrowcolor": "#2a3f5f",
           "arrowhead": 0,
           "arrowwidth": 1
          },
          "autotypenumbers": "strict",
          "coloraxis": {
           "colorbar": {
            "outlinewidth": 0,
            "ticks": ""
           }
          },
          "colorscale": {
           "diverging": [
            [
             0,
             "#8e0152"
            ],
            [
             0.1,
             "#c51b7d"
            ],
            [
             0.2,
             "#de77ae"
            ],
            [
             0.3,
             "#f1b6da"
            ],
            [
             0.4,
             "#fde0ef"
            ],
            [
             0.5,
             "#f7f7f7"
            ],
            [
             0.6,
             "#e6f5d0"
            ],
            [
             0.7,
             "#b8e186"
            ],
            [
             0.8,
             "#7fbc41"
            ],
            [
             0.9,
             "#4d9221"
            ],
            [
             1,
             "#276419"
            ]
           ],
           "sequential": [
            [
             0,
             "#0d0887"
            ],
            [
             0.1111111111111111,
             "#46039f"
            ],
            [
             0.2222222222222222,
             "#7201a8"
            ],
            [
             0.3333333333333333,
             "#9c179e"
            ],
            [
             0.4444444444444444,
             "#bd3786"
            ],
            [
             0.5555555555555556,
             "#d8576b"
            ],
            [
             0.6666666666666666,
             "#ed7953"
            ],
            [
             0.7777777777777778,
             "#fb9f3a"
            ],
            [
             0.8888888888888888,
             "#fdca26"
            ],
            [
             1,
             "#f0f921"
            ]
           ],
           "sequentialminus": [
            [
             0,
             "#0d0887"
            ],
            [
             0.1111111111111111,
             "#46039f"
            ],
            [
             0.2222222222222222,
             "#7201a8"
            ],
            [
             0.3333333333333333,
             "#9c179e"
            ],
            [
             0.4444444444444444,
             "#bd3786"
            ],
            [
             0.5555555555555556,
             "#d8576b"
            ],
            [
             0.6666666666666666,
             "#ed7953"
            ],
            [
             0.7777777777777778,
             "#fb9f3a"
            ],
            [
             0.8888888888888888,
             "#fdca26"
            ],
            [
             1,
             "#f0f921"
            ]
           ]
          },
          "colorway": [
           "#636efa",
           "#EF553B",
           "#00cc96",
           "#ab63fa",
           "#FFA15A",
           "#19d3f3",
           "#FF6692",
           "#B6E880",
           "#FF97FF",
           "#FECB52"
          ],
          "font": {
           "color": "#2a3f5f"
          },
          "geo": {
           "bgcolor": "white",
           "lakecolor": "white",
           "landcolor": "#E5ECF6",
           "showlakes": true,
           "showland": true,
           "subunitcolor": "white"
          },
          "hoverlabel": {
           "align": "left"
          },
          "hovermode": "closest",
          "mapbox": {
           "style": "light"
          },
          "paper_bgcolor": "white",
          "plot_bgcolor": "#E5ECF6",
          "polar": {
           "angularaxis": {
            "gridcolor": "white",
            "linecolor": "white",
            "ticks": ""
           },
           "bgcolor": "#E5ECF6",
           "radialaxis": {
            "gridcolor": "white",
            "linecolor": "white",
            "ticks": ""
           }
          },
          "scene": {
           "xaxis": {
            "backgroundcolor": "#E5ECF6",
            "gridcolor": "white",
            "gridwidth": 2,
            "linecolor": "white",
            "showbackground": true,
            "ticks": "",
            "zerolinecolor": "white"
           },
           "yaxis": {
            "backgroundcolor": "#E5ECF6",
            "gridcolor": "white",
            "gridwidth": 2,
            "linecolor": "white",
            "showbackground": true,
            "ticks": "",
            "zerolinecolor": "white"
           },
           "zaxis": {
            "backgroundcolor": "#E5ECF6",
            "gridcolor": "white",
            "gridwidth": 2,
            "linecolor": "white",
            "showbackground": true,
            "ticks": "",
            "zerolinecolor": "white"
           }
          },
          "shapedefaults": {
           "line": {
            "color": "#2a3f5f"
           }
          },
          "ternary": {
           "aaxis": {
            "gridcolor": "white",
            "linecolor": "white",
            "ticks": ""
           },
           "baxis": {
            "gridcolor": "white",
            "linecolor": "white",
            "ticks": ""
           },
           "bgcolor": "#E5ECF6",
           "caxis": {
            "gridcolor": "white",
            "linecolor": "white",
            "ticks": ""
           }
          },
          "title": {
           "x": 0.05
          },
          "xaxis": {
           "automargin": true,
           "gridcolor": "white",
           "linecolor": "white",
           "ticks": "",
           "title": {
            "standoff": 15
           },
           "zerolinecolor": "white",
           "zerolinewidth": 2
          },
          "yaxis": {
           "automargin": true,
           "gridcolor": "white",
           "linecolor": "white",
           "ticks": "",
           "title": {
            "standoff": 15
           },
           "zerolinecolor": "white",
           "zerolinewidth": 2
          }
         }
        },
        "title": {
         "text": "Probability of Goals for Team 2"
        },
        "xaxis": {
         "title": {
          "text": "Number of Goals"
         }
        },
        "yaxis": {
         "title": {
          "text": "Probability"
         }
        }
       }
      }
     },
     "metadata": {},
     "output_type": "display_data"
    }
   ],
   "source": [
    "import numpy as np\n",
    "import plotly.graph_objects as go\n",
    "\n",
    "def simulate_game(xg_team1, xg_team2, num_simulations=1000):\n",
    "    max_goals = 5\n",
    "    result_matrix = np.zeros((max_goals + 1, max_goals + 1))\n",
    "\n",
    "    for _ in range(num_simulations):\n",
    "        # Simulate goals for team 1\n",
    "        goals_team1 = np.random.poisson(xg_team1)\n",
    "        goals_team1 = min(goals_team1, max_goals)\n",
    "\n",
    "        # Simulate goals for team 2\n",
    "        goals_team2 = np.random.poisson(xg_team2)\n",
    "        goals_team2 = min(goals_team2, max_goals)\n",
    "\n",
    "        # Increment the corresponding cell in the result matrix\n",
    "        result_matrix[goals_team1, goals_team2] += 1\n",
    "\n",
    "    # Convert counts to probabilities\n",
    "    result_matrix /= num_simulations\n",
    "\n",
    "    return result_matrix\n",
    "\n",
    "def plot_heatmap(matrix):\n",
    "    # Create text labels for the heatmap cells\n",
    "    text = [[f'{prob:.2%}' for prob in row] for row in matrix]\n",
    "    \n",
    "    fig = go.Figure(data=go.Heatmap(\n",
    "        z=matrix,\n",
    "        x=[0, 1, 2, 3, 4, 5],\n",
    "        y=[0, 1, 2, 3, 4, 5],\n",
    "        colorscale='reds',\n",
    "        text=text,\n",
    "        hoverinfo='text'\n",
    "    ))\n",
    "\n",
    "    fig.update_layout(\n",
    "        title='Probability Matrix (Team 1 goals vs Team 2 goals)',\n",
    "        xaxis_title='Team 2 Goals',\n",
    "        yaxis_title='Team 1 Goals'\n",
    "    )\n",
    "\n",
    "    fig.show()\n",
    "\n",
    "def plot_bar_chart(probabilities, team_name):\n",
    "    max_goals = 5\n",
    "    goals = list(range(max_goals + 1))\n",
    "    max_prob_index = np.argmax(probabilities)\n",
    "\n",
    "    colors = ['blue'] * (max_goals + 1)\n",
    "    colors[max_prob_index] = 'red'\n",
    "\n",
    "    fig = go.Figure(data=[go.Bar(\n",
    "        x=goals,\n",
    "        y=probabilities,\n",
    "        marker_color=colors,\n",
    "        text=[f'{prob:.2%}' for prob in probabilities],\n",
    "        textposition='auto'\n",
    "    )])\n",
    "\n",
    "    fig.update_layout(\n",
    "        title=f'Probability of Goals for {team_name}',\n",
    "        xaxis_title='Number of Goals',\n",
    "        yaxis_title='Probability'\n",
    "    )\n",
    "\n",
    "    fig.show()\n",
    "\n",
    "# Example usage with some expected goals (xG) for each shot\n",
    "xg_team1_shots = [0.1, 0.2, 0.15, 0.05]  # Example xG values for Team 1\n",
    "xg_team2_shots = [0.05, 0.1, 0.25]       # Example xG values for Team 2\n",
    "\n",
    "# Sum the expected goals for each team\n",
    "xg_team1_total = sum(xg_team1_shots)\n",
    "xg_team2_total = sum(xg_team2_shots)\n",
    "\n",
    "# Run the simulation\n",
    "result_probabilities = simulate_game(xg_team1_total, xg_team2_total, num_simulations=1000)\n",
    "\n",
    "# Print the 6x6 probability matrix\n",
    "print(\"Probability matrix (Team 1 goals vs Team 2 goals):\")\n",
    "print(result_probabilities)\n",
    "\n",
    "# Plot the heatmap\n",
    "plot_heatmap(result_probabilities)\n",
    "\n",
    "# Calculate marginal probabilities for each team\n",
    "team1_probabilities = result_probabilities.sum(axis=1)\n",
    "team2_probabilities = result_probabilities.sum(axis=0)\n",
    "\n",
    "# Plot bar charts for each team\n",
    "plot_bar_chart(team1_probabilities, 'Team 1')\n",
    "plot_bar_chart(team2_probabilities, 'Team 2')"
   ]
  }
 ],
 "metadata": {
  "kernelspec": {
   "display_name": "Python 3",
   "language": "python",
   "name": "python3"
  },
  "language_info": {
   "codemirror_mode": {
    "name": "ipython",
    "version": 3
   },
   "file_extension": ".py",
   "mimetype": "text/x-python",
   "name": "python",
   "nbconvert_exporter": "python",
   "pygments_lexer": "ipython3",
   "version": "3.11.3"
  }
 },
 "nbformat": 4,
 "nbformat_minor": 2
}
