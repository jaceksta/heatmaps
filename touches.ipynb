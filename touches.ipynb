{
 "cells": [
  {
   "cell_type": "code",
   "execution_count": 13,
   "metadata": {},
   "outputs": [
    {
     "data": {
      "text/html": [
       "<div>\n",
       "<style scoped>\n",
       "    .dataframe tbody tr th:only-of-type {\n",
       "        vertical-align: middle;\n",
       "    }\n",
       "\n",
       "    .dataframe tbody tr th {\n",
       "        vertical-align: top;\n",
       "    }\n",
       "\n",
       "    .dataframe thead tr th {\n",
       "        text-align: left;\n",
       "    }\n",
       "</style>\n",
       "<table border=\"1\" class=\"dataframe\">\n",
       "  <thead>\n",
       "    <tr>\n",
       "      <th></th>\n",
       "      <th>Unnamed: 0_level_0</th>\n",
       "      <th>Unnamed: 1_level_0</th>\n",
       "      <th>Unnamed: 2_level_0</th>\n",
       "      <th>Unnamed: 3_level_0</th>\n",
       "      <th>Unnamed: 4_level_0</th>\n",
       "      <th>Unnamed: 5_level_0</th>\n",
       "      <th>Unnamed: 6_level_0</th>\n",
       "      <th>Unnamed: 7_level_0</th>\n",
       "      <th>Unnamed: 8_level_0</th>\n",
       "      <th>Touches</th>\n",
       "      <th>...</th>\n",
       "      <th colspan=\"7\" halign=\"left\">Carries</th>\n",
       "      <th colspan=\"2\" halign=\"left\">Receiving</th>\n",
       "      <th>Unnamed: 31_level_0</th>\n",
       "    </tr>\n",
       "    <tr>\n",
       "      <th></th>\n",
       "      <th>Rk</th>\n",
       "      <th>Player</th>\n",
       "      <th>Nation</th>\n",
       "      <th>Pos</th>\n",
       "      <th>Squad</th>\n",
       "      <th>Comp</th>\n",
       "      <th>Age</th>\n",
       "      <th>Born</th>\n",
       "      <th>90s</th>\n",
       "      <th>Touches</th>\n",
       "      <th>...</th>\n",
       "      <th>TotDist</th>\n",
       "      <th>PrgDist</th>\n",
       "      <th>PrgC</th>\n",
       "      <th>1/3</th>\n",
       "      <th>CPA</th>\n",
       "      <th>Mis</th>\n",
       "      <th>Dis</th>\n",
       "      <th>Rec</th>\n",
       "      <th>PrgR</th>\n",
       "      <th>Matches</th>\n",
       "    </tr>\n",
       "  </thead>\n",
       "  <tbody>\n",
       "    <tr>\n",
       "      <th>0</th>\n",
       "      <td>1</td>\n",
       "      <td>Max Aarons</td>\n",
       "      <td>eng ENG</td>\n",
       "      <td>DF</td>\n",
       "      <td>Bournemouth</td>\n",
       "      <td>eng Premier League</td>\n",
       "      <td>23</td>\n",
       "      <td>2000</td>\n",
       "      <td>13.7</td>\n",
       "      <td>711</td>\n",
       "      <td>...</td>\n",
       "      <td>2174</td>\n",
       "      <td>1121</td>\n",
       "      <td>22</td>\n",
       "      <td>12</td>\n",
       "      <td>7</td>\n",
       "      <td>13</td>\n",
       "      <td>8</td>\n",
       "      <td>371</td>\n",
       "      <td>26</td>\n",
       "      <td>Matches</td>\n",
       "    </tr>\n",
       "    <tr>\n",
       "      <th>1</th>\n",
       "      <td>2</td>\n",
       "      <td>Brenden Aaronson</td>\n",
       "      <td>us USA</td>\n",
       "      <td>MF,FW</td>\n",
       "      <td>Union Berlin</td>\n",
       "      <td>de Bundesliga</td>\n",
       "      <td>22</td>\n",
       "      <td>2000</td>\n",
       "      <td>14.1</td>\n",
       "      <td>675</td>\n",
       "      <td>...</td>\n",
       "      <td>2721</td>\n",
       "      <td>1387</td>\n",
       "      <td>37</td>\n",
       "      <td>29</td>\n",
       "      <td>9</td>\n",
       "      <td>41</td>\n",
       "      <td>38</td>\n",
       "      <td>457</td>\n",
       "      <td>91</td>\n",
       "      <td>Matches</td>\n",
       "    </tr>\n",
       "    <tr>\n",
       "      <th>2</th>\n",
       "      <td>3</td>\n",
       "      <td>Paxten Aaronson</td>\n",
       "      <td>us USA</td>\n",
       "      <td>MF</td>\n",
       "      <td>Eint Frankfurt</td>\n",
       "      <td>de Bundesliga</td>\n",
       "      <td>19</td>\n",
       "      <td>2003</td>\n",
       "      <td>1.1</td>\n",
       "      <td>72</td>\n",
       "      <td>...</td>\n",
       "      <td>193</td>\n",
       "      <td>50</td>\n",
       "      <td>2</td>\n",
       "      <td>0</td>\n",
       "      <td>1</td>\n",
       "      <td>5</td>\n",
       "      <td>4</td>\n",
       "      <td>46</td>\n",
       "      <td>7</td>\n",
       "      <td>Matches</td>\n",
       "    </tr>\n",
       "    <tr>\n",
       "      <th>3</th>\n",
       "      <td>4</td>\n",
       "      <td>Keyliane Abdallah</td>\n",
       "      <td>fr FRA</td>\n",
       "      <td>FW</td>\n",
       "      <td>Marseille</td>\n",
       "      <td>fr Ligue 1</td>\n",
       "      <td>17</td>\n",
       "      <td>2006</td>\n",
       "      <td>0.0</td>\n",
       "      <td>1</td>\n",
       "      <td>...</td>\n",
       "      <td>3</td>\n",
       "      <td>0</td>\n",
       "      <td>0</td>\n",
       "      <td>0</td>\n",
       "      <td>0</td>\n",
       "      <td>0</td>\n",
       "      <td>0</td>\n",
       "      <td>1</td>\n",
       "      <td>0</td>\n",
       "      <td>Matches</td>\n",
       "    </tr>\n",
       "    <tr>\n",
       "      <th>4</th>\n",
       "      <td>5</td>\n",
       "      <td>Yunis Abdelhamid</td>\n",
       "      <td>ma MAR</td>\n",
       "      <td>DF</td>\n",
       "      <td>Reims</td>\n",
       "      <td>fr Ligue 1</td>\n",
       "      <td>35</td>\n",
       "      <td>1987</td>\n",
       "      <td>30.9</td>\n",
       "      <td>2185</td>\n",
       "      <td>...</td>\n",
       "      <td>8663</td>\n",
       "      <td>4921</td>\n",
       "      <td>36</td>\n",
       "      <td>19</td>\n",
       "      <td>0</td>\n",
       "      <td>23</td>\n",
       "      <td>4</td>\n",
       "      <td>1403</td>\n",
       "      <td>9</td>\n",
       "      <td>Matches</td>\n",
       "    </tr>\n",
       "    <tr>\n",
       "      <th>...</th>\n",
       "      <td>...</td>\n",
       "      <td>...</td>\n",
       "      <td>...</td>\n",
       "      <td>...</td>\n",
       "      <td>...</td>\n",
       "      <td>...</td>\n",
       "      <td>...</td>\n",
       "      <td>...</td>\n",
       "      <td>...</td>\n",
       "      <td>...</td>\n",
       "      <td>...</td>\n",
       "      <td>...</td>\n",
       "      <td>...</td>\n",
       "      <td>...</td>\n",
       "      <td>...</td>\n",
       "      <td>...</td>\n",
       "      <td>...</td>\n",
       "      <td>...</td>\n",
       "      <td>...</td>\n",
       "      <td>...</td>\n",
       "      <td>...</td>\n",
       "    </tr>\n",
       "    <tr>\n",
       "      <th>2961</th>\n",
       "      <td>2849</td>\n",
       "      <td>Martin Ødegaard</td>\n",
       "      <td>no NOR</td>\n",
       "      <td>MF</td>\n",
       "      <td>Arsenal</td>\n",
       "      <td>eng Premier League</td>\n",
       "      <td>24</td>\n",
       "      <td>1998</td>\n",
       "      <td>34.3</td>\n",
       "      <td>2326</td>\n",
       "      <td>...</td>\n",
       "      <td>8190</td>\n",
       "      <td>3514</td>\n",
       "      <td>91</td>\n",
       "      <td>83</td>\n",
       "      <td>37</td>\n",
       "      <td>53</td>\n",
       "      <td>58</td>\n",
       "      <td>1827</td>\n",
       "      <td>202</td>\n",
       "      <td>Matches</td>\n",
       "    </tr>\n",
       "    <tr>\n",
       "      <th>2962</th>\n",
       "      <td>2850</td>\n",
       "      <td>Milan Đurić</td>\n",
       "      <td>ba BIH</td>\n",
       "      <td>FW</td>\n",
       "      <td>Hellas Verona</td>\n",
       "      <td>it Serie A</td>\n",
       "      <td>33</td>\n",
       "      <td>1990</td>\n",
       "      <td>13.4</td>\n",
       "      <td>421</td>\n",
       "      <td>...</td>\n",
       "      <td>529</td>\n",
       "      <td>151</td>\n",
       "      <td>3</td>\n",
       "      <td>6</td>\n",
       "      <td>1</td>\n",
       "      <td>22</td>\n",
       "      <td>8</td>\n",
       "      <td>352</td>\n",
       "      <td>33</td>\n",
       "      <td>Matches</td>\n",
       "    </tr>\n",
       "    <tr>\n",
       "      <th>2963</th>\n",
       "      <td>Rk</td>\n",
       "      <td>Player</td>\n",
       "      <td>Nation</td>\n",
       "      <td>Pos</td>\n",
       "      <td>Squad</td>\n",
       "      <td>Comp</td>\n",
       "      <td>Age</td>\n",
       "      <td>Born</td>\n",
       "      <td>90s</td>\n",
       "      <td>Touches</td>\n",
       "      <td>...</td>\n",
       "      <td>TotDist</td>\n",
       "      <td>PrgDist</td>\n",
       "      <td>PrgC</td>\n",
       "      <td>1/3</td>\n",
       "      <td>CPA</td>\n",
       "      <td>Mis</td>\n",
       "      <td>Dis</td>\n",
       "      <td>Rec</td>\n",
       "      <td>PrgR</td>\n",
       "      <td>Matches</td>\n",
       "    </tr>\n",
       "    <tr>\n",
       "      <th>2964</th>\n",
       "      <td>2851</td>\n",
       "      <td>Milan Đurić</td>\n",
       "      <td>ba BIH</td>\n",
       "      <td>FW</td>\n",
       "      <td>Monza</td>\n",
       "      <td>it Serie A</td>\n",
       "      <td>33</td>\n",
       "      <td>1990</td>\n",
       "      <td>14.0</td>\n",
       "      <td>381</td>\n",
       "      <td>...</td>\n",
       "      <td>458</td>\n",
       "      <td>108</td>\n",
       "      <td>2</td>\n",
       "      <td>2</td>\n",
       "      <td>1</td>\n",
       "      <td>24</td>\n",
       "      <td>14</td>\n",
       "      <td>323</td>\n",
       "      <td>31</td>\n",
       "      <td>Matches</td>\n",
       "    </tr>\n",
       "    <tr>\n",
       "      <th>2965</th>\n",
       "      <td>2852</td>\n",
       "      <td>Mateusz Łęgowski</td>\n",
       "      <td>pl POL</td>\n",
       "      <td>MF</td>\n",
       "      <td>Salernitana</td>\n",
       "      <td>it Serie A</td>\n",
       "      <td>20</td>\n",
       "      <td>2003</td>\n",
       "      <td>12.7</td>\n",
       "      <td>504</td>\n",
       "      <td>...</td>\n",
       "      <td>1526</td>\n",
       "      <td>757</td>\n",
       "      <td>16</td>\n",
       "      <td>13</td>\n",
       "      <td>3</td>\n",
       "      <td>20</td>\n",
       "      <td>12</td>\n",
       "      <td>294</td>\n",
       "      <td>17</td>\n",
       "      <td>Matches</td>\n",
       "    </tr>\n",
       "  </tbody>\n",
       "</table>\n",
       "<p>2966 rows × 32 columns</p>\n",
       "</div>"
      ],
      "text/plain": [
       "     Unnamed: 0_level_0 Unnamed: 1_level_0 Unnamed: 2_level_0  \\\n",
       "                     Rk             Player             Nation   \n",
       "0                     1         Max Aarons            eng ENG   \n",
       "1                     2   Brenden Aaronson             us USA   \n",
       "2                     3    Paxten Aaronson             us USA   \n",
       "3                     4  Keyliane Abdallah             fr FRA   \n",
       "4                     5   Yunis Abdelhamid             ma MAR   \n",
       "...                 ...                ...                ...   \n",
       "2961               2849    Martin Ødegaard             no NOR   \n",
       "2962               2850        Milan Đurić             ba BIH   \n",
       "2963                 Rk             Player             Nation   \n",
       "2964               2851        Milan Đurić             ba BIH   \n",
       "2965               2852   Mateusz Łęgowski             pl POL   \n",
       "\n",
       "     Unnamed: 3_level_0 Unnamed: 4_level_0  Unnamed: 5_level_0  \\\n",
       "                    Pos              Squad                Comp   \n",
       "0                    DF        Bournemouth  eng Premier League   \n",
       "1                 MF,FW       Union Berlin       de Bundesliga   \n",
       "2                    MF     Eint Frankfurt       de Bundesliga   \n",
       "3                    FW          Marseille          fr Ligue 1   \n",
       "4                    DF              Reims          fr Ligue 1   \n",
       "...                 ...                ...                 ...   \n",
       "2961                 MF            Arsenal  eng Premier League   \n",
       "2962                 FW      Hellas Verona          it Serie A   \n",
       "2963                Pos              Squad                Comp   \n",
       "2964                 FW              Monza          it Serie A   \n",
       "2965                 MF        Salernitana          it Serie A   \n",
       "\n",
       "     Unnamed: 6_level_0 Unnamed: 7_level_0 Unnamed: 8_level_0  Touches  ...  \\\n",
       "                    Age               Born                90s  Touches  ...   \n",
       "0                    23               2000               13.7      711  ...   \n",
       "1                    22               2000               14.1      675  ...   \n",
       "2                    19               2003                1.1       72  ...   \n",
       "3                    17               2006                0.0        1  ...   \n",
       "4                    35               1987               30.9     2185  ...   \n",
       "...                 ...                ...                ...      ...  ...   \n",
       "2961                 24               1998               34.3     2326  ...   \n",
       "2962                 33               1990               13.4      421  ...   \n",
       "2963                Age               Born                90s  Touches  ...   \n",
       "2964                 33               1990               14.0      381  ...   \n",
       "2965                 20               2003               12.7      504  ...   \n",
       "\n",
       "      Carries                                    Receiving        \\\n",
       "      TotDist  PrgDist  PrgC  1/3  CPA  Mis  Dis       Rec  PrgR   \n",
       "0        2174     1121    22   12    7   13    8       371    26   \n",
       "1        2721     1387    37   29    9   41   38       457    91   \n",
       "2         193       50     2    0    1    5    4        46     7   \n",
       "3           3        0     0    0    0    0    0         1     0   \n",
       "4        8663     4921    36   19    0   23    4      1403     9   \n",
       "...       ...      ...   ...  ...  ...  ...  ...       ...   ...   \n",
       "2961     8190     3514    91   83   37   53   58      1827   202   \n",
       "2962      529      151     3    6    1   22    8       352    33   \n",
       "2963  TotDist  PrgDist  PrgC  1/3  CPA  Mis  Dis       Rec  PrgR   \n",
       "2964      458      108     2    2    1   24   14       323    31   \n",
       "2965     1526      757    16   13    3   20   12       294    17   \n",
       "\n",
       "     Unnamed: 31_level_0  \n",
       "                 Matches  \n",
       "0                Matches  \n",
       "1                Matches  \n",
       "2                Matches  \n",
       "3                Matches  \n",
       "4                Matches  \n",
       "...                  ...  \n",
       "2961             Matches  \n",
       "2962             Matches  \n",
       "2963             Matches  \n",
       "2964             Matches  \n",
       "2965             Matches  \n",
       "\n",
       "[2966 rows x 32 columns]"
      ]
     },
     "execution_count": 13,
     "metadata": {},
     "output_type": "execute_result"
    }
   ],
   "source": [
    "import pandas as pd\n",
    "import duckdb\n",
    "\n",
    "df = pd.read_html('https://fbref.com/en/comps/Big5/possession/players/Big-5-European-Leagues-Stats',\n",
    "                  attrs={\"id\":\"stats_possession\"})[0]\n",
    "\n",
    "df"
   ]
  },
  {
   "cell_type": "code",
   "execution_count": 9,
   "metadata": {},
   "outputs": [
    {
     "data": {
      "text/plain": [
       "array(['Unnamed: 0_level_0_Rk', 'Unnamed: 1_level_0_Player',\n",
       "       'Unnamed: 2_level_0_Nation', 'Unnamed: 3_level_0_Pos',\n",
       "       'Unnamed: 4_level_0_Squad', 'Unnamed: 5_level_0_Comp',\n",
       "       'Unnamed: 6_level_0_Age', 'Unnamed: 7_level_0_Born',\n",
       "       'Unnamed: 8_level_0_90s', 'Touches_Touches', 'Touches_Def Pen',\n",
       "       'Touches_Def 3rd', 'Touches_Mid 3rd', 'Touches_Att 3rd',\n",
       "       'Touches_Att Pen', 'Touches_Live', 'Take-Ons_Att', 'Take-Ons_Succ',\n",
       "       'Take-Ons_Succ%', 'Take-Ons_Tkld', 'Take-Ons_Tkld%',\n",
       "       'Carries_Carries', 'Carries_TotDist', 'Carries_PrgDist',\n",
       "       'Carries_PrgC', 'Carries_1/3', 'Carries_CPA', 'Carries_Mis',\n",
       "       'Carries_Dis', 'Receiving_Rec', 'Receiving_PrgR',\n",
       "       'Unnamed: 31_level_0_Matches'], dtype=object)"
      ]
     },
     "execution_count": 9,
     "metadata": {},
     "output_type": "execute_result"
    }
   ],
   "source": [
    "df.columns = ['_'.join(col).strip() for col in df.columns.values]\n",
    "\n",
    "df.columns.values"
   ]
  },
  {
   "cell_type": "code",
   "execution_count": 11,
   "metadata": {},
   "outputs": [
    {
     "data": {
      "text/html": [
       "<div>\n",
       "<style scoped>\n",
       "    .dataframe tbody tr th:only-of-type {\n",
       "        vertical-align: middle;\n",
       "    }\n",
       "\n",
       "    .dataframe tbody tr th {\n",
       "        vertical-align: top;\n",
       "    }\n",
       "\n",
       "    .dataframe thead th {\n",
       "        text-align: right;\n",
       "    }\n",
       "</style>\n",
       "<table border=\"1\" class=\"dataframe\">\n",
       "  <thead>\n",
       "    <tr style=\"text-align: right;\">\n",
       "      <th></th>\n",
       "      <th>Player</th>\n",
       "      <th>Pos</th>\n",
       "      <th>90s</th>\n",
       "      <th>Touches</th>\n",
       "      <th>Take-Ons</th>\n",
       "    </tr>\n",
       "  </thead>\n",
       "  <tbody>\n",
       "    <tr>\n",
       "      <th>0</th>\n",
       "      <td>Max Aarons</td>\n",
       "      <td>DF</td>\n",
       "      <td>13.7</td>\n",
       "      <td>711</td>\n",
       "      <td>34</td>\n",
       "    </tr>\n",
       "    <tr>\n",
       "      <th>1</th>\n",
       "      <td>Brenden Aaronson</td>\n",
       "      <td>MF,FW</td>\n",
       "      <td>14.1</td>\n",
       "      <td>675</td>\n",
       "      <td>77</td>\n",
       "    </tr>\n",
       "    <tr>\n",
       "      <th>2</th>\n",
       "      <td>Paxten Aaronson</td>\n",
       "      <td>MF</td>\n",
       "      <td>1.1</td>\n",
       "      <td>72</td>\n",
       "      <td>7</td>\n",
       "    </tr>\n",
       "    <tr>\n",
       "      <th>3</th>\n",
       "      <td>Keyliane Abdallah</td>\n",
       "      <td>FW</td>\n",
       "      <td>0.0</td>\n",
       "      <td>1</td>\n",
       "      <td>0</td>\n",
       "    </tr>\n",
       "    <tr>\n",
       "      <th>4</th>\n",
       "      <td>Yunis Abdelhamid</td>\n",
       "      <td>DF</td>\n",
       "      <td>30.9</td>\n",
       "      <td>2185</td>\n",
       "      <td>15</td>\n",
       "    </tr>\n",
       "    <tr>\n",
       "      <th>...</th>\n",
       "      <td>...</td>\n",
       "      <td>...</td>\n",
       "      <td>...</td>\n",
       "      <td>...</td>\n",
       "      <td>...</td>\n",
       "    </tr>\n",
       "    <tr>\n",
       "      <th>2961</th>\n",
       "      <td>Martin Ødegaard</td>\n",
       "      <td>MF</td>\n",
       "      <td>34.3</td>\n",
       "      <td>2326</td>\n",
       "      <td>81</td>\n",
       "    </tr>\n",
       "    <tr>\n",
       "      <th>2962</th>\n",
       "      <td>Milan Đurić</td>\n",
       "      <td>FW</td>\n",
       "      <td>13.4</td>\n",
       "      <td>421</td>\n",
       "      <td>3</td>\n",
       "    </tr>\n",
       "    <tr>\n",
       "      <th>2963</th>\n",
       "      <td>Player</td>\n",
       "      <td>Pos</td>\n",
       "      <td>90s</td>\n",
       "      <td>Touches</td>\n",
       "      <td>Att</td>\n",
       "    </tr>\n",
       "    <tr>\n",
       "      <th>2964</th>\n",
       "      <td>Milan Đurić</td>\n",
       "      <td>FW</td>\n",
       "      <td>14.0</td>\n",
       "      <td>381</td>\n",
       "      <td>4</td>\n",
       "    </tr>\n",
       "    <tr>\n",
       "      <th>2965</th>\n",
       "      <td>Mateusz Łęgowski</td>\n",
       "      <td>MF</td>\n",
       "      <td>12.7</td>\n",
       "      <td>504</td>\n",
       "      <td>21</td>\n",
       "    </tr>\n",
       "  </tbody>\n",
       "</table>\n",
       "<p>2966 rows × 5 columns</p>\n",
       "</div>"
      ],
      "text/plain": [
       "                 Player    Pos   90s  Touches Take-Ons\n",
       "0            Max Aarons     DF  13.7      711       34\n",
       "1      Brenden Aaronson  MF,FW  14.1      675       77\n",
       "2       Paxten Aaronson     MF   1.1       72        7\n",
       "3     Keyliane Abdallah     FW   0.0        1        0\n",
       "4      Yunis Abdelhamid     DF  30.9     2185       15\n",
       "...                 ...    ...   ...      ...      ...\n",
       "2961    Martin Ødegaard     MF  34.3     2326       81\n",
       "2962        Milan Đurić     FW  13.4      421        3\n",
       "2963             Player    Pos   90s  Touches      Att\n",
       "2964        Milan Đurić     FW  14.0      381        4\n",
       "2965   Mateusz Łęgowski     MF  12.7      504       21\n",
       "\n",
       "[2966 rows x 5 columns]"
      ]
     },
     "execution_count": 11,
     "metadata": {},
     "output_type": "execute_result"
    }
   ],
   "source": [
    "to_analyse = df[['Unnamed: 1_level_0_Player', 'Unnamed: 3_level_0_Pos', 'Unnamed: 8_level_0_90s', 'Touches_Touches', 'Take-Ons_Att']]\n",
    "\n",
    "to_analyse.columns = ['Player', 'Pos', '90s', 'Touches', 'Take-Ons']\n",
    "\n",
    "to_analyse"
   ]
  },
  {
   "cell_type": "code",
   "execution_count": 17,
   "metadata": {},
   "outputs": [
    {
     "data": {
      "text/html": [
       "<div>\n",
       "<style scoped>\n",
       "    .dataframe tbody tr th:only-of-type {\n",
       "        vertical-align: middle;\n",
       "    }\n",
       "\n",
       "    .dataframe tbody tr th {\n",
       "        vertical-align: top;\n",
       "    }\n",
       "\n",
       "    .dataframe thead th {\n",
       "        text-align: right;\n",
       "    }\n",
       "</style>\n",
       "<table border=\"1\" class=\"dataframe\">\n",
       "  <thead>\n",
       "    <tr style=\"text-align: right;\">\n",
       "      <th></th>\n",
       "      <th>Player</th>\n",
       "      <th>Pos</th>\n",
       "      <th>90s</th>\n",
       "      <th>Touches</th>\n",
       "      <th>Take-Ons</th>\n",
       "    </tr>\n",
       "  </thead>\n",
       "  <tbody>\n",
       "    <tr>\n",
       "      <th>25</th>\n",
       "      <td>Player</td>\n",
       "      <td>Pos</td>\n",
       "      <td>90s</td>\n",
       "      <td>Touches</td>\n",
       "      <td>Att</td>\n",
       "    </tr>\n",
       "    <tr>\n",
       "      <th>51</th>\n",
       "      <td>Player</td>\n",
       "      <td>Pos</td>\n",
       "      <td>90s</td>\n",
       "      <td>Touches</td>\n",
       "      <td>Att</td>\n",
       "    </tr>\n",
       "    <tr>\n",
       "      <th>77</th>\n",
       "      <td>Player</td>\n",
       "      <td>Pos</td>\n",
       "      <td>90s</td>\n",
       "      <td>Touches</td>\n",
       "      <td>Att</td>\n",
       "    </tr>\n",
       "    <tr>\n",
       "      <th>103</th>\n",
       "      <td>Player</td>\n",
       "      <td>Pos</td>\n",
       "      <td>90s</td>\n",
       "      <td>Touches</td>\n",
       "      <td>Att</td>\n",
       "    </tr>\n",
       "    <tr>\n",
       "      <th>129</th>\n",
       "      <td>Player</td>\n",
       "      <td>Pos</td>\n",
       "      <td>90s</td>\n",
       "      <td>Touches</td>\n",
       "      <td>Att</td>\n",
       "    </tr>\n",
       "    <tr>\n",
       "      <th>...</th>\n",
       "      <td>...</td>\n",
       "      <td>...</td>\n",
       "      <td>...</td>\n",
       "      <td>...</td>\n",
       "      <td>...</td>\n",
       "    </tr>\n",
       "    <tr>\n",
       "      <th>2859</th>\n",
       "      <td>Player</td>\n",
       "      <td>Pos</td>\n",
       "      <td>90s</td>\n",
       "      <td>Touches</td>\n",
       "      <td>Att</td>\n",
       "    </tr>\n",
       "    <tr>\n",
       "      <th>2885</th>\n",
       "      <td>Player</td>\n",
       "      <td>Pos</td>\n",
       "      <td>90s</td>\n",
       "      <td>Touches</td>\n",
       "      <td>Att</td>\n",
       "    </tr>\n",
       "    <tr>\n",
       "      <th>2911</th>\n",
       "      <td>Player</td>\n",
       "      <td>Pos</td>\n",
       "      <td>90s</td>\n",
       "      <td>Touches</td>\n",
       "      <td>Att</td>\n",
       "    </tr>\n",
       "    <tr>\n",
       "      <th>2937</th>\n",
       "      <td>Player</td>\n",
       "      <td>Pos</td>\n",
       "      <td>90s</td>\n",
       "      <td>Touches</td>\n",
       "      <td>Att</td>\n",
       "    </tr>\n",
       "    <tr>\n",
       "      <th>2963</th>\n",
       "      <td>Player</td>\n",
       "      <td>Pos</td>\n",
       "      <td>90s</td>\n",
       "      <td>Touches</td>\n",
       "      <td>Att</td>\n",
       "    </tr>\n",
       "  </tbody>\n",
       "</table>\n",
       "<p>114 rows × 5 columns</p>\n",
       "</div>"
      ],
      "text/plain": [
       "      Player  Pos  90s  Touches Take-Ons\n",
       "25    Player  Pos  90s  Touches      Att\n",
       "51    Player  Pos  90s  Touches      Att\n",
       "77    Player  Pos  90s  Touches      Att\n",
       "103   Player  Pos  90s  Touches      Att\n",
       "129   Player  Pos  90s  Touches      Att\n",
       "...      ...  ...  ...      ...      ...\n",
       "2859  Player  Pos  90s  Touches      Att\n",
       "2885  Player  Pos  90s  Touches      Att\n",
       "2911  Player  Pos  90s  Touches      Att\n",
       "2937  Player  Pos  90s  Touches      Att\n",
       "2963  Player  Pos  90s  Touches      Att\n",
       "\n",
       "[114 rows x 5 columns]"
      ]
     },
     "execution_count": 17,
     "metadata": {},
     "output_type": "execute_result"
    }
   ],
   "source": [
    "to_analyse[to_analyse['Player'] == 'Player']"
   ]
  },
  {
   "cell_type": "code",
   "execution_count": 26,
   "metadata": {},
   "outputs": [],
   "source": [
    "to_analyse = duckdb.sql(\"select * from to_analyse where Player != 'Player'\").df()\n",
    "\n",
    "to_analyse['Take-Ons'] = to_analyse['Take-Ons'].astype(float)\n",
    "to_analyse['90s'] = to_analyse['90s'].astype(float)\n",
    "to_analyse['Touches'] = to_analyse['Touches'].astype(float)\n",
    "\n"
   ]
  },
  {
   "cell_type": "code",
   "execution_count": 28,
   "metadata": {},
   "outputs": [],
   "source": [
    "to_analyse['Take-Ons-Per-90'] = to_analyse['Take-Ons'] / to_analyse['90s']\n",
    "\n",
    "to_analyse['Take-Ons-Per-100-Touches'] = to_analyse['Take-Ons'] / (to_analyse['Touches']/ 100)"
   ]
  },
  {
   "cell_type": "code",
   "execution_count": 35,
   "metadata": {},
   "outputs": [
    {
     "name": "stderr",
     "output_type": "stream",
     "text": [
      "/var/folders/mn/686s79xs0mv06qcjlx9yv1440000gn/T/ipykernel_48816/100715821.py:5: SettingWithCopyWarning: \n",
      "A value is trying to be set on a copy of a slice from a DataFrame.\n",
      "Try using .loc[row_indexer,col_indexer] = value instead\n",
      "\n",
      "See the caveats in the documentation: https://pandas.pydata.org/pandas-docs/stable/user_guide/indexing.html#returning-a-view-versus-a-copy\n",
      "  mf_fw['Played_90s'] = mf_fw['90s']\n"
     ]
    }
   ],
   "source": [
    "mf_fw = to_analyse[to_analyse['Pos'].isin(['MF', 'FW'])]\n",
    "\n",
    "mf_fw.columns = mf_fw.columns.str.replace('-', '_')\n",
    "\n",
    "mf_fw['Played_90s'] = mf_fw['90s']"
   ]
  },
  {
   "cell_type": "code",
   "execution_count": 37,
   "metadata": {},
   "outputs": [
    {
     "data": {
      "text/plain": [
       "┌──────────────────────┬─────────┬────────┬─────────┬──────────┬───────────────────┬──────────────────────┬────────────┐\n",
       "│        Player        │   Pos   │  90s   │ Touches │ Take_Ons │  Take_Ons_Per_90  │ Take_Ons_Per_100_T…  │ Played_90s │\n",
       "│       varchar        │ varchar │ double │ double  │  double  │      double       │        double        │   double   │\n",
       "├──────────────────────┼─────────┼────────┼─────────┼──────────┼───────────────────┼──────────────────────┼────────────┤\n",
       "│ Vinicius Júnior      │ FW      │   20.7 │  1058.0 │    176.0 │ 8.502415458937199 │     16.6351606805293 │       20.7 │\n",
       "│ Nico Williams        │ FW      │   25.1 │  1203.0 │    193.0 │ 7.689243027888446 │    16.04322527015794 │       25.1 │\n",
       "│ Noni Madueke         │ FW      │   11.7 │   666.0 │     86.0 │ 7.350427350427351 │   12.912912912912912 │       11.7 │\n",
       "│ Khvicha Kvaratskhe…  │ FW      │   30.4 │  1642.0 │    220.0 │ 7.236842105263158 │   13.398294762484774 │       30.4 │\n",
       "│ Leroy Sané           │ FW      │   23.7 │  1398.0 │    167.0 │ 7.046413502109705 │    11.94563662374821 │       23.7 │\n",
       "│ Edon Zhegrova        │ FW      │   25.4 │  1387.0 │    174.0 │ 6.850393700787402 │   12.545061283345351 │       25.4 │\n",
       "│ Lameck Banda         │ FW      │   15.0 │   602.0 │     99.0 │               6.6 │   16.445182724252494 │       15.0 │\n",
       "│ Lamine Yamal         │ FW      │   24.5 │  1475.0 │    160.0 │ 6.530612244897959 │   10.847457627118644 │       24.5 │\n",
       "│ Florian Wirtz        │ MF      │   26.4 │  2252.0 │    162.0 │ 6.136363636363637 │     7.19360568383659 │       26.4 │\n",
       "│ Justin Njinmah       │ FW      │   11.3 │   378.0 │     67.0 │ 5.929203539823009 │   17.724867724867725 │       11.3 │\n",
       "├──────────────────────┴─────────┴────────┴─────────┴──────────┴───────────────────┴──────────────────────┴────────────┤\n",
       "│ 10 rows                                                                                                    8 columns │\n",
       "└──────────────────────────────────────────────────────────────────────────────────────────────────────────────────────┘"
      ]
     },
     "execution_count": 37,
     "metadata": {},
     "output_type": "execute_result"
    }
   ],
   "source": [
    "duckdb.sql(\"select * from mf_fw where Played_90s > 10 order by Take_Ons_Per_90 desc limit 10\")"
   ]
  },
  {
   "cell_type": "code",
   "execution_count": 39,
   "metadata": {},
   "outputs": [
    {
     "data": {
      "text/plain": [
       "┌──────────────────────┬─────────┬────────┬─────────┬──────────┬───────────────────┬──────────────────────┬────────────┐\n",
       "│        Player        │   Pos   │  90s   │ Touches │ Take_Ons │  Take_Ons_Per_90  │ Take_Ons_Per_100_T…  │ Played_90s │\n",
       "│       varchar        │ varchar │ double │ double  │  double  │      double       │        double        │   double   │\n",
       "├──────────────────────┼─────────┼────────┼─────────┼──────────┼───────────────────┼──────────────────────┼────────────┤\n",
       "│ Justin Njinmah       │ FW      │   11.3 │   378.0 │     67.0 │ 5.929203539823009 │   17.724867724867725 │       11.3 │\n",
       "│ Vinicius Júnior      │ FW      │   20.7 │  1058.0 │    176.0 │ 8.502415458937199 │     16.6351606805293 │       20.7 │\n",
       "│ Lameck Banda         │ FW      │   15.0 │   602.0 │     99.0 │               6.6 │   16.445182724252494 │       15.0 │\n",
       "│ Nico Williams        │ FW      │   25.1 │  1203.0 │    193.0 │ 7.689243027888446 │    16.04322527015794 │       25.1 │\n",
       "│ Georges Mikautadze   │ FW      │   19.4 │   669.0 │     98.0 │ 5.051546391752578 │   14.648729446935723 │       19.4 │\n",
       "│ Elijah Adebayo       │ FW      │   15.8 │   462.0 │     67.0 │ 4.240506329113924 │   14.502164502164502 │       15.8 │\n",
       "│ Victor Boniface      │ FW      │   17.2 │   646.0 │     93.0 │ 5.406976744186046 │   14.396284829721361 │       17.2 │\n",
       "│ Musa Al-Taamari      │ FW      │   21.4 │   843.0 │    115.0 │ 5.373831775700935 │   13.641755634638198 │       21.4 │\n",
       "│ Umar Sadiq           │ FW      │   12.0 │   363.0 │     49.0 │ 4.083333333333333 │   13.498622589531681 │       12.0 │\n",
       "│ Khvicha Kvaratskhe…  │ FW      │   30.4 │  1642.0 │    220.0 │ 7.236842105263158 │   13.398294762484774 │       30.4 │\n",
       "├──────────────────────┴─────────┴────────┴─────────┴──────────┴───────────────────┴──────────────────────┴────────────┤\n",
       "│ 10 rows                                                                                                    8 columns │\n",
       "└──────────────────────────────────────────────────────────────────────────────────────────────────────────────────────┘"
      ]
     },
     "execution_count": 39,
     "metadata": {},
     "output_type": "execute_result"
    }
   ],
   "source": [
    "duckdb.sql(\"select * from mf_fw where Played_90s > 10 order by Take_Ons_Per_100_Touches desc limit 10\")"
   ]
  },
  {
   "cell_type": "code",
   "execution_count": 51,
   "metadata": {},
   "outputs": [
    {
     "data": {
      "application/vnd.plotly.v1+json": {
       "config": {
        "plotlyServerURL": "https://plot.ly"
       },
       "data": [
        {
         "customdata": [
          [
           "Salis Abdul Samed"
          ],
          [
           "Laurent Abergel"
          ],
          [
           "Matthis Abline"
          ],
          [
           "Akor Adams"
          ],
          [
           "Elijah Adebayo"
          ],
          [
           "Simon Adingra"
          ],
          [
           "Yacine Adli"
          ],
          [
           "Michel Aebischer"
          ],
          [
           "Ludovic Ajorque"
          ],
          [
           "Luis Alberto"
          ],
          [
           "Rubén Alcaraz"
          ],
          [
           "Iván Alejo"
          ],
          [
           "Carles Aleñá"
          ],
          [
           "Miguel Almirón"
          ],
          [
           "Edson Álvarez"
          ],
          [
           "Zeki Amdouni"
          ],
          [
           "Nadiem Amiri"
          ],
          [
           "Benjamin André"
          ],
          [
           "Michail Antonio"
          ],
          [
           "Antony"
          ],
          [
           "Oliver Arblaster"
          ],
          [
           "Maximilian Arnold"
          ],
          [
           "Iago Aspas"
          ],
          [
           "Pierre-Emerick Aubameyang"
          ],
          [
           "Taiwo Awoniyi"
          ],
          [
           "André Ayew"
          ],
          [
           "Neil El Aynaoui"
          ],
          [
           "Iddrisu Baba"
          ],
          [
           "Milan Badelj"
          ],
          [
           "Tiemoué Bakayoko"
          ],
          [
           "Carlos Baleba"
          ],
          [
           "Folarin Balogun"
          ],
          [
           "Mohamed Bamba"
          ],
          [
           "Lameck Banda"
          ],
          [
           "Léo Baptistão"
          ],
          [
           "Nicolò Barella"
          ],
          [
           "Ross Barkley"
          ],
          [
           "Leandro Barreiro Martins"
          ],
          [
           "Enzo Barrenechea"
          ],
          [
           "Pablo Barrios"
          ],
          [
           "Toma Bašić"
          ],
          [
           "Kevin Behrens"
          ],
          [
           "Jude Bellingham"
          ],
          [
           "Andrea Belotti"
          ],
          [
           "Fran Beltrán"
          ],
          [
           "Wissam Ben Yedder"
          ],
          [
           "Carlos Benavídez"
          ],
          [
           "Ismaël Bennacer"
          ],
          [
           "Nabil Bentaleb"
          ],
          [
           "Rodrigo Bentancur"
          ],
          [
           "Domenico Berardi"
          ],
          [
           "Álex Berenguer"
          ],
          [
           "Sander Berge"
          ],
          [
           "Isaac Bernal"
          ],
          [
           "Beto"
          ],
          [
           "Philip Billing"
          ],
          [
           "Yves Bissouma"
          ],
          [
           "Leonardo Bittencourt"
          ],
          [
           "Antonio Blanco"
          ],
          [
           "Alexis Blin"
          ],
          [
           "Jeremie Boga"
          ],
          [
           "Daniel Boloca"
          ],
          [
           "Giacomo Bonaventura"
          ],
          [
           "Warren Bondo"
          ],
          [
           "Victor Boniface"
          ],
          [
           "Rafael Borré"
          ],
          [
           "Hicham Boudaoui"
          ],
          [
           "Edoardo Bove"
          ],
          [
           "Jarrod Bowen"
          ],
          [
           "Lucas Boyé"
          ],
          [
           "Marco Brescianini"
          ],
          [
           "Moritz Broschinski"
          ],
          [
           "Josh Brownhill"
          ],
          [
           "Ante Budimir"
          ],
          [
           "Moisés Caicedo"
          ],
          [
           "Tom Cairney"
          ],
          [
           "Jens Cajuste"
          ],
          [
           "Hakan Çalhanoğlu"
          ],
          [
           "Dominic Calvert-Lewin"
          ],
          [
           "Lamine Camara"
          ],
          [
           "Mahdi Camara"
          ],
          [
           "Mohamed Camara"
          ],
          [
           "Sergio Camello"
          ],
          [
           "Étienne Capoue"
          ],
          [
           "Francesco Caputo"
          ],
          [
           "Maxence Caqueret"
          ],
          [
           "Johnny Cardoso"
          ],
          [
           "Cristian Cásseres Jr."
          ],
          [
           "Valentín Castellanos"
          ],
          [
           "Danilo Cataldi"
          ],
          [
           "Walid Cheddira"
          ],
          [
           "Federico Chiesa"
          ],
          [
           "Pedro Chirivella"
          ],
          [
           "Joris Chotard"
          ],
          [
           "Ryan Christie"
          ],
          [
           "Samuel Chukwueze"
          ],
          [
           "Pathé Ciss"
          ],
          [
           "Jordan Clark"
          ],
          [
           "Lorenzo Colombo"
          ],
          [
           "Kingsley Coman"
          ],
          [
           "Santi Comesaña"
          ],
          [
           "Lewis Cook"
          ],
          [
           "Francis Coquelin"
          ],
          [
           "David Pereira da Costa"
          ],
          [
           "Samu Costa"
          ],
          [
           "Lassana Coulibaly"
          ],
          [
           "Josh Cullen"
          ],
          [
           "Thijs Dallinga"
          ],
          [
           "Danilo"
          ],
          [
           "Sergi Darder"
          ],
          [
           "Jonathan David"
          ],
          [
           "Kevin De Bruyne"
          ],
          [
           "Rodrigo De Paul"
          ],
          [
           "Alessandro Deiola"
          ],
          [
           "Romain Del Castillo"
          ],
          [
           "Oumar Diakité"
          ],
          [
           "Assane Diao"
          ],
          [
           "Luis Díaz"
          ],
          [
           "Andy Diouf"
          ],
          [
           "Niklas Dorsch"
          ],
          [
           "Cheick Doucouré"
          ],
          [
           "Douglas"
          ],
          [
           "Anastasios Douvikas"
          ],
          [
           "Artem Dovbyk"
          ],
          [
           "Tommy Doyle"
          ],
          [
           "Marvin Ducksch"
          ],
          [
           "Ondrej Duda"
          ],
          [
           "Alfred Duncan"
          ],
          [
           "Hugo Duro"
          ],
          [
           "Éderson"
          ],
          [
           "Maximilian Eggestein"
          ],
          [
           "Caleb Ekuban"
          ],
          [
           "Emanuel Emegha"
          ],
          [
           "Youssef En-Nesyri"
          ],
          [
           "Wataru Endo"
          ],
          [
           "Christian Eriksen"
          ],
          [
           "Gonzalo Escalante"
          ],
          [
           "Jacopo Fazzini"
          ],
          [
           "João Félix"
          ],
          [
           "Evan Ferguson"
          ],
          [
           "Lewis Ferguson"
          ],
          [
           "Álex Fernández"
          ],
          [
           "Enzo Fernández"
          ],
          [
           "Jordan Ferri"
          ],
          [
           "Youssouf Fofana"
          ],
          [
           "Bartol Franjić"
          ],
          [
           "Davide Frattesi"
          ],
          [
           "Morten Frendrup"
          ],
          [
           "Remo Freuler"
          ],
          [
           "Angelo Fulgini"
          ],
          [
           "Niclas Füllkrug"
          ],
          [
           "Iñigo Ruiz de Galarreta"
          ],
          [
           "Conor Gallagher"
          ],
          [
           "Idrissa Gana Gueye"
          ],
          [
           "Aleix García"
          ],
          [
           "Alejandro Garnacho"
          ],
          [
           "James Garner"
          ],
          [
           "Johan Gastien"
          ],
          [
           "Billy Gilmour"
          ],
          [
           "Olivier Giroud"
          ],
          [
           "Angel Gomes"
          ],
          [
           "João Gomes"
          ],
          [
           "Maxi Gómez"
          ],
          [
           "Maxime Gonalons"
          ],
          [
           "Joan Gonzàlez"
          ],
          [
           "Nicolás González"
          ],
          [
           "Anthony Gordon"
          ],
          [
           "Leon Goretzka"
          ],
          [
           "Mario Götze"
          ],
          [
           "Alberto Grassi"
          ],
          [
           "Ryan Gravenberch"
          ],
          [
           "Michael Gregoritsch"
          ],
          [
           "Mattéo Guendouzi"
          ],
          [
           "Javier Guerra"
          ],
          [
           "Evann Guessand"
          ],
          [
           "Ander Guevara"
          ],
          [
           "Hugo Guillamón"
          ],
          [
           "Bruno Guimarães"
          ],
          [
           "Serhou Guirassy"
          ],
          [
           "Gerard Gumbau"
          ],
          [
           "İlkay Gündoğan"
          ],
          [
           "Jon Guridi"
          ],
          [
           "Gorka Guruzeta"
          ],
          [
           "Erling Haaland"
          ],
          [
           "Munir El Haddadi"
          ],
          [
           "Amadou Haidara"
          ],
          [
           "Gustavo Hamer"
          ],
          [
           "Matheus Henrique"
          ],
          [
           "Ander Herrera"
          ],
          [
           "Yangel Herrera"
          ],
          [
           "Son Heung-min"
          ],
          [
           "Nicolas Höfler"
          ],
          [
           "Jonas Hofmann"
          ],
          [
           "Philipp Hofmann"
          ],
          [
           "Martin Hongla"
          ],
          [
           "Will Hughes"
          ],
          [
           "Denis Huseinbasic"
          ],
          [
           "Pierre Højbjerg"
          ],
          [
           "Rasmus Højlund"
          ],
          [
           "Pablo Ibáñez"
          ],
          [
           "Jonathan Ikone"
          ],
          [
           "Chukwubuikem Ikwuemesi"
          ],
          [
           "Ivan Ilić"
          ],
          [
           "Ciro Immobile"
          ],
          [
           "Alexander Isak"
          ],
          [
           "Gustav Isaksen"
          ],
          [
           "Isco"
          ],
          [
           "Nicolas Jackson"
          ],
          [
           "Kristijan Jakić"
          ],
          [
           "Luis Javier Suárez"
          ],
          [
           "Danley Jean-Jacques"
          ],
          [
           "Mathias Jensen"
          ],
          [
           "Gabriel Jesus"
          ],
          [
           "Raúl Jiménez"
          ],
          [
           "Brennan Johnson"
          ],
          [
           "Curtis Jones"
          ],
          [
           "Frenkie de Jong"
          ],
          [
           "Jorginho"
          ],
          [
           "Willian José"
          ],
          [
           "Joselu"
          ],
          [
           "Diogo Jota"
          ],
          [
           "Vinicius Júnior"
          ],
          [
           "Mohamed Kaba"
          ],
          [
           "Arnaud Kalimuendo"
          ],
          [
           "Daichi Kamada"
          ],
          [
           "Boubacar Kamara"
          ],
          [
           "Kevin Kampl"
          ],
          [
           "Harry Kane"
          ],
          [
           "Atakan Karazor"
          ],
          [
           "Yassine Kechta"
          ],
          [
           "Habib Keita"
          ],
          [
           "Tobias Kempe"
          ],
          [
           "Wahbi Khazri"
          ],
          [
           "Rani Khedira"
          ],
          [
           "Tim Kleindienst"
          ],
          [
           "Koke"
          ],
          [
           "Geoffrey Kondogbia"
          ],
          [
           "Manu Koné"
          ],
          [
           "Teun Koopmeiners"
          ],
          [
           "Christian Kouamé"
          ],
          [
           "Mateo Kovačić"
          ],
          [
           "Alex Král"
          ],
          [
           "Tom Krauß"
          ],
          [
           "Toni Kroos"
          ],
          [
           "Nikola Krstović"
          ],
          [
           "Daler Kuzyaev"
          ],
          [
           "Khvicha Kvaratskhelia"
          ],
          [
           "Grejohn Kyei"
          ],
          [
           "Luca de la Torre"
          ],
          [
           "Alexandre Lacazette"
          ],
          [
           "Aïssa Laïdouni"
          ],
          [
           "Mohamed Lamine Bayo"
          ],
          [
           "Gianluca Lapadula"
          ],
          [
           "Cyle Larin"
          ],
          [
           "Hugo Larsson"
          ],
          [
           "Juanmi Latasa"
          ],
          [
           "Armand Lauriente"
          ],
          [
           "Jérémy Le Douaron"
          ],
          [
           "Enzo Le Fée"
          ],
          [
           "Rafael Leão"
          ],
          [
           "Pierre Lees-Melou"
          ],
          [
           "Mario Lemina"
          ],
          [
           "Robert Lewandowski"
          ],
          [
           "Karol Linetty"
          ],
          [
           "Stanislav Lobotka"
          ],
          [
           "Manuel Locatelli"
          ],
          [
           "Ruben Loftus-Cheek"
          ],
          [
           "Enzo Loiodice"
          ],
          [
           "Sean Longstaff"
          ],
          [
           "Unai López"
          ],
          [
           "Dion Lopy"
          ],
          [
           "Anthony Losilla"
          ],
          [
           "Sandi Lovrić"
          ],
          [
           "Lorenzo Lucca"
          ],
          [
           "Douglas Luiz"
          ],
          [
           "Romelu Lukaku"
          ],
          [
           "Saša Lukić"
          ],
          [
           "Senne Lynen"
          ],
          [
           "Alexis Mac Allister"
          ],
          [
           "James Maddison"
          ],
          [
           "Noni Madueke"
          ],
          [
           "Giulio Maggiore"
          ],
          [
           "Hugo Magnetti"
          ],
          [
           "Yohann Magnin"
          ],
          [
           "Arne Maier"
          ],
          [
           "Kobbie Mainoo"
          ],
          [
           "Antoine Makoumbou"
          ],
          [
           "Nemanja Maksimović"
          ],
          [
           "Youssef Maleh"
          ],
          [
           "Ruslan Malinovskyi"
          ],
          [
           "Lennard Maloney"
          ],
          [
           "Rolando Mandragora"
          ],
          [
           "Orel Mangala"
          ],
          [
           "Răzvan Marin"
          ],
          [
           "Eric Martel"
          ],
          [
           "Roger Martí"
          ],
          [
           "Iván Martín"
          ],
          [
           "Jonas Martin"
          ],
          [
           "Gabriel Martinelli"
          ],
          [
           "Lautaro Martínez"
          ],
          [
           "Omar Mascarell"
          ],
          [
           "Pape Matar Sarr"
          ],
          [
           "Jean-Philippe Mateta"
          ],
          [
           "Nemanja Matić"
          ],
          [
           "Nemanja Matić"
          ],
          [
           "Azor Matusiwa"
          ],
          [
           "Neal Maupay"
          ],
          [
           "Borja Mayoral"
          ],
          [
           "Luca Mazzitelli"
          ],
          [
           "Kylian Mbappé"
          ],
          [
           "Bryan Mbeumo"
          ],
          [
           "Oliver McBurnie"
          ],
          [
           "Marvin Mehlem"
          ],
          [
           "Arthur Melo"
          ],
          [
           "Nampalys Mendy"
          ],
          [
           "Mikel Merino"
          ],
          [
           "Georges Mikautadze"
          ],
          [
           "Lewis Miley"
          ],
          [
           "Arkadiusz Milik"
          ],
          [
           "Luis Milla"
          ],
          [
           "Takumi Minamino"
          ],
          [
           "Fabio Miretti"
          ],
          [
           "Kaoru Mitoma"
          ],
          [
           "Henrikh Mkhitaryan"
          ],
          [
           "Luka Modrić"
          ],
          [
           "Terem Moffi"
          ],
          [
           "Mostafa Mohamed"
          ],
          [
           "Jon Moncayola"
          ],
          [
           "Álvaro Morata"
          ],
          [
           "Gerard Moreno"
          ],
          [
           "Manu Morlanes"
          ],
          [
           "Steve Mounié"
          ],
          [
           "Samuel Moutoussamy"
          ],
          [
           "Mykhailo Mudryk"
          ],
          [
           "Marshall Munetsi"
          ],
          [
           "Rodrigo Muniz"
          ],
          [
           "Iker Muñoz"
          ],
          [
           "Javier Muñoz"
          ],
          [
           "Vedat Muriqi"
          ],
          [
           "Kévin N'Doram"
          ],
          [
           "Marvelous Nakamba"
          ],
          [
           "Florian Neuhaus"
          ],
          [
           "Shamar Nicholson"
          ],
          [
           "Saúl Ñíguez"
          ],
          [
           "Justin Njinmah"
          ],
          [
           "Eddie Nketiah"
          ],
          [
           "Felix Nmecha"
          ],
          [
           "Oliver Norwood"
          ],
          [
           "Darwin Núñez"
          ],
          [
           "M'Bala Nzola"
          ],
          [
           "Christian Nørgaard"
          ],
          [
           "Dani Olmo"
          ],
          [
           "Samuel Omorodion"
          ],
          [
           "Amadou Onana"
          ],
          [
           "Frank Onyeka"
          ],
          [
           "Loïs Openda"
          ],
          [
           "Aimar Oroz"
          ],
          [
           "Victor Osimhen"
          ],
          [
           "Patrick Osterhage"
          ],
          [
           "Azzedine Ounahi"
          ],
          [
           "Salih Özcan"
          ],
          [
           "Exequiel Palacios"
          ],
          [
           "João Palhinha"
          ],
          [
           "Leandro Paredes"
          ],
          [
           "Daniel Parejo"
          ],
          [
           "Mario Pašalić"
          ],
          [
           "Aleksandar Pavlovic"
          ],
          [
           "Martín Payero"
          ],
          [
           "Jordan Pefok"
          ],
          [
           "Lorenzo Pellegrini"
          ],
          [
           "Andreas Pereira"
          ],
          [
           "Ayoze Pérez"
          ],
          [
           "Máximo Perrone"
          ],
          [
           "Matteo Pessina"
          ],
          [
           "Andrea Petagna"
          ],
          [
           "Roberto Piccoli"
          ],
          [
           "Andrea Pinamonti"
          ],
          [
           "Matteo Politano"
          ],
          [
           "Julien Ponceau"
          ],
          [
           "Yussuf Poulsen"
          ],
          [
           "Matteo Prati"
          ],
          [
           "Grischa Prömel"
          ],
          [
           "Adrien Rabiot"
          ],
          [
           "Hamza Rafia"
          ],
          [
           "Ivan Rakitić"
          ],
          [
           "Ylber Ramadani"
          ],
          [
           "Sandro Ramírez"
          ],
          [
           "Gonçalo Ramos"
          ],
          [
           "Marcus Rashford"
          ],
          [
           "Raúl"
          ],
          [
           "Harrison Reed"
          ],
          [
           "Bobby Reid"
          ],
          [
           "Tijjani Reijnders"
          ],
          [
           "Rocco Reitz"
          ],
          [
           "Mateo Retegui"
          ],
          [
           "Elvis Rexhbeçaj"
          ],
          [
           "Samuele Ricci"
          ],
          [
           "Declan Rice"
          ],
          [
           "Amir Richardson"
          ],
          [
           "Richarlison"
          ],
          [
           "Lucas Robertone"
          ],
          [
           "Marc Roca"
          ],
          [
           "Rodri"
          ],
          [
           "Dani Rodríguez"
          ],
          [
           "Guido Rodríguez"
          ],
          [
           "Kirian Rodríguez"
          ],
          [
           "Rodrygo"
          ],
          [
           "Oriol Romeu"
          ],
          [
           "Nicolò Rovella"
          ],
          [
           "Pelly Ruddock Mpanzu"
          ],
          [
           "Fabián Ruiz Peña"
          ],
          [
           "Sergio Ruiz"
          ],
          [
           "Marcel Sabitzer"
          ],
          [
           "Umar Sadiq"
          ],
          [
           "Bukayo Saka"
          ],
          [
           "Mohamed Salah"
          ],
          [
           "Lazar Samardzic"
          ],
          [
           "Albert Sambi Lokonga"
          ],
          [
           "Oihan Sancet"
          ],
          [
           "Antonio Sánchez"
          ],
          [
           "Leroy Sané"
          ],
          [
           "Ibrahim Sangaré"
          ],
          [
           "Morgan Sanson"
          ],
          [
           "Baptiste Santamaria"
          ],
          [
           "Martin Satriano"
          ],
          [
           "Téji Savanier"
          ],
          [
           "Gianluca Scamacca"
          ],
          [
           "András Schäfer"
          ],
          [
           "Patrik Schick"
          ],
          [
           "Xaver Schlager"
          ],
          [
           "Niklas Schmidt"
          ],
          [
           "Jan Schöppner"
          ],
          [
           "Alex Scott"
          ],
          [
           "Davie Selke"
          ],
          [
           "Antoine Semenyo"
          ],
          [
           "Suat Serdar"
          ],
          [
           "Benjamin Šeško"
          ],
          [
           "Vincent Sierro"
          ],
          [
           "Xavi Simons"
          ],
          [
           "Ibrahima Sissoko"
          ],
          [
           "Moussa Sissoko"
          ],
          [
           "Ellyes Skhiri"
          ],
          [
           "Dominic Solanke"
          ],
          [
           "Riccardo Sottil"
          ],
          [
           "Tomáš Souček"
          ],
          [
           "Boubakary Soumaré"
          ],
          [
           "Vinicius Souza"
          ],
          [
           "Djibril Sow"
          ],
          [
           "Stijn Spierings"
          ],
          [
           "Anton Stach"
          ],
          [
           "Jens Stage"
          ],
          [
           "Angelo Stiller"
          ],
          [
           "Kevin Stöger"
          ],
          [
           "Jørgen Strand Larsen"
          ],
          [
           "Gabriel Strefezza"
          ],
          [
           "Kevin Strootman"
          ],
          [
           "Ibrahim Sulemana"
          ],
          [
           "Mattias Svanberg"
          ],
          [
           "Dominik Szoboszlai"
          ],
          [
           "Alexander Sørloth"
          ],
          [
           "Musa Al-Taamari"
          ],
          [
           "Oussama Targhalline"
          ],
          [
           "Marcus Tavernier"
          ],
          [
           "Teddy Teuma"
          ],
          [
           "Florian Thauvin"
          ],
          [
           "Adrien Thomasson"
          ],
          [
           "Morten Thorsby"
          ],
          [
           "Kristian Thorstvedt"
          ],
          [
           "Khéphren Thuram"
          ],
          [
           "Marcus Thuram"
          ],
          [
           "Phillip Tietz"
          ],
          [
           "Umut Tohumcu"
          ],
          [
           "Corentin Tolisso"
          ],
          [
           "Raúl de Tomás"
          ],
          [
           "Ivan Toney"
          ],
          [
           "Ferrán Torres"
          ],
          [
           "Óliver Torres"
          ],
          [
           "Lucas Torró"
          ],
          [
           "Abdoulaye Touré"
          ],
          [
           "Lucas Tousart"
          ],
          [
           "Beñat Turrientes"
          ],
          [
           "Manuel Ugarte Ribeiro"
          ],
          [
           "Myrto Uzuni"
          ],
          [
           "Óscar Valentín"
          ],
          [
           "Federico Valverde"
          ],
          [
           "José Luis García Vayá"
          ],
          [
           "Matías Vecino"
          ],
          [
           "Jordan Veretout"
          ],
          [
           "Mikel Vesga"
          ],
          [
           "Carlos Vicente"
          ],
          [
           "Jonathan Viera"
          ],
          [
           "Gonzalo Villar"
          ],
          [
           "Alan Virginius"
          ],
          [
           "Vitinha"
          ],
          [
           "Vitinha"
          ],
          [
           "Dušan Vlahović"
          ],
          [
           "Aster Vranckx"
          ],
          [
           "Elye Wahi"
          ],
          [
           "Walace"
          ],
          [
           "James Ward-Prowse"
          ],
          [
           "Ollie Watkins"
          ],
          [
           "Wout Weghorst"
          ],
          [
           "Julian Weigl"
          ],
          [
           "Adam Wharton"
          ],
          [
           "Iñaki Williams"
          ],
          [
           "Nico Williams"
          ],
          [
           "Willian"
          ],
          [
           "Callum Wilson"
          ],
          [
           "Harry Wilson"
          ],
          [
           "Jonas Wind"
          ],
          [
           "Florian Wirtz"
          ],
          [
           "Yoane Wissa"
          ],
          [
           "Chris Wood"
          ],
          [
           "Granit Xhaka"
          ],
          [
           "Lamine Yamal"
          ],
          [
           "Roman Yaremchuk"
          ],
          [
           "Ryan Yates"
          ],
          [
           "Andre-Frank Zambo Anguissa"
          ],
          [
           "Duván Zapata"
          ],
          [
           "Edon Zhegrova"
          ],
          [
           "Piotr Zieliński"
          ],
          [
           "Joshua Zirkzee"
          ],
          [
           "Martín Zubimendi"
          ],
          [
           "Martin Ødegaard"
          ],
          [
           "Milan Đurić"
          ],
          [
           "Milan Đurić"
          ],
          [
           "Mateusz Łęgowski"
          ]
         ],
         "hovertemplate": "Take_Ons_Per_90=%{x}<br>Take_Ons_Per_100_Touches=%{y}<br>Player=%{customdata[0]}<extra></extra>",
         "legendgroup": "",
         "marker": {
          "color": "#636efa",
          "symbol": "circle"
         },
         "mode": "markers",
         "name": "",
         "orientation": "v",
         "showlegend": false,
         "type": "scatter",
         "x": [
          1.124260355029586,
          2.044025157232704,
          2.844827586206897,
          1.76,
          4.240506329113924,
          4.9797570850202435,
          2.0512820512820515,
          1.0080645161290323,
          0.728476821192053,
          1.7509727626459144,
          0.6609195402298851,
          3.24468085106383,
          2.47787610619469,
          2.4186046511627906,
          1.590909090909091,
          4.055299539170507,
          3.767123287671233,
          0.8041958041958042,
          3.2978723404255317,
          4.829931972789116,
          2.380952380952381,
          0.39568345323741005,
          1.5614617940199336,
          1.1683848797250858,
          1.3793103448275863,
          2.2764227642276422,
          2.241379310344828,
          1.1949685534591195,
          1.1702127659574468,
          1.0273972602739727,
          1.4965986394557824,
          2.1808510638297873,
          2.301587301587302,
          6.6,
          1.3725490196078431,
          1.8670886075949367,
          3.5738831615120272,
          1.1379310344827587,
          0.576923076923077,
          2.7167630057803467,
          1.1627906976744187,
          0.5,
          3.77431906614786,
          0.5714285714285714,
          0.8888888888888888,
          1.7898832684824904,
          0.31746031746031744,
          2.34375,
          0.8675799086757991,
          1.8750000000000002,
          1.7610062893081762,
          3.446327683615819,
          1.2275449101796407,
          2.6956521739130435,
          3.30188679245283,
          2.129032258064516,
          2.0434782608695654,
          2.5142857142857142,
          1.2222222222222223,
          0.5494505494505495,
          5.09009009009009,
          1.5555555555555556,
          2.015810276679842,
          1.0975609756097562,
          5.406976744186046,
          2,
          2.4022346368715084,
          0.9090909090909091,
          2.8955223880597014,
          4.609929078014185,
          1.6666666666666665,
          2.2302158273381294,
          0.52,
          1.1439114391143912,
          1.7610062893081762,
          2,
          2.47787610619469,
          0.5281690140845071,
          1.784232365145228,
          2.3107569721115535,
          1.9196428571428572,
          1.9130434782608696,
          2.6486486486486487,
          2.7777777777777777,
          0.7092198581560284,
          2.5297619047619047,
          1.3513513513513513,
          0.787037037037037,
          2.0320855614973263,
          0.5298013245033113,
          1.5677966101694913,
          3.89344262295082,
          0.2777777777777778,
          0.4878048780487805,
          3.03405572755418,
          5.486725663716814,
          1.135135135135135,
          2.896551724137931,
          1.5231788079470199,
          5.403225806451613,
          1.7391304347826089,
          1.1612903225806452,
          0.7920792079207921,
          2.3493975903614457,
          0.8984375,
          1.5584415584415583,
          0.5676855895196506,
          1.3620071684587813,
          1.306532663316583,
          2.5833333333333335,
          1.3356164383561644,
          2.4264705882352944,
          2.380952380952381,
          0.558659217877095,
          5.776173285198556,
          3.5227272727272725,
          4.741379310344827,
          4.794520547945206,
          3.9726027397260273,
          0.7142857142857143,
          1.2745098039215688,
          0.40609137055837563,
          2.1782178217821784,
          0.8710801393728224,
          0.22058823529411764,
          0.9333333333333333,
          1.3919413919413919,
          1.9047619047619047,
          1.2386706948640482,
          1.316614420062696,
          1.1419753086419753,
          1.746031746031746,
          1.4718614718614718,
          1.2937062937062938,
          0.8376963350785339,
          0.4724409448818898,
          0.3703703703703704,
          2.9927007299270074,
          5.204678362573099,
          1.0526315789473684,
          1.1295681063122922,
          0.4895104895104895,
          1.7959183673469388,
          1.5929203539823007,
          2.2333333333333334,
          0.9489051094890512,
          1.9811320754716981,
          0.7163323782234957,
          0.4109589041095891,
          2.7450980392156863,
          0.8130081300813008,
          1.4224137931034484,
          1.8678160919540232,
          1.1961722488038278,
          0.676056338028169,
          4.5964912280701755,
          1.2275449101796407,
          0.99601593625498,
          0.9745762711864406,
          0.4182509505703422,
          1.2237762237762237,
          1.870748299319728,
          0.8527131782945736,
          1.1805555555555556,
          2.167832167832168,
          4.178403755868544,
          4.1433021806853585,
          0.9638554216867471,
          1.6956521739130435,
          0.49751243781094523,
          4,
          0.9625668449197862,
          0.8365019011406843,
          2.805755395683453,
          3.699421965317919,
          0.9815950920245399,
          0.136986301369863,
          3.6363636363636367,
          1.6734693877551021,
          0.6060606060606061,
          1.831831831831832,
          1.2751677852348993,
          1.3414634146341462,
          1.0563380281690142,
          2.2426470588235294,
          0.6470588235294118,
          1.7956656346749227,
          1.4028776978417266,
          0.8771929824561403,
          1.324786324786325,
          2.822085889570552,
          0.694980694980695,
          1.4285714285714286,
          0.8571428571428571,
          1,
          0.7142857142857143,
          1.2707182320441988,
          1.5753424657534247,
          1.5833333333333333,
          2.34375,
          2.4598930481283423,
          2.6271186440677963,
          1.4592274678111588,
          1.4673913043478262,
          2.948207171314741,
          3.6134453781512605,
          5.348837209302325,
          3.3762057877813505,
          0.9401709401709403,
          2.2549019607843137,
          0.9060402684563759,
          1.7959183673469388,
          4.573170731707317,
          1.5483870967741935,
          3.060344827586207,
          2.230769230769231,
          1.3186813186813187,
          0.4901960784313726,
          0.5479452054794521,
          0.7486631016042781,
          3.2283464566929134,
          8.502415458937199,
          1.6993464052287581,
          1.9327731092436975,
          1.3372093023255816,
          1.6304347826086958,
          0.9271523178807948,
          1.873015873015873,
          0.9278350515463917,
          1.7073170731707317,
          1.6901408450704227,
          1.2666666666666666,
          3.015873015873016,
          0.5369127516778524,
          1.974921630094044,
          0.39711191335740076,
          0.7975460122699386,
          3.9884393063583814,
          1.7123287671232876,
          2.396694214876033,
          1.8604651162790697,
          0.7894736842105263,
          0.8,
          0.3389830508474576,
          2.3106060606060606,
          0.9913793103448276,
          7.236842105263158,
          2.631578947368421,
          1.4746543778801844,
          1.6470588235294117,
          2.26890756302521,
          2.5324675324675323,
          0.6716417910447761,
          1.921182266009852,
          0.9047619047619048,
          0.7514450867052023,
          4.179566563467493,
          3.3333333333333335,
          3.1176470588235294,
          5.519713261648746,
          1.5714285714285714,
          1.393939393939394,
          1.7647058823529411,
          0.8252427184466019,
          0.9041095890410958,
          0.5688622754491018,
          2.4347826086956523,
          2.663316582914573,
          0.7540983606557377,
          1.6666666666666667,
          2.2535211267605635,
          0.8041958041958042,
          1.4479638009049773,
          1.1458333333333333,
          1.4114114114114116,
          0.8191126279863481,
          0.64,
          1,
          1.1764705882352942,
          3.4177215189873418,
          7.350427350427351,
          0.8,
          1.5,
          0.5882352941176471,
          1.8018018018018018,
          2.710280373831776,
          1.2,
          0.46831955922865015,
          0.5536332179930796,
          1.5697674418604652,
          0.31496062992125984,
          0.625,
          1.7241379310344829,
          1.4851485148514851,
          0.6227106227106227,
          0.6622516556291391,
          1.9471947194719472,
          0.8208955223880596,
          5.089285714285714,
          2.305084745762712,
          0.5714285714285714,
          1.6521739130434783,
          2.5590551181102366,
          1.8421052631578947,
          1.4388489208633093,
          0.8441558441558441,
          2.2448979591836737,
          1.7991631799163181,
          0.7317073170731707,
          5.541666666666667,
          3.5779816513761467,
          1.1971830985915493,
          1.4545454545454546,
          0.9049773755656108,
          0.7692307692307693,
          1.4855072463768115,
          5.051546391752578,
          1.2686567164179103,
          0.9803921568627452,
          1.446808510638298,
          1.7872340425531914,
          3.4146341463414633,
          5.696969696969697,
          1.2297734627831716,
          2.3936170212765955,
          1.5207373271889402,
          1.5765765765765767,
          0.6,
          1.6981132075471699,
          3.4146341463414633,
          1.6201117318435756,
          0.9137055837563453,
          0.975609756097561,
          4.628571428571429,
          1.3692946058091287,
          1.1299435028248588,
          0.9223300970873786,
          1.1945392491467577,
          1.0424710424710426,
          0.6741573033707865,
          0.7936507936507937,
          1.5441176470588236,
          1.5757575757575757,
          0.9803921568627451,
          5.929203539823009,
          2.5,
          1.6814159292035398,
          0.1875,
          1.9383259911894273,
          1.744186046511628,
          0.39568345323741005,
          4.472049689440993,
          2.676056338028169,
          1.1637931034482758,
          2.248062015503876,
          2.1666666666666665,
          2,
          1.8181818181818181,
          1.8357487922705316,
          2.014925373134328,
          0.8333333333333334,
          1.2807881773399015,
          0.7333333333333333,
          0.6143344709897611,
          1.0452961672473868,
          1.0964912280701753,
          0.8088235294117647,
          3.25,
          0.8227848101265822,
          1.8357487922705316,
          1.4137931034482758,
          4.392156862745098,
          1.3333333333333333,
          0.9497206703910616,
          1.5315315315315317,
          2.2222222222222223,
          0.9064327485380116,
          3.16793893129771,
          3.413654618473896,
          1.6296296296296295,
          0.4109589041095891,
          1.3025210084033614,
          1.8305084745762712,
          2.2388059701492535,
          1.2658227848101264,
          1.2121212121212122,
          2.6865671641791042,
          1.3291139240506329,
          4.325396825396825,
          1.390728476821192,
          0.6802721088435374,
          1.5822784810126582,
          1.7571884984025559,
          2.1940928270042193,
          1.4634146341463414,
          1.0407239819004523,
          1.0902255639097744,
          1.2849162011173185,
          1.7333333333333334,
          2.228915662650602,
          0.7924528301886793,
          0.9545454545454546,
          1.9631901840490797,
          2.714776632302405,
          0.6829268292682927,
          1.0364145658263304,
          5.568181818181818,
          0.4807692307692307,
          1.2328767123287672,
          1.3114754098360657,
          1.5037593984962405,
          1.9494584837545126,
          1.3761467889908257,
          4.083333333333333,
          3.7654320987654324,
          2.7304964539007095,
          3.825757575757576,
          1.5172413793103448,
          2.5570776255707766,
          1.6149068322981366,
          7.046413502109705,
          1.0434782608695652,
          2.293577981651376,
          1.1682242990654206,
          2.1739130434782608,
          3.5179153094462543,
          1.9254658385093166,
          3.7037037037037037,
          2.11864406779661,
          1.1636363636363636,
          1.4184397163120568,
          1.0360360360360361,
          3.2743362831858405,
          0.851063829787234,
          4.957264957264957,
          1.847826086956522,
          2.0588235294117645,
          1.195219123505976,
          5.423728813559322,
          1.153846153846154,
          1.0891089108910892,
          0.7053941908713692,
          2.872628726287263,
          4.227642276422764,
          0.3448275862068966,
          1.220472440944882,
          1.0135135135135134,
          0.4938271604938272,
          0.7142857142857143,
          2.3255813953488373,
          0.5405405405405406,
          0.8361204013377926,
          2.195945945945946,
          2.3270440251572326,
          2.82258064516129,
          0.5970149253731343,
          1.2080536912751678,
          1.5706806282722512,
          2.393162393162393,
          2.5992779783393503,
          5.373831775700935,
          1.4035087719298245,
          4.51063829787234,
          2,
          4.7368421052631575,
          1.0526315789473684,
          0.7751937984496123,
          1.4285714285714286,
          2.64957264957265,
          1.705685618729097,
          1.509433962264151,
          1.6071428571428572,
          0.46632124352331605,
          3.120567375886525,
          1.4285714285714284,
          1.7777777777777777,
          1.3333333333333333,
          0.4020100502512563,
          1.6535433070866143,
          1.2,
          2.2994652406417115,
          1.8604651162790697,
          0.9926470588235294,
          0.4347826086956522,
          1.3622291021671828,
          0.7084468664850135,
          1.09375,
          0.8641975308641975,
          0.7058823529411765,
          3.1451612903225805,
          1.8811881188118813,
          2.2,
          1.923076923076923,
          3.3009708737864076,
          2.2033898305084745,
          1.6796875,
          2.109375,
          2.3404255319148937,
          1.0833333333333333,
          0.6306306306306307,
          1.7647058823529411,
          0.7727272727272727,
          0.7817589576547231,
          0.4861111111111111,
          3.7974683544303796,
          7.689243027888446,
          2.763157894736842,
          2.909090909090909,
          1.8888888888888888,
          1.0169491525423728,
          6.136363636363637,
          1.8772563176895307,
          0.8457711442786069,
          0.8945686900958466,
          6.530612244897959,
          1.3592233009708736,
          0.4072398190045249,
          1.967741935483871,
          3.46875,
          6.850393700787402,
          1.5887850467289721,
          4.169381107491857,
          0.6101694915254238,
          2.361516034985423,
          0.22388059701492538,
          0.2857142857142857,
          1.6535433070866143
         ],
         "xaxis": "x",
         "y": [
          1.8590998043052835,
          3.0036968576709797,
          8.549222797927461,
          6.8965517241379315,
          14.502164502164502,
          10.612597066436583,
          2.223766504517026,
          1.4757969303423848,
          1.824212271973466,
          2.3634453781512605,
          1.16751269035533,
          8.7018544935806,
          5.128205128205129,
          5.053449951409135,
          2.626641651031895,
          11.153358681875792,
          5.5894308943089435,
          1.0258697591436217,
          11.764705882352942,
          8.71165644171779,
          4.537205081669692,
          0.60207991242474,
          3.040103492884864,
          3.541666666666667,
          5.442176870748299,
          7.197943444730077,
          4.4469783352337515,
          2.311435523114355,
          1.945754716981132,
          1.910828025477707,
          2.2797927461139897,
          6.612903225806451,
          7.1604938271604945,
          16.445182724252494,
          3.530895334174023,
          2.4329896907216493,
          5.849268841394825,
          2.532617037605526,
          0.8133755083596927,
          4.331797235023042,
          2.2091310751104567,
          1.4028056112224447,
          5.113336847654191,
          1.9867549668874172,
          1.5065913370998116,
          4.801670146137787,
          0.6369426751592356,
          3.181336161187699,
          1.1397720455908817,
          2.255639097744361,
          3.3775633293124248,
          7.45721271393643,
          2.1727609962904078,
          8.378378378378377,
          9.383378016085791,
          4.370860927152318,
          2.2180273714016043,
          4.296875,
          2.572096648480125,
          1.0559662090813093,
          11.577868852459016,
          2.7955271565495208,
          3.8059701492537314,
          2.4,
          14.396284829721361,
          5.213270142180095,
          4.730473047304731,
          1.8367346938775508,
          8.86654478976234,
          11.484098939929329,
          4.071969696969696,
          7.769423558897243,
          0.9622501850481125,
          4.21195652173913,
          2.2838499184339316,
          2.360515021459227,
          4.852686308492202,
          0.5789270551910459,
          5.826558265582656,
          4.434250764525994,
          3.8530465949820787,
          2.477477477477477,
          8.448275862068966,
          4.411764705882353,
          3.4482758620689657,
          3.6062791684344506,
          2.4096385542168672,
          1.3343799058084773,
          5.596465390279823,
          0.7692307692307692,
          5.92,
          9.443339960238568,
          0.4134366925064599,
          0.9453072248480756,
          5.6419113413932065,
          10.76388888888889,
          1.8650088809946714,
          6.051873198847262,
          5.099778270509978,
          8.354114713216958,
          2.9712163416898796,
          2.030456852791878,
          1.5238095238095237,
          4.416761041902605,
          1.6140350877192982,
          3.2967032967032965,
          0.8360128617363344,
          4.328018223234625,
          2.6612077789150463,
          5.044751830756713,
          4.295154185022026,
          2.991840435176791,
          3.1108597285067874,
          1.4285714285714286,
          8.88888888888889,
          11.355311355311356,
          11.506276150627615,
          9.635237439779766,
          6.387665198237886,
          1.3819095477386936,
          2.385321100917431,
          0.641025641025641,
          7.534246575342466,
          4.125412541254126,
          0.2827521206409048,
          2.4013722126929675,
          2.5797691785471826,
          3.3783783783783785,
          4.490690032858708,
          2.0720276270350273,
          2.262996941896024,
          5.714285714285714,
          6.746031746031746,
          6.548672566371681,
          1.056803170409511,
          0.6696428571428571,
          0.7717750826901874,
          5.742296918767507,
          9.580193756727665,
          3.571428571428571,
          1.6642192853646598,
          0.9032258064516129,
          2.0676691729323307,
          2.360655737704918,
          3.1708471367723616,
          1.8867924528301887,
          4.906542056074766,
          1.5142337976983644,
          0.5509641873278237,
          4.216867469879518,
          2.557544757033248,
          2.345415778251599,
          2.660663119115841,
          2.2202486678507993,
          0.7453416149068323,
          9.984756097560977,
          2.5465838509316767,
          1.3034410844629822,
          1.0101010101010102,
          1.5027322404371584,
          1.8041237113402062,
          3.382533825338253,
          3.0470914127423825,
          1.8458197611292073,
          5.107084019769357,
          8.113035551504101,
          9.339887640449438,
          1.1904761904761905,
          2.5374105400130125,
          0.9216589861751152,
          7.183908045977011,
          2.723146747352496,
          1.6628873771730914,
          6.037151702786378,
          11.327433628318584,
          1.8443804034582132,
          0.2534854245880862,
          4.828090709583028,
          3.8533834586466162,
          1.0315186246418337,
          2.2319795096963047,
          3.5348837209302326,
          3.5752979414951245,
          4.716981132075471,
          5.848513902205178,
          1.0923535253227408,
          4.136947218259629,
          3.1604538087520258,
          1.1074197120708749,
          2.1349862258953167,
          6.794682422451994,
          1.2987012987012987,
          2.0372526193247964,
          2.581755593803787,
          2.1052631578947367,
          1.3711151736745888,
          2.4236037934668073,
          1.4511041009463723,
          6.209150326797386,
          4.830917874396135,
          7.176287051482059,
          9.967845659163988,
          2.1963824289405682,
          4.122137404580153,
          10.206896551724139,
          9.267241379310345,
          7.471575527883054,
          10.521042084168336,
          1.777059773828756,
          6.88622754491018,
          2.623906705539359,
          3.0555555555555554,
          9.59079283887468,
          4.232804232804233,
          7.267144319344934,
          3.169398907103825,
          1.3043478260869565,
          0.574052812858783,
          1.7569546120058566,
          2.7237354085603114,
          6.902356902356902,
          16.6351606805293,
          4.269293924466338,
          6.4156206415620645,
          2.073940486925158,
          2.5104602510460254,
          1.2367491166077738,
          5.9296482412060305,
          1.237964236588721,
          2.966101694915254,
          2.7334851936218683,
          2.753623188405797,
          7.867494824016563,
          1.3333333333333333,
          4.754716981132075,
          0.44319097502014504,
          1.161751563896336,
          7.45945945945946,
          2.870264064293915,
          4.707792207792208,
          1.8946121965660154,
          1.941747572815534,
          1.384083044982699,
          0.30120481927710846,
          7.060185185185185,
          1.8459069020866772,
          13.398294762484774,
          7.389162561576355,
          3.2955715756951593,
          5.19159456118665,
          4.054054054054054,
          8.1419624217119,
          3.4351145038167936,
          7.116788321167883,
          1.6170212765957446,
          2.2491349480968856,
          10.448916408668731,
          9.584664536741215,
          4.277643260694108,
          11.398963730569948,
          2.1042563366810136,
          2.531645569620253,
          6,
          1.5917602996254683,
          1.3105639396346307,
          0.8315098468271335,
          5.876180482686254,
          3.891336270190896,
          1.5003261578604044,
          2.328358208955224,
          4.332129963898917,
          1.929530201342282,
          3.4078807241746536,
          4.274611398963731,
          1.9991492981709909,
          2.8469750889679717,
          1.28,
          1.7167381974248928,
          1.4699524427150887,
          4.633867276887872,
          12.912912912912912,
          1.5794669299111548,
          2.8550512445095166,
          1.0318949343339587,
          2.8901734104046244,
          5.301645338208409,
          2.5298664792691494,
          1.2318840579710144,
          1.2048192771084338,
          3.0303030303030303,
          0.6611570247933884,
          1.2263099219620959,
          3.6630036630036633,
          2.7247956403269757,
          1.1221122112211221,
          1.9880715705765406,
          3.113456464379947,
          1.0009099181073704,
          9.18614020950846,
          5.782312925170068,
          1.0683760683760684,
          2.402022756005057,
          8.96551724137931,
          2.275189599133261,
          1.8181818181818181,
          1.3993541442411197,
          6.203007518796992,
          5.548387096774194,
          1.1385199240986716,
          10.522151898734176,
          7.464114832535886,
          2.915951972555746,
          3.0573248407643314,
          1.2091898428053205,
          1.1703511053315994,
          2.3308698123934053,
          14.648729446935723,
          2.522255192878338,
          2.557544757033248,
          2.2911051212938007,
          3.652173913043478,
          6.95364238410596,
          11.032863849765258,
          1.917255297679112,
          2.4834437086092715,
          5.769230769230769,
          5.200594353640415,
          1.015228426395939,
          5.844155844155844,
          6.5985860172820106,
          3.005181347150259,
          2.674591381872214,
          1.8927444794952681,
          10.424710424710426,
          3.947368421052632,
          4.329004329004329,
          1.5833333333333333,
          2.2435897435897436,
          2.833158447009444,
          1.556420233463035,
          1.8315018315018314,
          3.0172413793103448,
          4.850746268656716,
          1.5957446808510638,
          17.724867724867725,
          8.086253369272237,
          3.1772575250836117,
          0.2808988764044944,
          5.662805662805663,
          5.4945054945054945,
          0.5958829902491874,
          8.430913348946136,
          9.5,
          2.09140201394268,
          4.957264957264957,
          7.558139534883721,
          4.006163328197227,
          7.285974499089253,
          3.515263644773358,
          2.815432742440042,
          1.1789924973204715,
          1.17011701170117,
          1.25,
          0.7718696397941681,
          1.4844136566056407,
          1.8518518518518519,
          1.0166358595194085,
          7.85024154589372,
          2.7659574468085104,
          3.4862385321100917,
          2.704485488126649,
          9.955555555555556,
          1.6085790884718498,
          1.3826758845058966,
          5.182926829268293,
          7.112970711297071,
          3.301384451544196,
          5.354838709677419,
          5.778382053025153,
          5.188679245283018,
          0.9523809523809524,
          2.5641025641025643,
          3.540983606557377,
          4.366812227074235,
          1.5987210231814548,
          2.5188916876574305,
          5.993340732519423,
          3.5472972972972974,
          10.64453125,
          4.615384615384616,
          1.1325028312570782,
          3.7257824143070044,
          2.7200791295746787,
          3.776325344952796,
          5.255474452554745,
          2.4572649572649574,
          1.912928759894459,
          1.7358490566037736,
          3.0409356725146197,
          5.674846625766872,
          1.2537313432835822,
          1.496792587312901,
          1.6048144433299898,
          6.003039513677812,
          1.1119936457505957,
          1.1087803416242135,
          10.872781065088757,
          0.5422993492407808,
          1.5557476231633534,
          3.3264033264033266,
          2.026342451874367,
          3.4220532319391634,
          2.2988505747126435,
          13.498622589531681,
          6.25,
          5.665930831493745,
          7.866043613707165,
          2.447163515016685,
          5.293005671077505,
          3.5616438356164384,
          11.94563662374821,
          2.1660649819494586,
          4.574565416285453,
          1.7313019390581719,
          6.302521008403362,
          4.730617608409987,
          4.732824427480916,
          6.443298969072165,
          7.142857142857143,
          1.5533980582524272,
          2.0855057351407718,
          2.4364406779661016,
          6.045751633986928,
          3.5190615835777126,
          11.428571428571429,
          4.1820418204182035,
          6.628787878787879,
          1.9011406844106464,
          8.805723720418271,
          2.2058823529411766,
          2.6731470230862695,
          1.0925449871465296,
          9.915809167446211,
          9.236234458259325,
          0.8208955223880596,
          2.1815622800844476,
          2.172338884866039,
          0.9523809523809523,
          0.954653937947494,
          3.492433061699651,
          1.0719754977029097,
          0.8698677800974253,
          2.726510067114094,
          7.422266800401204,
          6.23885918003565,
          1.0269576379974326,
          2.9173419773095626,
          2.898550724637681,
          3.1076581576026636,
          9.03387703889586,
          13.641755634638198,
          1.9680196801968017,
          8.507223113964686,
          2.6689381033503694,
          11.627906976744185,
          1.70316301703163,
          2.127659574468085,
          2.9850746268656714,
          4.438081603435934,
          5.274043433298862,
          4.9079754601226995,
          3.4351145038167936,
          0.6202618883528601,
          10.022779043280183,
          3.7096774193548385,
          4.11663807890223,
          2.3076923076923075,
          0.8113590263691685,
          2.792553191489362,
          2.7202072538860103,
          4.886363636363636,
          2.504696305572949,
          5.212355212355213,
          0.8212255211623499,
          1.7973856209150327,
          1.0625255414793626,
          1.5401540154015403,
          1.3852242744063323,
          1.1594202898550725,
          7.8156312625250495,
          3.0206677265500796,
          3.8194444444444446,
          6.666666666666667,
          9.289617486338797,
          2.4832855778414515,
          5.162064825930372,
          3.6096256684491976,
          9.147609147609149,
          2.1393307734503564,
          1.0920436817472698,
          6.576200417536534,
          2.151898734177215,
          1.3475575519371141,
          0.9433962264150944,
          8.362369337979095,
          16.04322527015794,
          4.726181545386346,
          10.526315789473685,
          4.1062801932367154,
          3.2608695652173916,
          7.19360568383659,
          6.924101198402131,
          2.7070063694267517,
          0.7869589657110737,
          10.847457627118644,
          4.444444444444445,
          0.800711743772242,
          2.841173730787145,
          9.113300492610838,
          12.545061283345351,
          2.4355300859598854,
          9.315866084425036,
          1.003904071388734,
          3.4823731728288907,
          0.7125890736342043,
          1.0498687664041995,
          4.166666666666667
         ],
         "yaxis": "y"
        },
        {
         "hovertemplate": "<b>OLS trendline</b><br>Take_Ons_Per_100_Touches = 2.09361 * Take_Ons_Per_90 + 0.157943<br>R<sup>2</sup>=0.791495<br><br>Take_Ons_Per_90=%{x}<br>Take_Ons_Per_100_Touches=%{y} <b>(trend)</b><extra></extra>",
         "legendgroup": "",
         "marker": {
          "color": "#636efa",
          "symbol": "circle"
         },
         "mode": "lines",
         "name": "",
         "showlegend": false,
         "type": "scatter",
         "x": [
          0.136986301369863,
          0.1875,
          0.22058823529411764,
          0.22388059701492538,
          0.2777777777777778,
          0.2857142857142857,
          0.31496062992125984,
          0.31746031746031744,
          0.3389830508474576,
          0.3448275862068966,
          0.3703703703703704,
          0.39568345323741005,
          0.39568345323741005,
          0.39711191335740076,
          0.4020100502512563,
          0.40609137055837563,
          0.4072398190045249,
          0.4109589041095891,
          0.4109589041095891,
          0.4182509505703422,
          0.4347826086956522,
          0.46632124352331605,
          0.46831955922865015,
          0.4724409448818898,
          0.4807692307692307,
          0.4861111111111111,
          0.4878048780487805,
          0.4895104895104895,
          0.4901960784313726,
          0.4938271604938272,
          0.49751243781094523,
          0.5,
          0.52,
          0.5281690140845071,
          0.5298013245033113,
          0.5369127516778524,
          0.5405405405405406,
          0.5479452054794521,
          0.5494505494505495,
          0.5536332179930796,
          0.558659217877095,
          0.5676855895196506,
          0.5688622754491018,
          0.5714285714285714,
          0.5714285714285714,
          0.576923076923077,
          0.5882352941176471,
          0.5970149253731343,
          0.6,
          0.6060606060606061,
          0.6101694915254238,
          0.6143344709897611,
          0.6227106227106227,
          0.625,
          0.6306306306306307,
          0.64,
          0.6470588235294118,
          0.6609195402298851,
          0.6622516556291391,
          0.6716417910447761,
          0.6741573033707865,
          0.676056338028169,
          0.6802721088435374,
          0.6829268292682927,
          0.694980694980695,
          0.7053941908713692,
          0.7058823529411765,
          0.7084468664850135,
          0.7092198581560284,
          0.7142857142857143,
          0.7142857142857143,
          0.7142857142857143,
          0.7163323782234957,
          0.728476821192053,
          0.7317073170731707,
          0.7333333333333333,
          0.7486631016042781,
          0.7514450867052023,
          0.7540983606557377,
          0.7692307692307693,
          0.7727272727272727,
          0.7751937984496123,
          0.7817589576547231,
          0.787037037037037,
          0.7894736842105263,
          0.7920792079207921,
          0.7924528301886793,
          0.7936507936507937,
          0.7975460122699386,
          0.8,
          0.8,
          0.8041958041958042,
          0.8041958041958042,
          0.8088235294117647,
          0.8130081300813008,
          0.8191126279863481,
          0.8208955223880596,
          0.8227848101265822,
          0.8252427184466019,
          0.8333333333333334,
          0.8361204013377926,
          0.8365019011406843,
          0.8376963350785339,
          0.8441558441558441,
          0.8457711442786069,
          0.851063829787234,
          0.8527131782945736,
          0.8571428571428571,
          0.8641975308641975,
          0.8675799086757991,
          0.8710801393728224,
          0.8771929824561403,
          0.8888888888888888,
          0.8945686900958466,
          0.8984375,
          0.9041095890410958,
          0.9047619047619048,
          0.9049773755656108,
          0.9060402684563759,
          0.9064327485380116,
          0.9090909090909091,
          0.9137055837563453,
          0.9223300970873786,
          0.9271523178807948,
          0.9278350515463917,
          0.9333333333333333,
          0.9401709401709403,
          0.9489051094890512,
          0.9497206703910616,
          0.9545454545454546,
          0.9625668449197862,
          0.9638554216867471,
          0.9745762711864406,
          0.975609756097561,
          0.9803921568627451,
          0.9803921568627452,
          0.9815950920245399,
          0.9913793103448276,
          0.9926470588235294,
          0.99601593625498,
          1,
          1,
          1.0080645161290323,
          1.0135135135135134,
          1.0169491525423728,
          1.0273972602739727,
          1.0360360360360361,
          1.0364145658263304,
          1.0407239819004523,
          1.0424710424710426,
          1.0434782608695652,
          1.0452961672473868,
          1.0526315789473684,
          1.0526315789473684,
          1.0563380281690142,
          1.0833333333333333,
          1.0891089108910892,
          1.0902255639097744,
          1.09375,
          1.0964912280701753,
          1.0975609756097562,
          1.124260355029586,
          1.1295681063122922,
          1.1299435028248588,
          1.135135135135135,
          1.1379310344827587,
          1.1419753086419753,
          1.1439114391143912,
          1.1458333333333333,
          1.153846153846154,
          1.1612903225806452,
          1.1627906976744187,
          1.1636363636363636,
          1.1637931034482758,
          1.1682242990654206,
          1.1683848797250858,
          1.1702127659574468,
          1.1764705882352942,
          1.1805555555555556,
          1.1945392491467577,
          1.1949685534591195,
          1.195219123505976,
          1.1961722488038278,
          1.1971830985915493,
          1.2,
          1.2,
          1.2080536912751678,
          1.2121212121212122,
          1.220472440944882,
          1.2222222222222223,
          1.2237762237762237,
          1.2275449101796407,
          1.2275449101796407,
          1.2297734627831716,
          1.2328767123287672,
          1.2386706948640482,
          1.2658227848101264,
          1.2666666666666666,
          1.2686567164179103,
          1.2707182320441988,
          1.2745098039215688,
          1.2751677852348993,
          1.2807881773399015,
          1.2849162011173185,
          1.2937062937062938,
          1.3025210084033614,
          1.306532663316583,
          1.3114754098360657,
          1.316614420062696,
          1.3186813186813187,
          1.324786324786325,
          1.3291139240506329,
          1.3333333333333333,
          1.3333333333333333,
          1.3356164383561644,
          1.3372093023255816,
          1.3414634146341462,
          1.3513513513513513,
          1.3592233009708736,
          1.3620071684587813,
          1.3622291021671828,
          1.3692946058091287,
          1.3725490196078431,
          1.3761467889908257,
          1.3793103448275863,
          1.390728476821192,
          1.3919413919413919,
          1.393939393939394,
          1.4028776978417266,
          1.4035087719298245,
          1.4114114114114116,
          1.4137931034482758,
          1.4184397163120568,
          1.4224137931034484,
          1.4285714285714284,
          1.4285714285714286,
          1.4285714285714286,
          1.4388489208633093,
          1.446808510638298,
          1.4479638009049773,
          1.4545454545454546,
          1.4592274678111588,
          1.4634146341463414,
          1.4673913043478262,
          1.4718614718614718,
          1.4746543778801844,
          1.4851485148514851,
          1.4855072463768115,
          1.4965986394557824,
          1.5,
          1.5037593984962405,
          1.509433962264151,
          1.5172413793103448,
          1.5207373271889402,
          1.5231788079470199,
          1.5315315315315317,
          1.5441176470588236,
          1.5483870967741935,
          1.5555555555555556,
          1.5584415584415583,
          1.5614617940199336,
          1.5677966101694913,
          1.5697674418604652,
          1.5706806282722512,
          1.5714285714285714,
          1.5753424657534247,
          1.5757575757575757,
          1.5765765765765767,
          1.5822784810126582,
          1.5833333333333333,
          1.5887850467289721,
          1.590909090909091,
          1.5929203539823007,
          1.6071428571428572,
          1.6149068322981366,
          1.6201117318435756,
          1.6296296296296295,
          1.6304347826086958,
          1.6470588235294117,
          1.6521739130434783,
          1.6535433070866143,
          1.6535433070866143,
          1.6666666666666665,
          1.6666666666666667,
          1.6734693877551021,
          1.6796875,
          1.6814159292035398,
          1.6901408450704227,
          1.6956521739130435,
          1.6981132075471699,
          1.6993464052287581,
          1.705685618729097,
          1.7073170731707317,
          1.7123287671232876,
          1.7241379310344829,
          1.7333333333333334,
          1.7391304347826089,
          1.744186046511628,
          1.746031746031746,
          1.7509727626459144,
          1.7571884984025559,
          1.76,
          1.7610062893081762,
          1.7610062893081762,
          1.7647058823529411,
          1.7647058823529411,
          1.7777777777777777,
          1.784232365145228,
          1.7872340425531914,
          1.7898832684824904,
          1.7956656346749227,
          1.7959183673469388,
          1.7959183673469388,
          1.7991631799163181,
          1.8018018018018018,
          1.8181818181818181,
          1.8305084745762712,
          1.831831831831832,
          1.8357487922705316,
          1.8357487922705316,
          1.8421052631578947,
          1.847826086956522,
          1.8604651162790697,
          1.8604651162790697,
          1.8670886075949367,
          1.8678160919540232,
          1.870748299319728,
          1.873015873015873,
          1.8750000000000002,
          1.8772563176895307,
          1.8811881188118813,
          1.8888888888888888,
          1.9047619047619047,
          1.9130434782608696,
          1.9196428571428572,
          1.921182266009852,
          1.923076923076923,
          1.9254658385093166,
          1.9327731092436975,
          1.9383259911894273,
          1.9471947194719472,
          1.9494584837545126,
          1.9631901840490797,
          1.967741935483871,
          1.974921630094044,
          1.9811320754716981,
          2,
          2,
          2,
          2,
          2.014925373134328,
          2.015810276679842,
          2.0320855614973263,
          2.0434782608695654,
          2.044025157232704,
          2.0512820512820515,
          2.0588235294117645,
          2.109375,
          2.11864406779661,
          2.129032258064516,
          2.1666666666666665,
          2.167832167832168,
          2.1739130434782608,
          2.1782178217821784,
          2.1808510638297873,
          2.1940928270042193,
          2.195945945945946,
          2.2,
          2.2033898305084745,
          2.2222222222222223,
          2.228915662650602,
          2.2302158273381294,
          2.230769230769231,
          2.2333333333333334,
          2.2388059701492535,
          2.241379310344828,
          2.2426470588235294,
          2.2448979591836737,
          2.248062015503876,
          2.2535211267605635,
          2.2549019607843137,
          2.26890756302521,
          2.2764227642276422,
          2.293577981651376,
          2.2994652406417115,
          2.301587301587302,
          2.305084745762712,
          2.3106060606060606,
          2.3107569721115535,
          2.3255813953488373,
          2.3270440251572326,
          2.3404255319148937,
          2.34375,
          2.34375,
          2.3493975903614457,
          2.361516034985423,
          2.380952380952381,
          2.380952380952381,
          2.393162393162393,
          2.3936170212765955,
          2.396694214876033,
          2.4022346368715084,
          2.4186046511627906,
          2.4264705882352944,
          2.4347826086956523,
          2.4598930481283423,
          2.47787610619469,
          2.47787610619469,
          2.5,
          2.5142857142857142,
          2.5297619047619047,
          2.5324675324675323,
          2.5570776255707766,
          2.5590551181102366,
          2.5833333333333335,
          2.5992779783393503,
          2.6271186440677963,
          2.631578947368421,
          2.6486486486486487,
          2.64957264957265,
          2.663316582914573,
          2.676056338028169,
          2.6865671641791042,
          2.6956521739130435,
          2.710280373831776,
          2.714776632302405,
          2.7167630057803467,
          2.7304964539007095,
          2.7450980392156863,
          2.763157894736842,
          2.7777777777777777,
          2.805755395683453,
          2.822085889570552,
          2.82258064516129,
          2.844827586206897,
          2.872628726287263,
          2.8955223880597014,
          2.896551724137931,
          2.909090909090909,
          2.948207171314741,
          2.9927007299270074,
          3.015873015873016,
          3.03405572755418,
          3.060344827586207,
          3.1176470588235294,
          3.120567375886525,
          3.1451612903225805,
          3.16793893129771,
          3.2283464566929134,
          3.24468085106383,
          3.25,
          3.2743362831858405,
          3.2978723404255317,
          3.3009708737864076,
          3.30188679245283,
          3.3333333333333335,
          3.3762057877813505,
          3.413654618473896,
          3.4146341463414633,
          3.4146341463414633,
          3.4177215189873418,
          3.446327683615819,
          3.46875,
          3.5179153094462543,
          3.5227272727272725,
          3.5738831615120272,
          3.5779816513761467,
          3.6134453781512605,
          3.6363636363636367,
          3.699421965317919,
          3.7037037037037037,
          3.7654320987654324,
          3.767123287671233,
          3.77431906614786,
          3.7974683544303796,
          3.825757575757576,
          3.89344262295082,
          3.9726027397260273,
          3.9884393063583814,
          4,
          4.055299539170507,
          4.083333333333333,
          4.1433021806853585,
          4.169381107491857,
          4.178403755868544,
          4.179566563467493,
          4.227642276422764,
          4.240506329113924,
          4.325396825396825,
          4.392156862745098,
          4.472049689440993,
          4.51063829787234,
          4.573170731707317,
          4.5964912280701755,
          4.609929078014185,
          4.628571428571429,
          4.7368421052631575,
          4.741379310344827,
          4.794520547945206,
          4.829931972789116,
          4.957264957264957,
          4.9797570850202435,
          5.051546391752578,
          5.089285714285714,
          5.09009009009009,
          5.204678362573099,
          5.348837209302325,
          5.373831775700935,
          5.403225806451613,
          5.406976744186046,
          5.423728813559322,
          5.486725663716814,
          5.519713261648746,
          5.541666666666667,
          5.568181818181818,
          5.696969696969697,
          5.776173285198556,
          5.929203539823009,
          6.136363636363637,
          6.530612244897959,
          6.6,
          6.850393700787402,
          7.046413502109705,
          7.236842105263158,
          7.350427350427351,
          7.689243027888446,
          8.502415458937199
         ],
         "xaxis": "x",
         "y": [
          0.44473970929564066,
          0.5504958923109996,
          0.6197698825812795,
          0.6266628169365314,
          0.7395027052706523,
          0.7561186888275448,
          0.8173492424072749,
          0.8225826230551151,
          0.8676429174466881,
          0.8798791180788825,
          0.9333558467677322,
          0.9863516696230488,
          0.9863516696230488,
          0.9893423136260945,
          0.9995971212491463,
          1.008141830289448,
          1.0105462379520895,
          1.0183325663280958,
          1.0183325663280958,
          1.0335992963631802,
          1.0682102060700485,
          1.1342399312206644,
          1.1384236328142296,
          1.147052223221206,
          1.1644884385527117,
          1.1756722736390817,
          1.1792183676908576,
          1.1827892596031353,
          1.184224618116894,
          1.1918267020971718,
          1.1995422500174535,
          1.2047502448636438,
          1.246622523427013,
          1.2637252850937413,
          1.2671427129216444,
          1.282031295903419,
          1.2896264851947976,
          1.3051289948443234,
          1.3082806039488974,
          1.3170374970664505,
          1.3275600004265984,
          1.3464577378182776,
          1.3489212638692565,
          1.3542940968756765,
          1.3542940968756765,
          1.3657974701073716,
          1.3894808855843903,
          1.4078620438650615,
          1.4141116376804899,
          1.4268002069421168,
          1.4354026267805082,
          1.4441224857975805,
          1.4616589137048286,
          1.4664519858847014,
          1.4782403525973618,
          1.4978561948072282,
          1.512634646064888,
          1.541653635603396,
          1.544442570957202,
          1.5641018892507674,
          1.5693684008929825,
          1.573344246301753,
          1.5821704427987744,
          1.5877284024554355,
          1.6129645435991933,
          1.6347663836368338,
          1.6357884065453858,
          1.6411575078197396,
          1.6427758539485346,
          1.6533818008997425,
          1.6533818008997425,
          1.6533818008997425,
          1.6576667250261619,
          1.683092499974981,
          1.6898559111465798,
          1.6932601614362845,
          1.7253547778039295,
          1.7311791805591816,
          1.736734111857269,
          1.768415533216691,
          1.7757358616368604,
          1.7808998142433363,
          1.7946447229957998,
          1.8056949835045908,
          1.8107963819650403,
          1.816251342695026,
          1.8170335634789485,
          1.819541636468668,
          1.827696720422971,
          1.8328344233141822,
          1.8328344233141822,
          1.8416188174183854,
          1.8416188174183854,
          1.8513074873862567,
          1.8600684256318205,
          1.8728488874703026,
          1.8765815800221797,
          1.8805370191458683,
          1.8856829302388227,
          1.9026215542531308,
          1.9084565986460194,
          1.909255311946947,
          1.911755995475506,
          1.9252797136488933,
          1.9286615284840816,
          1.9397423685823587,
          1.9431954675897287,
          1.9524695049238083,
          1.9672392680854907,
          1.9743206613821878,
          1.9816487931212783,
          1.9944467265412211,
          2.0189334391513785,
          2.0308247500674934,
          2.038924544368265,
          2.050799708986515,
          2.0521654062651637,
          2.052616518940916,
          2.054841806301173,
          2.0556635080666146,
          2.0612286700234685,
          2.070890017176992,
          2.0889464184105178,
          2.099042287028318,
          2.100471667739841,
          2.111982947069977,
          2.126298255980531,
          2.1445842345159094,
          2.1462917041796277,
          2.156392939485672,
          2.173186634096649,
          2.175884416363472,
          2.1983297361978287,
          2.200493454602302,
          2.210505955454375,
          2.210505955454375,
          2.213024437263792,
          2.2335088130153875,
          2.2361629888878123,
          2.243216117600589,
          2.251557208947874,
          2.251557208947874,
          2.2684411922395555,
          2.2798492890582587,
          2.287042190781238,
          2.30891649465112,
          2.3270027559089,
          2.327795251150087,
          2.3368175046651416,
          2.3404751750090833,
          2.342583901476938,
          2.3463898955896516,
          2.3617474156935825,
          2.3617474156935825,
          2.3695072894080695,
          2.426025036295246,
          2.438116865913381,
          2.4404547062262316,
          2.4478335147136674,
          2.453572587981673,
          2.4558122263301634,
          2.5117104189569734,
          2.5228228009697014,
          2.5236087363369966,
          2.5344780100517204,
          2.540331543867662,
          2.54879869257673,
          2.552852202300531,
          2.5568759068057747,
          2.5736516594353303,
          2.589236874781497,
          2.5923780809752985,
          2.594148579011804,
          2.594476731665122,
          2.6037539445276154,
          2.604090138433285,
          2.6079170265084635,
          2.6210184903893676,
          2.62957083486718,
          2.6588472905369605,
          2.659746088024744,
          2.6602706849648246,
          2.662266161363697,
          2.6643824905585567,
          2.6702799945815663,
          2.6702799945815663,
          2.687141314808427,
          2.6956571331048207,
          2.7131413820873775,
          2.716804748540866,
          2.720058227838719,
          2.7279484021838116,
          2.7279484021838116,
          2.73261413095422,
          2.739111137425461,
          2.7512414999608903,
          2.808087493650883,
          2.809854256459464,
          2.8140206523364157,
          2.8183366701647503,
          2.826274757856864,
          2.827652316698927,
          2.839419247891728,
          2.848061735967939,
          2.866464796242108,
          2.8849194057047196,
          2.893318262306046,
          2.903666465262641,
          2.914425568650114,
          2.918752856386175,
          2.9315343821991697,
          2.9405947042944565,
          2.949428518337361,
          2.949428518337361,
          2.954208458812632,
          2.9575433010046814,
          2.966449769785885,
          2.987151291817874,
          3.003632115183146,
          3.0094604589300054,
          3.0099251024330447,
          3.0247175392673475,
          3.0315310253243597,
          3.03906336541491,
          3.0456866299772907,
          3.06959179015277,
          3.072131166142106,
          3.076314210953632,
          3.0950275684977577,
          3.0963487939983056,
          3.1128938700862507,
          3.1178802137072372,
          3.127608427117656,
          3.1359286096397243,
          3.1488203210200716,
          3.148820321020072,
          3.148820321020072,
          3.1703374220289975,
          3.187001730044421,
          3.1894204618378184,
          3.203199903569902,
          3.21300223175485,
          3.2217685415137463,
          3.2300941536353074,
          3.2394529586031218,
          3.2453002255439642,
          3.267270896871187,
          3.2680219421890837,
          3.2912430372220083,
          3.298364173032105,
          3.3062349020853694,
          3.3181152478261473,
          3.334460964897078,
          3.3417801300678565,
          3.3468916481883273,
          3.3643790266230025,
          3.3907294933924783,
          3.3996680727821915,
          3.4146760579303526,
          3.4207182337692226,
          3.427041441042459,
          3.4403041003655597,
          3.444430261043858,
          3.4463421208345872,
          3.447908025044138,
          3.4561022087160302,
          3.4569712888024426,
          3.4586859603242845,
          3.4706235468687505,
          3.4728320003794764,
          3.4842457834769687,
          3.4886927119565105,
          3.492903520339793,
          3.5226799510501543,
          3.538934717573201,
          3.54983176775625,
          3.569758571128016,
          3.5714442506192956,
          3.6062485742333488,
          3.616957596883827,
          3.619824579325688,
          3.619824579325688,
          3.6472998277268482,
          3.6472998277268487,
          3.661542099347042,
          3.6745604257498754,
          3.678179089204259,
          3.6964456945852633,
          3.7079842894128907,
          3.713136743706989,
          3.715718583549347,
          3.72899044922729,
          3.7324060849694685,
          3.7428986372322575,
          3.76762246727676,
          3.786874089604746,
          3.7990109819419544,
          3.8095954810732406,
          3.813459663295774,
          3.8238042444985085,
          3.8368175954524277,
          3.842703794355905,
          3.8448105756672692,
          3.8448105756672692,
          3.8525560951943443,
          3.8525560951943443,
          3.879923597523344,
          3.893437011536418,
          3.8997213651655986,
          3.9052678214700443,
          3.917373863868291,
          3.917902988510527,
          3.917902988510527,
          3.9246963733000757,
          3.9302206288306945,
          3.964514059267524,
          3.990321318782698,
          3.993091917964883,
          4.001292520895429,
          4.001292520895429,
          4.01460051687921,
          4.026577713264613,
          4.053038961092829,
          4.053038961092829,
          4.066905994764831,
          4.068429066151539,
          4.0745679763326565,
          4.079315400206054,
          4.083469396095278,
          4.088193254236452,
          4.096424927828994,
          4.11254736731984,
          4.145779334433625,
          4.163117752058208,
          4.176934303602798,
          4.180157231447885,
          4.184123911872607,
          4.189125378495083,
          4.204423982281481,
          4.216049573264536,
          4.234617266321961,
          4.23935671475403,
          4.268105593748171,
          4.277635203949611,
          4.292666712585465,
          4.305668987528251,
          4.345171137116336,
          4.345171137116336,
          4.345171137116336,
          4.345171137116336,
          4.3764191061934765,
          4.378271752581449,
          4.412345915560244,
          4.436197829645399,
          4.437342819488531,
          4.452535953945488,
          4.468324897596832,
          4.574160160509761,
          4.593566009949881,
          4.615314869783234,
          4.694106791811079,
          4.696546901284469,
          4.70927790723259,
          4.7182904510473485,
          4.723803443274462,
          4.7515265830899605,
          4.755406298716912,
          4.763893922750028,
          4.7709909191167,
          4.810418676709327,
          4.824432156817549,
          4.827154199716269,
          4.828312812847519,
          4.833681053688976,
          4.845138642350594,
          4.850526223225964,
          4.853180399098388,
          4.857892915443306,
          4.864517227824791,
          4.875946499187213,
          4.878837432531825,
          4.9081597564557535,
          4.923893686366154,
          4.959810088505241,
          4.972135735926143,
          4.976578512278253,
          4.983900810116883,
          4.995460311774721,
          4.995776262204542,
          5.026812881171184,
          5.029875063309794,
          5.0578907722375135,
          5.064850924924244,
          5.064850924924244,
          5.0766747987655565,
          5.102046143218054,
          5.142738347847177,
          5.142738347847177,
          5.168301399473166,
          5.169253215225197,
          5.17569567060465,
          5.187295175262308,
          5.2215676651868534,
          5.238035900599945,
          5.255438062406971,
          5.3080096281456814,
          5.34565920898445,
          5.34565920898445,
          5.391978101200566,
          5.421886871602973,
          5.454288039538913,
          5.459952579387854,
          5.511476613082328,
          5.5156167190057905,
          5.566445928547938,
          5.599827859412237,
          5.658115464950793,
          5.667453618064837,
          5.703190982414797,
          5.705125483618926,
          5.733899973891395,
          5.760572102638675,
          5.78257771466483,
          5.801598217581351,
          5.832224020675243,
          5.841637450033998,
          5.84579614921396,
          5.874548687480531,
          5.905118769869307,
          5.942929134929108,
          5.973537525691805,
          6.032111856216102,
          6.0663016056720025,
          6.067337432867811,
          6.113913938500036,
          6.172118792591253,
          6.220049281744808,
          6.222204314094956,
          6.248456526360391,
          6.330350877770096,
          6.423503211794516,
          6.472017032398582,
          6.510084610826138,
          6.565123836812203,
          6.685092586245792,
          6.691206602723548,
          6.742696764535057,
          6.790384350931409,
          6.916854387464997,
          6.951052303028144,
          6.962188547326912,
          7.013139328764639,
          7.062414746015827,
          7.068901878617051,
          7.070819458694143,
          7.136656374674284,
          7.2264147424414205,
          7.304818135972956,
          7.306868889159524,
          7.306868889159524,
          7.313332655532381,
          7.373222920230042,
          7.420166594113763,
          7.523099770753153,
          7.533174164100128,
          7.640274845367728,
          7.648855500831705,
          7.723102853152844,
          7.7710848377556365,
          7.90310463354135,
          7.912068940662603,
          8.041304368327323,
          8.044845064975672,
          8.059910247018353,
          8.108375919393822,
          8.16760262718148,
          8.309308984713997,
          8.475039707750012,
          8.508195364225877,
          8.532398993453258,
          8.648174878881928,
          8.706866820800629,
          8.832418434873038,
          8.887017639266809,
          8.905907581577207,
          8.908342051762146,
          9.008994034011932,
          9.035926393898835,
          9.213654319285851,
          9.353424063323244,
          9.520688798054518,
          9.601478446135024,
          9.732397220574205,
          9.781221336571287,
          9.809355006378702,
          9.848384891159148,
          10.075061887893176,
          10.084561043647117,
          10.195818278847378,
          10.26995613111688,
          10.536542240930759,
          10.583632072873371,
          10.733931165341744,
          10.81294273663676,
          10.814626789024283,
          11.054530392299473,
          11.356343361680484,
          11.408672334021144,
          11.470212086205777,
          11.478065101690278,
          11.513137467455811,
          11.64502855037628,
          11.714091844863393,
          11.760053799379635,
          11.815566289899254,
          12.085198386708829,
          12.251020122185688,
          12.571406394698608,
          13.005119658176788,
          13.830524036165283,
          13.975795206691256,
          14.500022946185407,
          14.910412732430597,
          15.30909670831433,
          15.546900359624514,
          16.256249581038894,
          17.958718708685172
         ],
         "yaxis": "y"
        }
       ],
       "layout": {
        "legend": {
         "tracegroupgap": 0
        },
        "margin": {
         "t": 60
        },
        "template": {
         "data": {
          "bar": [
           {
            "error_x": {
             "color": "#2a3f5f"
            },
            "error_y": {
             "color": "#2a3f5f"
            },
            "marker": {
             "line": {
              "color": "#E5ECF6",
              "width": 0.5
             },
             "pattern": {
              "fillmode": "overlay",
              "size": 10,
              "solidity": 0.2
             }
            },
            "type": "bar"
           }
          ],
          "barpolar": [
           {
            "marker": {
             "line": {
              "color": "#E5ECF6",
              "width": 0.5
             },
             "pattern": {
              "fillmode": "overlay",
              "size": 10,
              "solidity": 0.2
             }
            },
            "type": "barpolar"
           }
          ],
          "carpet": [
           {
            "aaxis": {
             "endlinecolor": "#2a3f5f",
             "gridcolor": "white",
             "linecolor": "white",
             "minorgridcolor": "white",
             "startlinecolor": "#2a3f5f"
            },
            "baxis": {
             "endlinecolor": "#2a3f5f",
             "gridcolor": "white",
             "linecolor": "white",
             "minorgridcolor": "white",
             "startlinecolor": "#2a3f5f"
            },
            "type": "carpet"
           }
          ],
          "choropleth": [
           {
            "colorbar": {
             "outlinewidth": 0,
             "ticks": ""
            },
            "type": "choropleth"
           }
          ],
          "contour": [
           {
            "colorbar": {
             "outlinewidth": 0,
             "ticks": ""
            },
            "colorscale": [
             [
              0,
              "#0d0887"
             ],
             [
              0.1111111111111111,
              "#46039f"
             ],
             [
              0.2222222222222222,
              "#7201a8"
             ],
             [
              0.3333333333333333,
              "#9c179e"
             ],
             [
              0.4444444444444444,
              "#bd3786"
             ],
             [
              0.5555555555555556,
              "#d8576b"
             ],
             [
              0.6666666666666666,
              "#ed7953"
             ],
             [
              0.7777777777777778,
              "#fb9f3a"
             ],
             [
              0.8888888888888888,
              "#fdca26"
             ],
             [
              1,
              "#f0f921"
             ]
            ],
            "type": "contour"
           }
          ],
          "contourcarpet": [
           {
            "colorbar": {
             "outlinewidth": 0,
             "ticks": ""
            },
            "type": "contourcarpet"
           }
          ],
          "heatmap": [
           {
            "colorbar": {
             "outlinewidth": 0,
             "ticks": ""
            },
            "colorscale": [
             [
              0,
              "#0d0887"
             ],
             [
              0.1111111111111111,
              "#46039f"
             ],
             [
              0.2222222222222222,
              "#7201a8"
             ],
             [
              0.3333333333333333,
              "#9c179e"
             ],
             [
              0.4444444444444444,
              "#bd3786"
             ],
             [
              0.5555555555555556,
              "#d8576b"
             ],
             [
              0.6666666666666666,
              "#ed7953"
             ],
             [
              0.7777777777777778,
              "#fb9f3a"
             ],
             [
              0.8888888888888888,
              "#fdca26"
             ],
             [
              1,
              "#f0f921"
             ]
            ],
            "type": "heatmap"
           }
          ],
          "heatmapgl": [
           {
            "colorbar": {
             "outlinewidth": 0,
             "ticks": ""
            },
            "colorscale": [
             [
              0,
              "#0d0887"
             ],
             [
              0.1111111111111111,
              "#46039f"
             ],
             [
              0.2222222222222222,
              "#7201a8"
             ],
             [
              0.3333333333333333,
              "#9c179e"
             ],
             [
              0.4444444444444444,
              "#bd3786"
             ],
             [
              0.5555555555555556,
              "#d8576b"
             ],
             [
              0.6666666666666666,
              "#ed7953"
             ],
             [
              0.7777777777777778,
              "#fb9f3a"
             ],
             [
              0.8888888888888888,
              "#fdca26"
             ],
             [
              1,
              "#f0f921"
             ]
            ],
            "type": "heatmapgl"
           }
          ],
          "histogram": [
           {
            "marker": {
             "pattern": {
              "fillmode": "overlay",
              "size": 10,
              "solidity": 0.2
             }
            },
            "type": "histogram"
           }
          ],
          "histogram2d": [
           {
            "colorbar": {
             "outlinewidth": 0,
             "ticks": ""
            },
            "colorscale": [
             [
              0,
              "#0d0887"
             ],
             [
              0.1111111111111111,
              "#46039f"
             ],
             [
              0.2222222222222222,
              "#7201a8"
             ],
             [
              0.3333333333333333,
              "#9c179e"
             ],
             [
              0.4444444444444444,
              "#bd3786"
             ],
             [
              0.5555555555555556,
              "#d8576b"
             ],
             [
              0.6666666666666666,
              "#ed7953"
             ],
             [
              0.7777777777777778,
              "#fb9f3a"
             ],
             [
              0.8888888888888888,
              "#fdca26"
             ],
             [
              1,
              "#f0f921"
             ]
            ],
            "type": "histogram2d"
           }
          ],
          "histogram2dcontour": [
           {
            "colorbar": {
             "outlinewidth": 0,
             "ticks": ""
            },
            "colorscale": [
             [
              0,
              "#0d0887"
             ],
             [
              0.1111111111111111,
              "#46039f"
             ],
             [
              0.2222222222222222,
              "#7201a8"
             ],
             [
              0.3333333333333333,
              "#9c179e"
             ],
             [
              0.4444444444444444,
              "#bd3786"
             ],
             [
              0.5555555555555556,
              "#d8576b"
             ],
             [
              0.6666666666666666,
              "#ed7953"
             ],
             [
              0.7777777777777778,
              "#fb9f3a"
             ],
             [
              0.8888888888888888,
              "#fdca26"
             ],
             [
              1,
              "#f0f921"
             ]
            ],
            "type": "histogram2dcontour"
           }
          ],
          "mesh3d": [
           {
            "colorbar": {
             "outlinewidth": 0,
             "ticks": ""
            },
            "type": "mesh3d"
           }
          ],
          "parcoords": [
           {
            "line": {
             "colorbar": {
              "outlinewidth": 0,
              "ticks": ""
             }
            },
            "type": "parcoords"
           }
          ],
          "pie": [
           {
            "automargin": true,
            "type": "pie"
           }
          ],
          "scatter": [
           {
            "fillpattern": {
             "fillmode": "overlay",
             "size": 10,
             "solidity": 0.2
            },
            "type": "scatter"
           }
          ],
          "scatter3d": [
           {
            "line": {
             "colorbar": {
              "outlinewidth": 0,
              "ticks": ""
             }
            },
            "marker": {
             "colorbar": {
              "outlinewidth": 0,
              "ticks": ""
             }
            },
            "type": "scatter3d"
           }
          ],
          "scattercarpet": [
           {
            "marker": {
             "colorbar": {
              "outlinewidth": 0,
              "ticks": ""
             }
            },
            "type": "scattercarpet"
           }
          ],
          "scattergeo": [
           {
            "marker": {
             "colorbar": {
              "outlinewidth": 0,
              "ticks": ""
             }
            },
            "type": "scattergeo"
           }
          ],
          "scattergl": [
           {
            "marker": {
             "colorbar": {
              "outlinewidth": 0,
              "ticks": ""
             }
            },
            "type": "scattergl"
           }
          ],
          "scattermapbox": [
           {
            "marker": {
             "colorbar": {
              "outlinewidth": 0,
              "ticks": ""
             }
            },
            "type": "scattermapbox"
           }
          ],
          "scatterpolar": [
           {
            "marker": {
             "colorbar": {
              "outlinewidth": 0,
              "ticks": ""
             }
            },
            "type": "scatterpolar"
           }
          ],
          "scatterpolargl": [
           {
            "marker": {
             "colorbar": {
              "outlinewidth": 0,
              "ticks": ""
             }
            },
            "type": "scatterpolargl"
           }
          ],
          "scatterternary": [
           {
            "marker": {
             "colorbar": {
              "outlinewidth": 0,
              "ticks": ""
             }
            },
            "type": "scatterternary"
           }
          ],
          "surface": [
           {
            "colorbar": {
             "outlinewidth": 0,
             "ticks": ""
            },
            "colorscale": [
             [
              0,
              "#0d0887"
             ],
             [
              0.1111111111111111,
              "#46039f"
             ],
             [
              0.2222222222222222,
              "#7201a8"
             ],
             [
              0.3333333333333333,
              "#9c179e"
             ],
             [
              0.4444444444444444,
              "#bd3786"
             ],
             [
              0.5555555555555556,
              "#d8576b"
             ],
             [
              0.6666666666666666,
              "#ed7953"
             ],
             [
              0.7777777777777778,
              "#fb9f3a"
             ],
             [
              0.8888888888888888,
              "#fdca26"
             ],
             [
              1,
              "#f0f921"
             ]
            ],
            "type": "surface"
           }
          ],
          "table": [
           {
            "cells": {
             "fill": {
              "color": "#EBF0F8"
             },
             "line": {
              "color": "white"
             }
            },
            "header": {
             "fill": {
              "color": "#C8D4E3"
             },
             "line": {
              "color": "white"
             }
            },
            "type": "table"
           }
          ]
         },
         "layout": {
          "annotationdefaults": {
           "arrowcolor": "#2a3f5f",
           "arrowhead": 0,
           "arrowwidth": 1
          },
          "autotypenumbers": "strict",
          "coloraxis": {
           "colorbar": {
            "outlinewidth": 0,
            "ticks": ""
           }
          },
          "colorscale": {
           "diverging": [
            [
             0,
             "#8e0152"
            ],
            [
             0.1,
             "#c51b7d"
            ],
            [
             0.2,
             "#de77ae"
            ],
            [
             0.3,
             "#f1b6da"
            ],
            [
             0.4,
             "#fde0ef"
            ],
            [
             0.5,
             "#f7f7f7"
            ],
            [
             0.6,
             "#e6f5d0"
            ],
            [
             0.7,
             "#b8e186"
            ],
            [
             0.8,
             "#7fbc41"
            ],
            [
             0.9,
             "#4d9221"
            ],
            [
             1,
             "#276419"
            ]
           ],
           "sequential": [
            [
             0,
             "#0d0887"
            ],
            [
             0.1111111111111111,
             "#46039f"
            ],
            [
             0.2222222222222222,
             "#7201a8"
            ],
            [
             0.3333333333333333,
             "#9c179e"
            ],
            [
             0.4444444444444444,
             "#bd3786"
            ],
            [
             0.5555555555555556,
             "#d8576b"
            ],
            [
             0.6666666666666666,
             "#ed7953"
            ],
            [
             0.7777777777777778,
             "#fb9f3a"
            ],
            [
             0.8888888888888888,
             "#fdca26"
            ],
            [
             1,
             "#f0f921"
            ]
           ],
           "sequentialminus": [
            [
             0,
             "#0d0887"
            ],
            [
             0.1111111111111111,
             "#46039f"
            ],
            [
             0.2222222222222222,
             "#7201a8"
            ],
            [
             0.3333333333333333,
             "#9c179e"
            ],
            [
             0.4444444444444444,
             "#bd3786"
            ],
            [
             0.5555555555555556,
             "#d8576b"
            ],
            [
             0.6666666666666666,
             "#ed7953"
            ],
            [
             0.7777777777777778,
             "#fb9f3a"
            ],
            [
             0.8888888888888888,
             "#fdca26"
            ],
            [
             1,
             "#f0f921"
            ]
           ]
          },
          "colorway": [
           "#636efa",
           "#EF553B",
           "#00cc96",
           "#ab63fa",
           "#FFA15A",
           "#19d3f3",
           "#FF6692",
           "#B6E880",
           "#FF97FF",
           "#FECB52"
          ],
          "font": {
           "color": "#2a3f5f"
          },
          "geo": {
           "bgcolor": "white",
           "lakecolor": "white",
           "landcolor": "#E5ECF6",
           "showlakes": true,
           "showland": true,
           "subunitcolor": "white"
          },
          "hoverlabel": {
           "align": "left"
          },
          "hovermode": "closest",
          "mapbox": {
           "style": "light"
          },
          "paper_bgcolor": "white",
          "plot_bgcolor": "#E5ECF6",
          "polar": {
           "angularaxis": {
            "gridcolor": "white",
            "linecolor": "white",
            "ticks": ""
           },
           "bgcolor": "#E5ECF6",
           "radialaxis": {
            "gridcolor": "white",
            "linecolor": "white",
            "ticks": ""
           }
          },
          "scene": {
           "xaxis": {
            "backgroundcolor": "#E5ECF6",
            "gridcolor": "white",
            "gridwidth": 2,
            "linecolor": "white",
            "showbackground": true,
            "ticks": "",
            "zerolinecolor": "white"
           },
           "yaxis": {
            "backgroundcolor": "#E5ECF6",
            "gridcolor": "white",
            "gridwidth": 2,
            "linecolor": "white",
            "showbackground": true,
            "ticks": "",
            "zerolinecolor": "white"
           },
           "zaxis": {
            "backgroundcolor": "#E5ECF6",
            "gridcolor": "white",
            "gridwidth": 2,
            "linecolor": "white",
            "showbackground": true,
            "ticks": "",
            "zerolinecolor": "white"
           }
          },
          "shapedefaults": {
           "line": {
            "color": "#2a3f5f"
           }
          },
          "ternary": {
           "aaxis": {
            "gridcolor": "white",
            "linecolor": "white",
            "ticks": ""
           },
           "baxis": {
            "gridcolor": "white",
            "linecolor": "white",
            "ticks": ""
           },
           "bgcolor": "#E5ECF6",
           "caxis": {
            "gridcolor": "white",
            "linecolor": "white",
            "ticks": ""
           }
          },
          "title": {
           "x": 0.05
          },
          "xaxis": {
           "automargin": true,
           "gridcolor": "white",
           "linecolor": "white",
           "ticks": "",
           "title": {
            "standoff": 15
           },
           "zerolinecolor": "white",
           "zerolinewidth": 2
          },
          "yaxis": {
           "automargin": true,
           "gridcolor": "white",
           "linecolor": "white",
           "ticks": "",
           "title": {
            "standoff": 15
           },
           "zerolinecolor": "white",
           "zerolinewidth": 2
          }
         }
        },
        "xaxis": {
         "anchor": "y",
         "domain": [
          0,
          1
         ],
         "title": {
          "text": "Take_Ons_Per_90"
         }
        },
        "yaxis": {
         "anchor": "x",
         "domain": [
          0,
          1
         ],
         "title": {
          "text": "Take_Ons_Per_100_Touches"
         }
        }
       }
      }
     },
     "metadata": {},
     "output_type": "display_data"
    }
   ],
   "source": [
    "to_plot = duckdb.sql(\"select * from mf_fw where Played_90s > 10\").df()\n",
    "\n",
    "\n",
    "import plotly_express as px\n",
    "\n",
    "\n",
    "\n",
    "fig = px.scatter(to_plot, x=\"Take_Ons_Per_90\", y=\"Take_Ons_Per_100_Touches\", trendline=\"ols\", hover_data = 'Player')\n",
    "fig.show()\n",
    "\n"
   ]
  }
 ],
 "metadata": {
  "kernelspec": {
   "display_name": "Python 3",
   "language": "python",
   "name": "python3"
  },
  "language_info": {
   "codemirror_mode": {
    "name": "ipython",
    "version": 3
   },
   "file_extension": ".py",
   "mimetype": "text/x-python",
   "name": "python",
   "nbconvert_exporter": "python",
   "pygments_lexer": "ipython3",
   "version": "3.11.3"
  }
 },
 "nbformat": 4,
 "nbformat_minor": 2
}
